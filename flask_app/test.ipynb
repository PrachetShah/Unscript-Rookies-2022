{
 "cells": [
  {
   "cell_type": "code",
   "execution_count": 1,
   "metadata": {},
   "outputs": [
    {
     "name": "stdout",
     "output_type": "stream",
     "text": [
      "   Unnamed: 0  type_num     amount    nameOrig  oldbalanceOrg  newbalanceOrig  \\\n",
      "0          15         1  229133.94   905080434       15325.00             0.0   \n",
      "1          42         1  110414.71   768216420       26845.41             0.0   \n",
      "2          47         1   56953.90  1570470538        1942.02             0.0   \n",
      "3          48         1    5346.89   512549200           0.00             0.0   \n",
      "4          51         1   23261.30  2072313080       20411.53             0.0   \n",
      "\n",
      "      nameDest  oldbalanceDest  newbalanceDest  isFraud  \n",
      "0   C476402209          5083.0        51513.44        0  \n",
      "1  C1509514333        288800.0         2415.16        0  \n",
      "2   C824009085         70253.0        64106.18        0  \n",
      "3   C248609774        652637.0      6453430.91        0  \n",
      "4  C2001112025         25742.0            0.00        0  \n"
     ]
    }
   ],
   "source": [
    "import pandas as pd\n",
    "\n",
    "df1 = pd.read_csv(\"model\\\\fraud_data1_1_1.csv\")\n",
    "df2 = pd.read_csv(\"model\\\\fraud_data1_1_2.csv\")\n",
    "df3 = pd.read_csv(\"model\\\\fraud_data2.csv\")\n",
    "\n",
    "df = pd.concat([df1,df2,df3])\n",
    "print(df.head())"
   ]
  },
  {
   "cell_type": "code",
   "execution_count": 4,
   "metadata": {},
   "outputs": [
    {
     "data": {
      "text/html": [
       "<div>\n",
       "<style scoped>\n",
       "    .dataframe tbody tr th:only-of-type {\n",
       "        vertical-align: middle;\n",
       "    }\n",
       "\n",
       "    .dataframe tbody tr th {\n",
       "        vertical-align: top;\n",
       "    }\n",
       "\n",
       "    .dataframe thead th {\n",
       "        text-align: right;\n",
       "    }\n",
       "</style>\n",
       "<table border=\"1\" class=\"dataframe\">\n",
       "  <thead>\n",
       "    <tr style=\"text-align: right;\">\n",
       "      <th></th>\n",
       "      <th>Unnamed: 0</th>\n",
       "      <th>type_num</th>\n",
       "      <th>amount</th>\n",
       "      <th>nameOrig</th>\n",
       "      <th>oldbalanceOrg</th>\n",
       "      <th>newbalanceOrig</th>\n",
       "      <th>nameDest</th>\n",
       "      <th>oldbalanceDest</th>\n",
       "      <th>newbalanceDest</th>\n",
       "      <th>isFraud</th>\n",
       "    </tr>\n",
       "  </thead>\n",
       "  <tbody>\n",
       "    <tr>\n",
       "      <th>0</th>\n",
       "      <td>15</td>\n",
       "      <td>1</td>\n",
       "      <td>229133.94</td>\n",
       "      <td>905080434</td>\n",
       "      <td>15325.0</td>\n",
       "      <td>0.0</td>\n",
       "      <td>C476402209</td>\n",
       "      <td>5083.0</td>\n",
       "      <td>51513.44</td>\n",
       "      <td>0</td>\n",
       "    </tr>\n",
       "  </tbody>\n",
       "</table>\n",
       "</div>"
      ],
      "text/plain": [
       "   Unnamed: 0  type_num     amount   nameOrig  oldbalanceOrg  newbalanceOrig  \\\n",
       "0          15         1  229133.94  905080434        15325.0             0.0   \n",
       "\n",
       "     nameDest  oldbalanceDest  newbalanceDest  isFraud  \n",
       "0  C476402209          5083.0        51513.44        0  "
      ]
     },
     "execution_count": 4,
     "metadata": {},
     "output_type": "execute_result"
    }
   ],
   "source": [
    "id = 905080434\n",
    "row = df.loc[df['nameOrig']==id]\n",
    "#df.loc[df['nameOrig'] == 'C1231006815']\n",
    "row"
   ]
  },
  {
   "cell_type": "code",
   "execution_count": 19,
   "metadata": {},
   "outputs": [
    {
     "name": "stdout",
     "output_type": "stream",
     "text": [
      "[1, 229133.94, 905080434, 15325.0, 0.0, 5083.0, 51513.44]\n"
     ]
    }
   ],
   "source": [
    "print(list(row.iloc[0,[1,2,3,4,5,7,8]]))"
   ]
  },
  {
   "cell_type": "code",
   "execution_count": null,
   "metadata": {},
   "outputs": [],
   "source": []
  }
 ],
 "metadata": {
  "interpreter": {
   "hash": "af8227062610e2aa0e00f43e7350a8ddf33718cd2eeb122de0d27314b96416f3"
  },
  "kernelspec": {
   "display_name": "Python 3.8.8 64-bit",
   "language": "python",
   "name": "python3"
  },
  "language_info": {
   "codemirror_mode": {
    "name": "ipython",
    "version": 3
   },
   "file_extension": ".py",
   "mimetype": "text/x-python",
   "name": "python",
   "nbconvert_exporter": "python",
   "pygments_lexer": "ipython3",
   "version": "3.8.8"
  },
  "orig_nbformat": 4
 },
 "nbformat": 4,
 "nbformat_minor": 2
}
