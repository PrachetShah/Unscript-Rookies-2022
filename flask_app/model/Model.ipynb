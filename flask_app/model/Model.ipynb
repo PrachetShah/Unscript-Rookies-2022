{
 "cells": [
  {
   "cell_type": "markdown",
   "id": "3cdeabd0",
   "metadata": {},
   "source": [
    "### EDA "
   ]
  },
  {
   "cell_type": "code",
   "execution_count": 1,
   "id": "7004d957",
   "metadata": {},
   "outputs": [],
   "source": [
    "# Importing the libraries\n",
    "import numpy as np\n",
    "import matplotlib.pyplot as plt\n",
    "import pandas as pd"
   ]
  },
  {
   "cell_type": "code",
   "execution_count": 2,
   "id": "fea47cbb",
   "metadata": {},
   "outputs": [
    {
     "data": {
      "text/html": [
       "<div>\n",
       "<style scoped>\n",
       "    .dataframe tbody tr th:only-of-type {\n",
       "        vertical-align: middle;\n",
       "    }\n",
       "\n",
       "    .dataframe tbody tr th {\n",
       "        vertical-align: top;\n",
       "    }\n",
       "\n",
       "    .dataframe thead th {\n",
       "        text-align: right;\n",
       "    }\n",
       "</style>\n",
       "<table border=\"1\" class=\"dataframe\">\n",
       "  <thead>\n",
       "    <tr style=\"text-align: right;\">\n",
       "      <th></th>\n",
       "      <th>step</th>\n",
       "      <th>type</th>\n",
       "      <th>amount</th>\n",
       "      <th>nameOrig</th>\n",
       "      <th>oldbalanceOrg</th>\n",
       "      <th>newbalanceOrig</th>\n",
       "      <th>nameDest</th>\n",
       "      <th>oldbalanceDest</th>\n",
       "      <th>newbalanceDest</th>\n",
       "      <th>isFraud</th>\n",
       "      <th>isFlaggedFraud</th>\n",
       "    </tr>\n",
       "  </thead>\n",
       "  <tbody>\n",
       "    <tr>\n",
       "      <th>0</th>\n",
       "      <td>1</td>\n",
       "      <td>PAYMENT</td>\n",
       "      <td>9839.64</td>\n",
       "      <td>C1231006815</td>\n",
       "      <td>170136.0</td>\n",
       "      <td>160296.36</td>\n",
       "      <td>M1979787155</td>\n",
       "      <td>0.0</td>\n",
       "      <td>0.0</td>\n",
       "      <td>0</td>\n",
       "      <td>0</td>\n",
       "    </tr>\n",
       "    <tr>\n",
       "      <th>1</th>\n",
       "      <td>1</td>\n",
       "      <td>PAYMENT</td>\n",
       "      <td>1864.28</td>\n",
       "      <td>C1666544295</td>\n",
       "      <td>21249.0</td>\n",
       "      <td>19384.72</td>\n",
       "      <td>M2044282225</td>\n",
       "      <td>0.0</td>\n",
       "      <td>0.0</td>\n",
       "      <td>0</td>\n",
       "      <td>0</td>\n",
       "    </tr>\n",
       "    <tr>\n",
       "      <th>2</th>\n",
       "      <td>1</td>\n",
       "      <td>TRANSFER</td>\n",
       "      <td>181.00</td>\n",
       "      <td>C1305486145</td>\n",
       "      <td>181.0</td>\n",
       "      <td>0.00</td>\n",
       "      <td>C553264065</td>\n",
       "      <td>0.0</td>\n",
       "      <td>0.0</td>\n",
       "      <td>1</td>\n",
       "      <td>0</td>\n",
       "    </tr>\n",
       "    <tr>\n",
       "      <th>3</th>\n",
       "      <td>1</td>\n",
       "      <td>CASH_OUT</td>\n",
       "      <td>181.00</td>\n",
       "      <td>C840083671</td>\n",
       "      <td>181.0</td>\n",
       "      <td>0.00</td>\n",
       "      <td>C38997010</td>\n",
       "      <td>21182.0</td>\n",
       "      <td>0.0</td>\n",
       "      <td>1</td>\n",
       "      <td>0</td>\n",
       "    </tr>\n",
       "    <tr>\n",
       "      <th>4</th>\n",
       "      <td>1</td>\n",
       "      <td>PAYMENT</td>\n",
       "      <td>11668.14</td>\n",
       "      <td>C2048537720</td>\n",
       "      <td>41554.0</td>\n",
       "      <td>29885.86</td>\n",
       "      <td>M1230701703</td>\n",
       "      <td>0.0</td>\n",
       "      <td>0.0</td>\n",
       "      <td>0</td>\n",
       "      <td>0</td>\n",
       "    </tr>\n",
       "  </tbody>\n",
       "</table>\n",
       "</div>"
      ],
      "text/plain": [
       "   step      type    amount     nameOrig  oldbalanceOrg  newbalanceOrig  \\\n",
       "0     1   PAYMENT   9839.64  C1231006815       170136.0       160296.36   \n",
       "1     1   PAYMENT   1864.28  C1666544295        21249.0        19384.72   \n",
       "2     1  TRANSFER    181.00  C1305486145          181.0            0.00   \n",
       "3     1  CASH_OUT    181.00   C840083671          181.0            0.00   \n",
       "4     1   PAYMENT  11668.14  C2048537720        41554.0        29885.86   \n",
       "\n",
       "      nameDest  oldbalanceDest  newbalanceDest  isFraud  isFlaggedFraud  \n",
       "0  M1979787155             0.0             0.0        0               0  \n",
       "1  M2044282225             0.0             0.0        0               0  \n",
       "2   C553264065             0.0             0.0        1               0  \n",
       "3    C38997010         21182.0             0.0        1               0  \n",
       "4  M1230701703             0.0             0.0        0               0  "
      ]
     },
     "execution_count": 2,
     "metadata": {},
     "output_type": "execute_result"
    }
   ],
   "source": [
    "# Importing the dataset\n",
    "dataset = pd.read_csv('AIML Dataset.csv')\n",
    "dataset.head()"
   ]
  },
  {
   "cell_type": "code",
   "execution_count": 3,
   "id": "15eca190",
   "metadata": {},
   "outputs": [
    {
     "data": {
      "text/plain": [
       "(6362620, 11)"
      ]
     },
     "execution_count": 3,
     "metadata": {},
     "output_type": "execute_result"
    }
   ],
   "source": [
    "dataset.shape"
   ]
  },
  {
   "cell_type": "code",
   "execution_count": 4,
   "id": "ba722fd6",
   "metadata": {},
   "outputs": [
    {
     "data": {
      "text/plain": [
       "Index(['step', 'type', 'amount', 'nameOrig', 'oldbalanceOrg', 'newbalanceOrig',\n",
       "       'nameDest', 'oldbalanceDest', 'newbalanceDest', 'isFraud',\n",
       "       'isFlaggedFraud'],\n",
       "      dtype='object')"
      ]
     },
     "execution_count": 4,
     "metadata": {},
     "output_type": "execute_result"
    }
   ],
   "source": [
    "dataset.columns"
   ]
  },
  {
   "cell_type": "code",
   "execution_count": 5,
   "id": "a1667e8e",
   "metadata": {},
   "outputs": [
    {
     "data": {
      "text/plain": [
       "False"
      ]
     },
     "execution_count": 5,
     "metadata": {},
     "output_type": "execute_result"
    }
   ],
   "source": [
    "# Used to find if dataset has any missing values\n",
    "dataset.isna().sum().any()"
   ]
  },
  {
   "cell_type": "code",
   "execution_count": 6,
   "id": "4d64f619",
   "metadata": {},
   "outputs": [
    {
     "name": "stdout",
     "output_type": "stream",
     "text": [
      "<class 'pandas.core.frame.DataFrame'>\n",
      "RangeIndex: 6362620 entries, 0 to 6362619\n",
      "Data columns (total 11 columns):\n",
      " #   Column          Dtype  \n",
      "---  ------          -----  \n",
      " 0   step            int64  \n",
      " 1   type            object \n",
      " 2   amount          float64\n",
      " 3   nameOrig        object \n",
      " 4   oldbalanceOrg   float64\n",
      " 5   newbalanceOrig  float64\n",
      " 6   nameDest        object \n",
      " 7   oldbalanceDest  float64\n",
      " 8   newbalanceDest  float64\n",
      " 9   isFraud         int64  \n",
      " 10  isFlaggedFraud  int64  \n",
      "dtypes: float64(5), int64(3), object(3)\n",
      "memory usage: 534.0+ MB\n"
     ]
    }
   ],
   "source": [
    "dataset.info()"
   ]
  },
  {
   "cell_type": "code",
   "execution_count": 7,
   "id": "8634cb35",
   "metadata": {},
   "outputs": [
    {
     "data": {
      "text/html": [
       "<div>\n",
       "<style scoped>\n",
       "    .dataframe tbody tr th:only-of-type {\n",
       "        vertical-align: middle;\n",
       "    }\n",
       "\n",
       "    .dataframe tbody tr th {\n",
       "        vertical-align: top;\n",
       "    }\n",
       "\n",
       "    .dataframe thead th {\n",
       "        text-align: right;\n",
       "    }\n",
       "</style>\n",
       "<table border=\"1\" class=\"dataframe\">\n",
       "  <thead>\n",
       "    <tr style=\"text-align: right;\">\n",
       "      <th></th>\n",
       "      <th>step</th>\n",
       "      <th>amount</th>\n",
       "      <th>oldbalanceOrg</th>\n",
       "      <th>newbalanceOrig</th>\n",
       "      <th>oldbalanceDest</th>\n",
       "      <th>newbalanceDest</th>\n",
       "      <th>isFraud</th>\n",
       "      <th>isFlaggedFraud</th>\n",
       "    </tr>\n",
       "  </thead>\n",
       "  <tbody>\n",
       "    <tr>\n",
       "      <th>count</th>\n",
       "      <td>6.362620e+06</td>\n",
       "      <td>6.362620e+06</td>\n",
       "      <td>6.362620e+06</td>\n",
       "      <td>6.362620e+06</td>\n",
       "      <td>6.362620e+06</td>\n",
       "      <td>6.362620e+06</td>\n",
       "      <td>6.362620e+06</td>\n",
       "      <td>6.362620e+06</td>\n",
       "    </tr>\n",
       "    <tr>\n",
       "      <th>mean</th>\n",
       "      <td>2.433972e+02</td>\n",
       "      <td>1.798619e+05</td>\n",
       "      <td>8.338831e+05</td>\n",
       "      <td>8.551137e+05</td>\n",
       "      <td>1.100702e+06</td>\n",
       "      <td>1.224996e+06</td>\n",
       "      <td>1.290820e-03</td>\n",
       "      <td>2.514687e-06</td>\n",
       "    </tr>\n",
       "    <tr>\n",
       "      <th>std</th>\n",
       "      <td>1.423320e+02</td>\n",
       "      <td>6.038582e+05</td>\n",
       "      <td>2.888243e+06</td>\n",
       "      <td>2.924049e+06</td>\n",
       "      <td>3.399180e+06</td>\n",
       "      <td>3.674129e+06</td>\n",
       "      <td>3.590480e-02</td>\n",
       "      <td>1.585775e-03</td>\n",
       "    </tr>\n",
       "    <tr>\n",
       "      <th>min</th>\n",
       "      <td>1.000000e+00</td>\n",
       "      <td>0.000000e+00</td>\n",
       "      <td>0.000000e+00</td>\n",
       "      <td>0.000000e+00</td>\n",
       "      <td>0.000000e+00</td>\n",
       "      <td>0.000000e+00</td>\n",
       "      <td>0.000000e+00</td>\n",
       "      <td>0.000000e+00</td>\n",
       "    </tr>\n",
       "    <tr>\n",
       "      <th>25%</th>\n",
       "      <td>1.560000e+02</td>\n",
       "      <td>1.338957e+04</td>\n",
       "      <td>0.000000e+00</td>\n",
       "      <td>0.000000e+00</td>\n",
       "      <td>0.000000e+00</td>\n",
       "      <td>0.000000e+00</td>\n",
       "      <td>0.000000e+00</td>\n",
       "      <td>0.000000e+00</td>\n",
       "    </tr>\n",
       "    <tr>\n",
       "      <th>50%</th>\n",
       "      <td>2.390000e+02</td>\n",
       "      <td>7.487194e+04</td>\n",
       "      <td>1.420800e+04</td>\n",
       "      <td>0.000000e+00</td>\n",
       "      <td>1.327057e+05</td>\n",
       "      <td>2.146614e+05</td>\n",
       "      <td>0.000000e+00</td>\n",
       "      <td>0.000000e+00</td>\n",
       "    </tr>\n",
       "    <tr>\n",
       "      <th>75%</th>\n",
       "      <td>3.350000e+02</td>\n",
       "      <td>2.087215e+05</td>\n",
       "      <td>1.073152e+05</td>\n",
       "      <td>1.442584e+05</td>\n",
       "      <td>9.430367e+05</td>\n",
       "      <td>1.111909e+06</td>\n",
       "      <td>0.000000e+00</td>\n",
       "      <td>0.000000e+00</td>\n",
       "    </tr>\n",
       "    <tr>\n",
       "      <th>max</th>\n",
       "      <td>7.430000e+02</td>\n",
       "      <td>9.244552e+07</td>\n",
       "      <td>5.958504e+07</td>\n",
       "      <td>4.958504e+07</td>\n",
       "      <td>3.560159e+08</td>\n",
       "      <td>3.561793e+08</td>\n",
       "      <td>1.000000e+00</td>\n",
       "      <td>1.000000e+00</td>\n",
       "    </tr>\n",
       "  </tbody>\n",
       "</table>\n",
       "</div>"
      ],
      "text/plain": [
       "               step        amount  oldbalanceOrg  newbalanceOrig  \\\n",
       "count  6.362620e+06  6.362620e+06   6.362620e+06    6.362620e+06   \n",
       "mean   2.433972e+02  1.798619e+05   8.338831e+05    8.551137e+05   \n",
       "std    1.423320e+02  6.038582e+05   2.888243e+06    2.924049e+06   \n",
       "min    1.000000e+00  0.000000e+00   0.000000e+00    0.000000e+00   \n",
       "25%    1.560000e+02  1.338957e+04   0.000000e+00    0.000000e+00   \n",
       "50%    2.390000e+02  7.487194e+04   1.420800e+04    0.000000e+00   \n",
       "75%    3.350000e+02  2.087215e+05   1.073152e+05    1.442584e+05   \n",
       "max    7.430000e+02  9.244552e+07   5.958504e+07    4.958504e+07   \n",
       "\n",
       "       oldbalanceDest  newbalanceDest       isFraud  isFlaggedFraud  \n",
       "count    6.362620e+06    6.362620e+06  6.362620e+06    6.362620e+06  \n",
       "mean     1.100702e+06    1.224996e+06  1.290820e-03    2.514687e-06  \n",
       "std      3.399180e+06    3.674129e+06  3.590480e-02    1.585775e-03  \n",
       "min      0.000000e+00    0.000000e+00  0.000000e+00    0.000000e+00  \n",
       "25%      0.000000e+00    0.000000e+00  0.000000e+00    0.000000e+00  \n",
       "50%      1.327057e+05    2.146614e+05  0.000000e+00    0.000000e+00  \n",
       "75%      9.430367e+05    1.111909e+06  0.000000e+00    0.000000e+00  \n",
       "max      3.560159e+08    3.561793e+08  1.000000e+00    1.000000e+00  "
      ]
     },
     "execution_count": 7,
     "metadata": {},
     "output_type": "execute_result"
    }
   ],
   "source": [
    "dataset.describe()"
   ]
  },
  {
   "cell_type": "code",
   "execution_count": 8,
   "id": "0922499f",
   "metadata": {},
   "outputs": [
    {
     "data": {
      "text/plain": [
       "0    6354407\n",
       "1       8213\n",
       "Name: isFraud, dtype: int64"
      ]
     },
     "execution_count": 8,
     "metadata": {},
     "output_type": "execute_result"
    }
   ],
   "source": [
    "dataset.isFraud.value_counts()"
   ]
  },
  {
   "cell_type": "code",
   "execution_count": 9,
   "id": "eb8563fe",
   "metadata": {},
   "outputs": [
    {
     "data": {
      "text/plain": [
       "CASH_OUT    2237500\n",
       "PAYMENT     2151495\n",
       "CASH_IN     1399284\n",
       "TRANSFER     532909\n",
       "DEBIT         41432\n",
       "Name: type, dtype: int64"
      ]
     },
     "execution_count": 9,
     "metadata": {},
     "output_type": "execute_result"
    }
   ],
   "source": [
    "dataset.type.value_counts()"
   ]
  },
  {
   "cell_type": "code",
   "execution_count": 10,
   "id": "03f37de7",
   "metadata": {},
   "outputs": [
    {
     "name": "stdout",
     "output_type": "stream",
     "text": [
      "4116\n",
      "0\n",
      "0\n",
      "4097\n",
      "0\n"
     ]
    }
   ],
   "source": [
    "# Finding which categories have most frauds\n",
    "dfFraudCash_Out = dataset.loc[(dataset.isFraud == 1) & (dataset.type == 'CASH_OUT')]\n",
    "dfFraudPayment = dataset.loc[(dataset.isFraud == 1) & (dataset.type == 'PAYMENT')]\n",
    "dfFraudCash_in = dataset.loc[(dataset.isFraud == 1) & (dataset.type == 'CASH_IN')]\n",
    "dfFraudTransfer = dataset.loc[(dataset.isFraud == 1) & (dataset.type == 'TRANSFER')]\n",
    "dfFraudDebit = dataset.loc[(dataset.isFraud == 1) & (dataset.type == 'DEBIT')]\n",
    "\n",
    "print(len(dfFraudCash_Out))\n",
    "print(len(dfFraudPayment))\n",
    "print(len(dfFraudCash_in))\n",
    "print(len(dfFraudTransfer))\n",
    "print(len(dfFraudDebit))"
   ]
  },
  {
   "cell_type": "code",
   "execution_count": 11,
   "id": "2b178ee2",
   "metadata": {},
   "outputs": [],
   "source": [
    "# we will be taking only these types into our data for analysis as they are the only one which have fraudulent transactions\n",
    "fraud_cashout = dataset.loc[(dataset.isFraud == 1) & (dataset['type'] == 'CASH_OUT')]\n",
    "fraud_transfer = dataset.loc[(dataset.isFraud == 1) & (dataset['type'] == 'TRANSFER')]"
   ]
  },
  {
   "cell_type": "code",
   "execution_count": 12,
   "id": "ec27110e",
   "metadata": {},
   "outputs": [
    {
     "name": "stdout",
     "output_type": "stream",
     "text": [
      "2233384\n",
      "528812\n"
     ]
    }
   ],
   "source": [
    "# finding how many not fraudulent transactions cash out and transfers have\n",
    "dfnotFraudCash_Out = dataset.loc[(dataset.isFraud == 0) & (dataset.type == 'CASH_OUT')]\n",
    "dfnotFraudTransfer = dataset.loc[(dataset.isFraud == 0) & (dataset.type == 'TRANSFER')]\n",
    "\n",
    "print(len(dfnotFraudCash_Out))\n",
    "print(len(dfnotFraudTransfer))"
   ]
  },
  {
   "cell_type": "code",
   "execution_count": 13,
   "id": "f4fc18ce",
   "metadata": {},
   "outputs": [],
   "source": [
    "#reshaping the data randomly to balance the dataset and reduce overfitting\n",
    "data1 = dataset.loc[(dataset.isFraud == 0) & (dataset['type'] == 'CASH_OUT')].sample(frac=0.002)\n",
    "data2 = dataset.loc[(dataset.isFraud == 0) & (dataset['type'] == 'TRANSFER')].sample(frac=0.008)"
   ]
  },
  {
   "cell_type": "code",
   "execution_count": 14,
   "id": "ba2be64e",
   "metadata": {},
   "outputs": [
    {
     "data": {
      "text/html": [
       "<div>\n",
       "<style scoped>\n",
       "    .dataframe tbody tr th:only-of-type {\n",
       "        vertical-align: middle;\n",
       "    }\n",
       "\n",
       "    .dataframe tbody tr th {\n",
       "        vertical-align: top;\n",
       "    }\n",
       "\n",
       "    .dataframe thead th {\n",
       "        text-align: right;\n",
       "    }\n",
       "</style>\n",
       "<table border=\"1\" class=\"dataframe\">\n",
       "  <thead>\n",
       "    <tr style=\"text-align: right;\">\n",
       "      <th></th>\n",
       "      <th>step</th>\n",
       "      <th>type</th>\n",
       "      <th>amount</th>\n",
       "      <th>nameOrig</th>\n",
       "      <th>oldbalanceOrg</th>\n",
       "      <th>newbalanceOrig</th>\n",
       "      <th>nameDest</th>\n",
       "      <th>oldbalanceDest</th>\n",
       "      <th>newbalanceDest</th>\n",
       "      <th>isFraud</th>\n",
       "      <th>isFlaggedFraud</th>\n",
       "    </tr>\n",
       "  </thead>\n",
       "  <tbody>\n",
       "    <tr>\n",
       "      <th>5295083</th>\n",
       "      <td>373</td>\n",
       "      <td>CASH_OUT</td>\n",
       "      <td>5462.76</td>\n",
       "      <td>C608215523</td>\n",
       "      <td>21520.0</td>\n",
       "      <td>16057.24</td>\n",
       "      <td>C1348437140</td>\n",
       "      <td>0.00</td>\n",
       "      <td>5462.76</td>\n",
       "      <td>0</td>\n",
       "      <td>0</td>\n",
       "    </tr>\n",
       "    <tr>\n",
       "      <th>3161785</th>\n",
       "      <td>237</td>\n",
       "      <td>CASH_OUT</td>\n",
       "      <td>102033.37</td>\n",
       "      <td>C1776278511</td>\n",
       "      <td>97440.0</td>\n",
       "      <td>0.00</td>\n",
       "      <td>C1277092885</td>\n",
       "      <td>2390323.95</td>\n",
       "      <td>2492357.32</td>\n",
       "      <td>0</td>\n",
       "      <td>0</td>\n",
       "    </tr>\n",
       "    <tr>\n",
       "      <th>4433368</th>\n",
       "      <td>322</td>\n",
       "      <td>CASH_OUT</td>\n",
       "      <td>189250.59</td>\n",
       "      <td>C19481055</td>\n",
       "      <td>9949.0</td>\n",
       "      <td>0.00</td>\n",
       "      <td>C347626060</td>\n",
       "      <td>1052503.61</td>\n",
       "      <td>1241754.20</td>\n",
       "      <td>0</td>\n",
       "      <td>0</td>\n",
       "    </tr>\n",
       "    <tr>\n",
       "      <th>318068</th>\n",
       "      <td>16</td>\n",
       "      <td>CASH_OUT</td>\n",
       "      <td>18560.87</td>\n",
       "      <td>C1390341946</td>\n",
       "      <td>11502.0</td>\n",
       "      <td>0.00</td>\n",
       "      <td>C1810024103</td>\n",
       "      <td>21364.00</td>\n",
       "      <td>39924.87</td>\n",
       "      <td>0</td>\n",
       "      <td>0</td>\n",
       "    </tr>\n",
       "    <tr>\n",
       "      <th>168067</th>\n",
       "      <td>12</td>\n",
       "      <td>CASH_OUT</td>\n",
       "      <td>243991.25</td>\n",
       "      <td>C868558230</td>\n",
       "      <td>0.0</td>\n",
       "      <td>0.00</td>\n",
       "      <td>C1219538254</td>\n",
       "      <td>684131.15</td>\n",
       "      <td>1757120.50</td>\n",
       "      <td>0</td>\n",
       "      <td>0</td>\n",
       "    </tr>\n",
       "    <tr>\n",
       "      <th>...</th>\n",
       "      <td>...</td>\n",
       "      <td>...</td>\n",
       "      <td>...</td>\n",
       "      <td>...</td>\n",
       "      <td>...</td>\n",
       "      <td>...</td>\n",
       "      <td>...</td>\n",
       "      <td>...</td>\n",
       "      <td>...</td>\n",
       "      <td>...</td>\n",
       "      <td>...</td>\n",
       "    </tr>\n",
       "    <tr>\n",
       "      <th>4933068</th>\n",
       "      <td>350</td>\n",
       "      <td>CASH_OUT</td>\n",
       "      <td>196253.74</td>\n",
       "      <td>C2001401394</td>\n",
       "      <td>0.0</td>\n",
       "      <td>0.00</td>\n",
       "      <td>C1654916677</td>\n",
       "      <td>5994064.41</td>\n",
       "      <td>6190318.15</td>\n",
       "      <td>0</td>\n",
       "      <td>0</td>\n",
       "    </tr>\n",
       "    <tr>\n",
       "      <th>436985</th>\n",
       "      <td>18</td>\n",
       "      <td>CASH_OUT</td>\n",
       "      <td>169973.92</td>\n",
       "      <td>C2052604750</td>\n",
       "      <td>81928.0</td>\n",
       "      <td>0.00</td>\n",
       "      <td>C500967627</td>\n",
       "      <td>21834.00</td>\n",
       "      <td>0.00</td>\n",
       "      <td>0</td>\n",
       "      <td>0</td>\n",
       "    </tr>\n",
       "    <tr>\n",
       "      <th>5463058</th>\n",
       "      <td>379</td>\n",
       "      <td>CASH_OUT</td>\n",
       "      <td>179851.75</td>\n",
       "      <td>C1638412817</td>\n",
       "      <td>10400.0</td>\n",
       "      <td>0.00</td>\n",
       "      <td>C867882588</td>\n",
       "      <td>35750.62</td>\n",
       "      <td>215602.37</td>\n",
       "      <td>0</td>\n",
       "      <td>0</td>\n",
       "    </tr>\n",
       "    <tr>\n",
       "      <th>2842019</th>\n",
       "      <td>226</td>\n",
       "      <td>CASH_OUT</td>\n",
       "      <td>341030.31</td>\n",
       "      <td>C2055542123</td>\n",
       "      <td>8285.0</td>\n",
       "      <td>0.00</td>\n",
       "      <td>C863577465</td>\n",
       "      <td>6484.37</td>\n",
       "      <td>347514.69</td>\n",
       "      <td>0</td>\n",
       "      <td>0</td>\n",
       "    </tr>\n",
       "    <tr>\n",
       "      <th>6353356</th>\n",
       "      <td>705</td>\n",
       "      <td>CASH_OUT</td>\n",
       "      <td>59159.32</td>\n",
       "      <td>C664788355</td>\n",
       "      <td>229702.0</td>\n",
       "      <td>170542.68</td>\n",
       "      <td>C105822705</td>\n",
       "      <td>820794.47</td>\n",
       "      <td>879953.79</td>\n",
       "      <td>0</td>\n",
       "      <td>0</td>\n",
       "    </tr>\n",
       "  </tbody>\n",
       "</table>\n",
       "<p>4467 rows × 11 columns</p>\n",
       "</div>"
      ],
      "text/plain": [
       "         step      type     amount     nameOrig  oldbalanceOrg  \\\n",
       "5295083   373  CASH_OUT    5462.76   C608215523        21520.0   \n",
       "3161785   237  CASH_OUT  102033.37  C1776278511        97440.0   \n",
       "4433368   322  CASH_OUT  189250.59    C19481055         9949.0   \n",
       "318068     16  CASH_OUT   18560.87  C1390341946        11502.0   \n",
       "168067     12  CASH_OUT  243991.25   C868558230            0.0   \n",
       "...       ...       ...        ...          ...            ...   \n",
       "4933068   350  CASH_OUT  196253.74  C2001401394            0.0   \n",
       "436985     18  CASH_OUT  169973.92  C2052604750        81928.0   \n",
       "5463058   379  CASH_OUT  179851.75  C1638412817        10400.0   \n",
       "2842019   226  CASH_OUT  341030.31  C2055542123         8285.0   \n",
       "6353356   705  CASH_OUT   59159.32   C664788355       229702.0   \n",
       "\n",
       "         newbalanceOrig     nameDest  oldbalanceDest  newbalanceDest  isFraud  \\\n",
       "5295083        16057.24  C1348437140            0.00         5462.76        0   \n",
       "3161785            0.00  C1277092885      2390323.95      2492357.32        0   \n",
       "4433368            0.00   C347626060      1052503.61      1241754.20        0   \n",
       "318068             0.00  C1810024103        21364.00        39924.87        0   \n",
       "168067             0.00  C1219538254       684131.15      1757120.50        0   \n",
       "...                 ...          ...             ...             ...      ...   \n",
       "4933068            0.00  C1654916677      5994064.41      6190318.15        0   \n",
       "436985             0.00   C500967627        21834.00            0.00        0   \n",
       "5463058            0.00   C867882588        35750.62       215602.37        0   \n",
       "2842019            0.00   C863577465         6484.37       347514.69        0   \n",
       "6353356       170542.68   C105822705       820794.47       879953.79        0   \n",
       "\n",
       "         isFlaggedFraud  \n",
       "5295083               0  \n",
       "3161785               0  \n",
       "4433368               0  \n",
       "318068                0  \n",
       "168067                0  \n",
       "...                 ...  \n",
       "4933068               0  \n",
       "436985                0  \n",
       "5463058               0  \n",
       "2842019               0  \n",
       "6353356               0  \n",
       "\n",
       "[4467 rows x 11 columns]"
      ]
     },
     "execution_count": 14,
     "metadata": {},
     "output_type": "execute_result"
    }
   ],
   "source": [
    "data1"
   ]
  },
  {
   "cell_type": "code",
   "execution_count": 15,
   "id": "f76972ff",
   "metadata": {},
   "outputs": [
    {
     "data": {
      "text/html": [
       "<div>\n",
       "<style scoped>\n",
       "    .dataframe tbody tr th:only-of-type {\n",
       "        vertical-align: middle;\n",
       "    }\n",
       "\n",
       "    .dataframe tbody tr th {\n",
       "        vertical-align: top;\n",
       "    }\n",
       "\n",
       "    .dataframe thead th {\n",
       "        text-align: right;\n",
       "    }\n",
       "</style>\n",
       "<table border=\"1\" class=\"dataframe\">\n",
       "  <thead>\n",
       "    <tr style=\"text-align: right;\">\n",
       "      <th></th>\n",
       "      <th>step</th>\n",
       "      <th>type</th>\n",
       "      <th>amount</th>\n",
       "      <th>nameOrig</th>\n",
       "      <th>oldbalanceOrg</th>\n",
       "      <th>newbalanceOrig</th>\n",
       "      <th>nameDest</th>\n",
       "      <th>oldbalanceDest</th>\n",
       "      <th>newbalanceDest</th>\n",
       "      <th>isFraud</th>\n",
       "      <th>isFlaggedFraud</th>\n",
       "    </tr>\n",
       "  </thead>\n",
       "  <tbody>\n",
       "    <tr>\n",
       "      <th>4206018</th>\n",
       "      <td>305</td>\n",
       "      <td>TRANSFER</td>\n",
       "      <td>8171787.77</td>\n",
       "      <td>C868622053</td>\n",
       "      <td>5004.0</td>\n",
       "      <td>0.00</td>\n",
       "      <td>C1088501262</td>\n",
       "      <td>423768.94</td>\n",
       "      <td>8595556.71</td>\n",
       "      <td>0</td>\n",
       "      <td>0</td>\n",
       "    </tr>\n",
       "    <tr>\n",
       "      <th>1833991</th>\n",
       "      <td>163</td>\n",
       "      <td>TRANSFER</td>\n",
       "      <td>264125.12</td>\n",
       "      <td>C710203377</td>\n",
       "      <td>0.0</td>\n",
       "      <td>0.00</td>\n",
       "      <td>C1139061328</td>\n",
       "      <td>859109.88</td>\n",
       "      <td>1123235.01</td>\n",
       "      <td>0</td>\n",
       "      <td>0</td>\n",
       "    </tr>\n",
       "    <tr>\n",
       "      <th>6157578</th>\n",
       "      <td>548</td>\n",
       "      <td>TRANSFER</td>\n",
       "      <td>51517.32</td>\n",
       "      <td>C1620463147</td>\n",
       "      <td>5584.0</td>\n",
       "      <td>0.00</td>\n",
       "      <td>C2095654925</td>\n",
       "      <td>253500.90</td>\n",
       "      <td>305018.22</td>\n",
       "      <td>0</td>\n",
       "      <td>0</td>\n",
       "    </tr>\n",
       "    <tr>\n",
       "      <th>1742819</th>\n",
       "      <td>161</td>\n",
       "      <td>TRANSFER</td>\n",
       "      <td>132075.73</td>\n",
       "      <td>C1983847657</td>\n",
       "      <td>0.0</td>\n",
       "      <td>0.00</td>\n",
       "      <td>C2078636125</td>\n",
       "      <td>476335.66</td>\n",
       "      <td>1019172.09</td>\n",
       "      <td>0</td>\n",
       "      <td>0</td>\n",
       "    </tr>\n",
       "    <tr>\n",
       "      <th>2481713</th>\n",
       "      <td>204</td>\n",
       "      <td>TRANSFER</td>\n",
       "      <td>834502.77</td>\n",
       "      <td>C625941667</td>\n",
       "      <td>0.0</td>\n",
       "      <td>0.00</td>\n",
       "      <td>C1502517182</td>\n",
       "      <td>1089887.35</td>\n",
       "      <td>1924390.13</td>\n",
       "      <td>0</td>\n",
       "      <td>0</td>\n",
       "    </tr>\n",
       "    <tr>\n",
       "      <th>...</th>\n",
       "      <td>...</td>\n",
       "      <td>...</td>\n",
       "      <td>...</td>\n",
       "      <td>...</td>\n",
       "      <td>...</td>\n",
       "      <td>...</td>\n",
       "      <td>...</td>\n",
       "      <td>...</td>\n",
       "      <td>...</td>\n",
       "      <td>...</td>\n",
       "      <td>...</td>\n",
       "    </tr>\n",
       "    <tr>\n",
       "      <th>1137107</th>\n",
       "      <td>131</td>\n",
       "      <td>TRANSFER</td>\n",
       "      <td>755383.52</td>\n",
       "      <td>C1626266159</td>\n",
       "      <td>2205.0</td>\n",
       "      <td>0.00</td>\n",
       "      <td>C1801931391</td>\n",
       "      <td>30035.00</td>\n",
       "      <td>0.00</td>\n",
       "      <td>0</td>\n",
       "      <td>0</td>\n",
       "    </tr>\n",
       "    <tr>\n",
       "      <th>5540581</th>\n",
       "      <td>382</td>\n",
       "      <td>TRANSFER</td>\n",
       "      <td>48717.29</td>\n",
       "      <td>C176945930</td>\n",
       "      <td>173435.0</td>\n",
       "      <td>124717.71</td>\n",
       "      <td>C2074781931</td>\n",
       "      <td>3282033.08</td>\n",
       "      <td>3330750.37</td>\n",
       "      <td>0</td>\n",
       "      <td>0</td>\n",
       "    </tr>\n",
       "    <tr>\n",
       "      <th>149571</th>\n",
       "      <td>12</td>\n",
       "      <td>TRANSFER</td>\n",
       "      <td>1339325.04</td>\n",
       "      <td>C1792668628</td>\n",
       "      <td>31814.0</td>\n",
       "      <td>0.00</td>\n",
       "      <td>C111747605</td>\n",
       "      <td>12410.30</td>\n",
       "      <td>1351735.34</td>\n",
       "      <td>0</td>\n",
       "      <td>0</td>\n",
       "    </tr>\n",
       "    <tr>\n",
       "      <th>4873921</th>\n",
       "      <td>348</td>\n",
       "      <td>TRANSFER</td>\n",
       "      <td>3245369.19</td>\n",
       "      <td>C2084982655</td>\n",
       "      <td>40978.0</td>\n",
       "      <td>0.00</td>\n",
       "      <td>C452365814</td>\n",
       "      <td>4428119.58</td>\n",
       "      <td>7673488.78</td>\n",
       "      <td>0</td>\n",
       "      <td>0</td>\n",
       "    </tr>\n",
       "    <tr>\n",
       "      <th>589034</th>\n",
       "      <td>33</td>\n",
       "      <td>TRANSFER</td>\n",
       "      <td>964286.06</td>\n",
       "      <td>C1231432896</td>\n",
       "      <td>4158.0</td>\n",
       "      <td>0.00</td>\n",
       "      <td>C1501225322</td>\n",
       "      <td>3124948.20</td>\n",
       "      <td>4089234.26</td>\n",
       "      <td>0</td>\n",
       "      <td>0</td>\n",
       "    </tr>\n",
       "  </tbody>\n",
       "</table>\n",
       "<p>4230 rows × 11 columns</p>\n",
       "</div>"
      ],
      "text/plain": [
       "         step      type      amount     nameOrig  oldbalanceOrg  \\\n",
       "4206018   305  TRANSFER  8171787.77   C868622053         5004.0   \n",
       "1833991   163  TRANSFER   264125.12   C710203377            0.0   \n",
       "6157578   548  TRANSFER    51517.32  C1620463147         5584.0   \n",
       "1742819   161  TRANSFER   132075.73  C1983847657            0.0   \n",
       "2481713   204  TRANSFER   834502.77   C625941667            0.0   \n",
       "...       ...       ...         ...          ...            ...   \n",
       "1137107   131  TRANSFER   755383.52  C1626266159         2205.0   \n",
       "5540581   382  TRANSFER    48717.29   C176945930       173435.0   \n",
       "149571     12  TRANSFER  1339325.04  C1792668628        31814.0   \n",
       "4873921   348  TRANSFER  3245369.19  C2084982655        40978.0   \n",
       "589034     33  TRANSFER   964286.06  C1231432896         4158.0   \n",
       "\n",
       "         newbalanceOrig     nameDest  oldbalanceDest  newbalanceDest  isFraud  \\\n",
       "4206018            0.00  C1088501262       423768.94      8595556.71        0   \n",
       "1833991            0.00  C1139061328       859109.88      1123235.01        0   \n",
       "6157578            0.00  C2095654925       253500.90       305018.22        0   \n",
       "1742819            0.00  C2078636125       476335.66      1019172.09        0   \n",
       "2481713            0.00  C1502517182      1089887.35      1924390.13        0   \n",
       "...                 ...          ...             ...             ...      ...   \n",
       "1137107            0.00  C1801931391        30035.00            0.00        0   \n",
       "5540581       124717.71  C2074781931      3282033.08      3330750.37        0   \n",
       "149571             0.00   C111747605        12410.30      1351735.34        0   \n",
       "4873921            0.00   C452365814      4428119.58      7673488.78        0   \n",
       "589034             0.00  C1501225322      3124948.20      4089234.26        0   \n",
       "\n",
       "         isFlaggedFraud  \n",
       "4206018               0  \n",
       "1833991               0  \n",
       "6157578               0  \n",
       "1742819               0  \n",
       "2481713               0  \n",
       "...                 ...  \n",
       "1137107               0  \n",
       "5540581               0  \n",
       "149571                0  \n",
       "4873921               0  \n",
       "589034                0  \n",
       "\n",
       "[4230 rows x 11 columns]"
      ]
     },
     "execution_count": 15,
     "metadata": {},
     "output_type": "execute_result"
    }
   ],
   "source": [
    "data2"
   ]
  },
  {
   "cell_type": "code",
   "execution_count": 16,
   "id": "c5187e57",
   "metadata": {},
   "outputs": [
    {
     "data": {
      "text/html": [
       "<div>\n",
       "<style scoped>\n",
       "    .dataframe tbody tr th:only-of-type {\n",
       "        vertical-align: middle;\n",
       "    }\n",
       "\n",
       "    .dataframe tbody tr th {\n",
       "        vertical-align: top;\n",
       "    }\n",
       "\n",
       "    .dataframe thead th {\n",
       "        text-align: right;\n",
       "    }\n",
       "</style>\n",
       "<table border=\"1\" class=\"dataframe\">\n",
       "  <thead>\n",
       "    <tr style=\"text-align: right;\">\n",
       "      <th></th>\n",
       "      <th>step</th>\n",
       "      <th>type</th>\n",
       "      <th>amount</th>\n",
       "      <th>nameOrig</th>\n",
       "      <th>oldbalanceOrg</th>\n",
       "      <th>newbalanceOrig</th>\n",
       "      <th>nameDest</th>\n",
       "      <th>oldbalanceDest</th>\n",
       "      <th>newbalanceDest</th>\n",
       "      <th>isFraud</th>\n",
       "      <th>isFlaggedFraud</th>\n",
       "    </tr>\n",
       "  </thead>\n",
       "  <tbody>\n",
       "    <tr>\n",
       "      <th>5295083</th>\n",
       "      <td>373</td>\n",
       "      <td>CASH_OUT</td>\n",
       "      <td>5462.76</td>\n",
       "      <td>C608215523</td>\n",
       "      <td>21520.00</td>\n",
       "      <td>16057.24</td>\n",
       "      <td>C1348437140</td>\n",
       "      <td>0.00</td>\n",
       "      <td>5462.76</td>\n",
       "      <td>0</td>\n",
       "      <td>0</td>\n",
       "    </tr>\n",
       "    <tr>\n",
       "      <th>3161785</th>\n",
       "      <td>237</td>\n",
       "      <td>CASH_OUT</td>\n",
       "      <td>102033.37</td>\n",
       "      <td>C1776278511</td>\n",
       "      <td>97440.00</td>\n",
       "      <td>0.00</td>\n",
       "      <td>C1277092885</td>\n",
       "      <td>2390323.95</td>\n",
       "      <td>2492357.32</td>\n",
       "      <td>0</td>\n",
       "      <td>0</td>\n",
       "    </tr>\n",
       "    <tr>\n",
       "      <th>4433368</th>\n",
       "      <td>322</td>\n",
       "      <td>CASH_OUT</td>\n",
       "      <td>189250.59</td>\n",
       "      <td>C19481055</td>\n",
       "      <td>9949.00</td>\n",
       "      <td>0.00</td>\n",
       "      <td>C347626060</td>\n",
       "      <td>1052503.61</td>\n",
       "      <td>1241754.20</td>\n",
       "      <td>0</td>\n",
       "      <td>0</td>\n",
       "    </tr>\n",
       "    <tr>\n",
       "      <th>318068</th>\n",
       "      <td>16</td>\n",
       "      <td>CASH_OUT</td>\n",
       "      <td>18560.87</td>\n",
       "      <td>C1390341946</td>\n",
       "      <td>11502.00</td>\n",
       "      <td>0.00</td>\n",
       "      <td>C1810024103</td>\n",
       "      <td>21364.00</td>\n",
       "      <td>39924.87</td>\n",
       "      <td>0</td>\n",
       "      <td>0</td>\n",
       "    </tr>\n",
       "    <tr>\n",
       "      <th>168067</th>\n",
       "      <td>12</td>\n",
       "      <td>CASH_OUT</td>\n",
       "      <td>243991.25</td>\n",
       "      <td>C868558230</td>\n",
       "      <td>0.00</td>\n",
       "      <td>0.00</td>\n",
       "      <td>C1219538254</td>\n",
       "      <td>684131.15</td>\n",
       "      <td>1757120.50</td>\n",
       "      <td>0</td>\n",
       "      <td>0</td>\n",
       "    </tr>\n",
       "    <tr>\n",
       "      <th>...</th>\n",
       "      <td>...</td>\n",
       "      <td>...</td>\n",
       "      <td>...</td>\n",
       "      <td>...</td>\n",
       "      <td>...</td>\n",
       "      <td>...</td>\n",
       "      <td>...</td>\n",
       "      <td>...</td>\n",
       "      <td>...</td>\n",
       "      <td>...</td>\n",
       "      <td>...</td>\n",
       "    </tr>\n",
       "    <tr>\n",
       "      <th>6362610</th>\n",
       "      <td>742</td>\n",
       "      <td>TRANSFER</td>\n",
       "      <td>63416.99</td>\n",
       "      <td>C778071008</td>\n",
       "      <td>63416.99</td>\n",
       "      <td>0.00</td>\n",
       "      <td>C1812552860</td>\n",
       "      <td>0.00</td>\n",
       "      <td>0.00</td>\n",
       "      <td>1</td>\n",
       "      <td>0</td>\n",
       "    </tr>\n",
       "    <tr>\n",
       "      <th>6362612</th>\n",
       "      <td>743</td>\n",
       "      <td>TRANSFER</td>\n",
       "      <td>1258818.82</td>\n",
       "      <td>C1531301470</td>\n",
       "      <td>1258818.82</td>\n",
       "      <td>0.00</td>\n",
       "      <td>C1470998563</td>\n",
       "      <td>0.00</td>\n",
       "      <td>0.00</td>\n",
       "      <td>1</td>\n",
       "      <td>0</td>\n",
       "    </tr>\n",
       "    <tr>\n",
       "      <th>6362614</th>\n",
       "      <td>743</td>\n",
       "      <td>TRANSFER</td>\n",
       "      <td>339682.13</td>\n",
       "      <td>C2013999242</td>\n",
       "      <td>339682.13</td>\n",
       "      <td>0.00</td>\n",
       "      <td>C1850423904</td>\n",
       "      <td>0.00</td>\n",
       "      <td>0.00</td>\n",
       "      <td>1</td>\n",
       "      <td>0</td>\n",
       "    </tr>\n",
       "    <tr>\n",
       "      <th>6362616</th>\n",
       "      <td>743</td>\n",
       "      <td>TRANSFER</td>\n",
       "      <td>6311409.28</td>\n",
       "      <td>C1529008245</td>\n",
       "      <td>6311409.28</td>\n",
       "      <td>0.00</td>\n",
       "      <td>C1881841831</td>\n",
       "      <td>0.00</td>\n",
       "      <td>0.00</td>\n",
       "      <td>1</td>\n",
       "      <td>0</td>\n",
       "    </tr>\n",
       "    <tr>\n",
       "      <th>6362618</th>\n",
       "      <td>743</td>\n",
       "      <td>TRANSFER</td>\n",
       "      <td>850002.52</td>\n",
       "      <td>C1685995037</td>\n",
       "      <td>850002.52</td>\n",
       "      <td>0.00</td>\n",
       "      <td>C2080388513</td>\n",
       "      <td>0.00</td>\n",
       "      <td>0.00</td>\n",
       "      <td>1</td>\n",
       "      <td>0</td>\n",
       "    </tr>\n",
       "  </tbody>\n",
       "</table>\n",
       "<p>16910 rows × 11 columns</p>\n",
       "</div>"
      ],
      "text/plain": [
       "         step      type      amount     nameOrig  oldbalanceOrg  \\\n",
       "5295083   373  CASH_OUT     5462.76   C608215523       21520.00   \n",
       "3161785   237  CASH_OUT   102033.37  C1776278511       97440.00   \n",
       "4433368   322  CASH_OUT   189250.59    C19481055        9949.00   \n",
       "318068     16  CASH_OUT    18560.87  C1390341946       11502.00   \n",
       "168067     12  CASH_OUT   243991.25   C868558230           0.00   \n",
       "...       ...       ...         ...          ...            ...   \n",
       "6362610   742  TRANSFER    63416.99   C778071008       63416.99   \n",
       "6362612   743  TRANSFER  1258818.82  C1531301470     1258818.82   \n",
       "6362614   743  TRANSFER   339682.13  C2013999242      339682.13   \n",
       "6362616   743  TRANSFER  6311409.28  C1529008245     6311409.28   \n",
       "6362618   743  TRANSFER   850002.52  C1685995037      850002.52   \n",
       "\n",
       "         newbalanceOrig     nameDest  oldbalanceDest  newbalanceDest  isFraud  \\\n",
       "5295083        16057.24  C1348437140            0.00         5462.76        0   \n",
       "3161785            0.00  C1277092885      2390323.95      2492357.32        0   \n",
       "4433368            0.00   C347626060      1052503.61      1241754.20        0   \n",
       "318068             0.00  C1810024103        21364.00        39924.87        0   \n",
       "168067             0.00  C1219538254       684131.15      1757120.50        0   \n",
       "...                 ...          ...             ...             ...      ...   \n",
       "6362610            0.00  C1812552860            0.00            0.00        1   \n",
       "6362612            0.00  C1470998563            0.00            0.00        1   \n",
       "6362614            0.00  C1850423904            0.00            0.00        1   \n",
       "6362616            0.00  C1881841831            0.00            0.00        1   \n",
       "6362618            0.00  C2080388513            0.00            0.00        1   \n",
       "\n",
       "         isFlaggedFraud  \n",
       "5295083               0  \n",
       "3161785               0  \n",
       "4433368               0  \n",
       "318068                0  \n",
       "168067                0  \n",
       "...                 ...  \n",
       "6362610               0  \n",
       "6362612               0  \n",
       "6362614               0  \n",
       "6362616               0  \n",
       "6362618               0  \n",
       "\n",
       "[16910 rows x 11 columns]"
      ]
     },
     "execution_count": 16,
     "metadata": {},
     "output_type": "execute_result"
    }
   ],
   "source": [
    "# creating our data set by concatenating the segregated data frames\n",
    "fraud_data = pd.concat([data1,fraud_cashout, data2, fraud_transfer])\n",
    "fraud_data"
   ]
  },
  {
   "cell_type": "code",
   "execution_count": 17,
   "id": "60369fe7",
   "metadata": {},
   "outputs": [
    {
     "data": {
      "text/plain": [
       "8213"
      ]
     },
     "execution_count": 17,
     "metadata": {},
     "output_type": "execute_result"
    }
   ],
   "source": [
    "fraud_data.isFraud.sum()"
   ]
  },
  {
   "cell_type": "markdown",
   "id": "44d9de0d",
   "metadata": {},
   "source": [
    "Now, column **type** is Categorical object which we convert into Numerical Data to apply operations on it"
   ]
  },
  {
   "cell_type": "code",
   "execution_count": 18,
   "id": "760fc9de",
   "metadata": {},
   "outputs": [
    {
     "data": {
      "text/plain": [
       "array([0, 0, 0, ..., 1, 1, 1])"
      ]
     },
     "execution_count": 18,
     "metadata": {},
     "output_type": "execute_result"
    }
   ],
   "source": [
    "from sklearn.preprocessing import LabelEncoder\n",
    "le = LabelEncoder()\n",
    "label = le.fit_transform(fraud_data['type'])\n",
    "label"
   ]
  },
  {
   "cell_type": "code",
   "execution_count": 19,
   "id": "4544f7fd",
   "metadata": {},
   "outputs": [],
   "source": [
    "# Inserting converted type data into our dataset\n",
    "fraud_data.insert(2,'type_num', label)"
   ]
  },
  {
   "cell_type": "code",
   "execution_count": 20,
   "id": "d387c963",
   "metadata": {},
   "outputs": [
    {
     "data": {
      "text/html": [
       "<div>\n",
       "<style scoped>\n",
       "    .dataframe tbody tr th:only-of-type {\n",
       "        vertical-align: middle;\n",
       "    }\n",
       "\n",
       "    .dataframe tbody tr th {\n",
       "        vertical-align: top;\n",
       "    }\n",
       "\n",
       "    .dataframe thead th {\n",
       "        text-align: right;\n",
       "    }\n",
       "</style>\n",
       "<table border=\"1\" class=\"dataframe\">\n",
       "  <thead>\n",
       "    <tr style=\"text-align: right;\">\n",
       "      <th></th>\n",
       "      <th>step</th>\n",
       "      <th>type</th>\n",
       "      <th>type_num</th>\n",
       "      <th>amount</th>\n",
       "      <th>nameOrig</th>\n",
       "      <th>oldbalanceOrg</th>\n",
       "      <th>newbalanceOrig</th>\n",
       "      <th>nameDest</th>\n",
       "      <th>oldbalanceDest</th>\n",
       "      <th>newbalanceDest</th>\n",
       "      <th>isFraud</th>\n",
       "      <th>isFlaggedFraud</th>\n",
       "    </tr>\n",
       "  </thead>\n",
       "  <tbody>\n",
       "    <tr>\n",
       "      <th>5295083</th>\n",
       "      <td>373</td>\n",
       "      <td>CASH_OUT</td>\n",
       "      <td>0</td>\n",
       "      <td>5462.76</td>\n",
       "      <td>608215523</td>\n",
       "      <td>21520.00</td>\n",
       "      <td>16057.24</td>\n",
       "      <td>C1348437140</td>\n",
       "      <td>0.00</td>\n",
       "      <td>5462.76</td>\n",
       "      <td>0</td>\n",
       "      <td>0</td>\n",
       "    </tr>\n",
       "    <tr>\n",
       "      <th>3161785</th>\n",
       "      <td>237</td>\n",
       "      <td>CASH_OUT</td>\n",
       "      <td>0</td>\n",
       "      <td>102033.37</td>\n",
       "      <td>1776278511</td>\n",
       "      <td>97440.00</td>\n",
       "      <td>0.00</td>\n",
       "      <td>C1277092885</td>\n",
       "      <td>2390323.95</td>\n",
       "      <td>2492357.32</td>\n",
       "      <td>0</td>\n",
       "      <td>0</td>\n",
       "    </tr>\n",
       "    <tr>\n",
       "      <th>4433368</th>\n",
       "      <td>322</td>\n",
       "      <td>CASH_OUT</td>\n",
       "      <td>0</td>\n",
       "      <td>189250.59</td>\n",
       "      <td>19481055</td>\n",
       "      <td>9949.00</td>\n",
       "      <td>0.00</td>\n",
       "      <td>C347626060</td>\n",
       "      <td>1052503.61</td>\n",
       "      <td>1241754.20</td>\n",
       "      <td>0</td>\n",
       "      <td>0</td>\n",
       "    </tr>\n",
       "    <tr>\n",
       "      <th>318068</th>\n",
       "      <td>16</td>\n",
       "      <td>CASH_OUT</td>\n",
       "      <td>0</td>\n",
       "      <td>18560.87</td>\n",
       "      <td>1390341946</td>\n",
       "      <td>11502.00</td>\n",
       "      <td>0.00</td>\n",
       "      <td>C1810024103</td>\n",
       "      <td>21364.00</td>\n",
       "      <td>39924.87</td>\n",
       "      <td>0</td>\n",
       "      <td>0</td>\n",
       "    </tr>\n",
       "    <tr>\n",
       "      <th>168067</th>\n",
       "      <td>12</td>\n",
       "      <td>CASH_OUT</td>\n",
       "      <td>0</td>\n",
       "      <td>243991.25</td>\n",
       "      <td>868558230</td>\n",
       "      <td>0.00</td>\n",
       "      <td>0.00</td>\n",
       "      <td>C1219538254</td>\n",
       "      <td>684131.15</td>\n",
       "      <td>1757120.50</td>\n",
       "      <td>0</td>\n",
       "      <td>0</td>\n",
       "    </tr>\n",
       "    <tr>\n",
       "      <th>...</th>\n",
       "      <td>...</td>\n",
       "      <td>...</td>\n",
       "      <td>...</td>\n",
       "      <td>...</td>\n",
       "      <td>...</td>\n",
       "      <td>...</td>\n",
       "      <td>...</td>\n",
       "      <td>...</td>\n",
       "      <td>...</td>\n",
       "      <td>...</td>\n",
       "      <td>...</td>\n",
       "      <td>...</td>\n",
       "    </tr>\n",
       "    <tr>\n",
       "      <th>6362610</th>\n",
       "      <td>742</td>\n",
       "      <td>TRANSFER</td>\n",
       "      <td>1</td>\n",
       "      <td>63416.99</td>\n",
       "      <td>778071008</td>\n",
       "      <td>63416.99</td>\n",
       "      <td>0.00</td>\n",
       "      <td>C1812552860</td>\n",
       "      <td>0.00</td>\n",
       "      <td>0.00</td>\n",
       "      <td>1</td>\n",
       "      <td>0</td>\n",
       "    </tr>\n",
       "    <tr>\n",
       "      <th>6362612</th>\n",
       "      <td>743</td>\n",
       "      <td>TRANSFER</td>\n",
       "      <td>1</td>\n",
       "      <td>1258818.82</td>\n",
       "      <td>1531301470</td>\n",
       "      <td>1258818.82</td>\n",
       "      <td>0.00</td>\n",
       "      <td>C1470998563</td>\n",
       "      <td>0.00</td>\n",
       "      <td>0.00</td>\n",
       "      <td>1</td>\n",
       "      <td>0</td>\n",
       "    </tr>\n",
       "    <tr>\n",
       "      <th>6362614</th>\n",
       "      <td>743</td>\n",
       "      <td>TRANSFER</td>\n",
       "      <td>1</td>\n",
       "      <td>339682.13</td>\n",
       "      <td>2013999242</td>\n",
       "      <td>339682.13</td>\n",
       "      <td>0.00</td>\n",
       "      <td>C1850423904</td>\n",
       "      <td>0.00</td>\n",
       "      <td>0.00</td>\n",
       "      <td>1</td>\n",
       "      <td>0</td>\n",
       "    </tr>\n",
       "    <tr>\n",
       "      <th>6362616</th>\n",
       "      <td>743</td>\n",
       "      <td>TRANSFER</td>\n",
       "      <td>1</td>\n",
       "      <td>6311409.28</td>\n",
       "      <td>1529008245</td>\n",
       "      <td>6311409.28</td>\n",
       "      <td>0.00</td>\n",
       "      <td>C1881841831</td>\n",
       "      <td>0.00</td>\n",
       "      <td>0.00</td>\n",
       "      <td>1</td>\n",
       "      <td>0</td>\n",
       "    </tr>\n",
       "    <tr>\n",
       "      <th>6362618</th>\n",
       "      <td>743</td>\n",
       "      <td>TRANSFER</td>\n",
       "      <td>1</td>\n",
       "      <td>850002.52</td>\n",
       "      <td>1685995037</td>\n",
       "      <td>850002.52</td>\n",
       "      <td>0.00</td>\n",
       "      <td>C2080388513</td>\n",
       "      <td>0.00</td>\n",
       "      <td>0.00</td>\n",
       "      <td>1</td>\n",
       "      <td>0</td>\n",
       "    </tr>\n",
       "  </tbody>\n",
       "</table>\n",
       "<p>16910 rows × 12 columns</p>\n",
       "</div>"
      ],
      "text/plain": [
       "         step      type  type_num      amount    nameOrig  oldbalanceOrg  \\\n",
       "5295083   373  CASH_OUT         0     5462.76   608215523       21520.00   \n",
       "3161785   237  CASH_OUT         0   102033.37  1776278511       97440.00   \n",
       "4433368   322  CASH_OUT         0   189250.59    19481055        9949.00   \n",
       "318068     16  CASH_OUT         0    18560.87  1390341946       11502.00   \n",
       "168067     12  CASH_OUT         0   243991.25   868558230           0.00   \n",
       "...       ...       ...       ...         ...         ...            ...   \n",
       "6362610   742  TRANSFER         1    63416.99   778071008       63416.99   \n",
       "6362612   743  TRANSFER         1  1258818.82  1531301470     1258818.82   \n",
       "6362614   743  TRANSFER         1   339682.13  2013999242      339682.13   \n",
       "6362616   743  TRANSFER         1  6311409.28  1529008245     6311409.28   \n",
       "6362618   743  TRANSFER         1   850002.52  1685995037      850002.52   \n",
       "\n",
       "         newbalanceOrig     nameDest  oldbalanceDest  newbalanceDest  isFraud  \\\n",
       "5295083        16057.24  C1348437140            0.00         5462.76        0   \n",
       "3161785            0.00  C1277092885      2390323.95      2492357.32        0   \n",
       "4433368            0.00   C347626060      1052503.61      1241754.20        0   \n",
       "318068             0.00  C1810024103        21364.00        39924.87        0   \n",
       "168067             0.00  C1219538254       684131.15      1757120.50        0   \n",
       "...                 ...          ...             ...             ...      ...   \n",
       "6362610            0.00  C1812552860            0.00            0.00        1   \n",
       "6362612            0.00  C1470998563            0.00            0.00        1   \n",
       "6362614            0.00  C1850423904            0.00            0.00        1   \n",
       "6362616            0.00  C1881841831            0.00            0.00        1   \n",
       "6362618            0.00  C2080388513            0.00            0.00        1   \n",
       "\n",
       "         isFlaggedFraud  \n",
       "5295083               0  \n",
       "3161785               0  \n",
       "4433368               0  \n",
       "318068                0  \n",
       "168067                0  \n",
       "...                 ...  \n",
       "6362610               0  \n",
       "6362612               0  \n",
       "6362614               0  \n",
       "6362616               0  \n",
       "6362618               0  \n",
       "\n",
       "[16910 rows x 12 columns]"
      ]
     },
     "execution_count": 20,
     "metadata": {},
     "output_type": "execute_result"
    }
   ],
   "source": [
    "# Converting nameOrig column into only ids by removing C from its front\n",
    "fraud_data['nameOrig'] = fraud_data['nameOrig'].replace({'C': ''}, regex=True)\n",
    "fraud_data"
   ]
  },
  {
   "cell_type": "code",
   "execution_count": 21,
   "id": "f02ba36f",
   "metadata": {},
   "outputs": [
    {
     "name": "stdout",
     "output_type": "stream",
     "text": [
      "<class 'pandas.core.frame.DataFrame'>\n",
      "Int64Index: 16910 entries, 5295083 to 6362618\n",
      "Data columns (total 12 columns):\n",
      " #   Column          Non-Null Count  Dtype  \n",
      "---  ------          --------------  -----  \n",
      " 0   step            16910 non-null  int64  \n",
      " 1   type            16910 non-null  object \n",
      " 2   type_num        16910 non-null  int32  \n",
      " 3   amount          16910 non-null  float64\n",
      " 4   nameOrig        16910 non-null  int64  \n",
      " 5   oldbalanceOrg   16910 non-null  float64\n",
      " 6   newbalanceOrig  16910 non-null  float64\n",
      " 7   nameDest        16910 non-null  object \n",
      " 8   oldbalanceDest  16910 non-null  float64\n",
      " 9   newbalanceDest  16910 non-null  float64\n",
      " 10  isFraud         16910 non-null  int64  \n",
      " 11  isFlaggedFraud  16910 non-null  int64  \n",
      "dtypes: float64(5), int32(1), int64(4), object(2)\n",
      "memory usage: 1.6+ MB\n"
     ]
    }
   ],
   "source": [
    "fraud_data['nameOrig'] = pd.to_numeric(fraud_data['nameOrig'])\n",
    "fraud_data.info()"
   ]
  },
  {
   "cell_type": "markdown",
   "id": "626166b4",
   "metadata": {},
   "source": [
    "### Feature Selection"
   ]
  },
  {
   "cell_type": "markdown",
   "id": "7fd72a38",
   "metadata": {},
   "source": [
    "Columns **step, nameDest, type and isFlaggedFraud** are not taken into consideration for training our prediction models because\n",
    "column **nameDest** is string which are not providing any significance to our data, **type** column is dropped because we already converted it into numerical data and **isFlaggedFraud** is removed because we believe that it is the pre determined output which needs to be found out by the model. Also **step** is just hour out of 30 days of simulation"
   ]
  },
  {
   "cell_type": "code",
   "execution_count": 22,
   "id": "8c47517e",
   "metadata": {},
   "outputs": [],
   "source": [
    "fraud_data = fraud_data.drop(['step','nameDest', 'type','isFlaggedFraud'], axis=1)"
   ]
  },
  {
   "cell_type": "code",
   "execution_count": 23,
   "id": "1617b940",
   "metadata": {},
   "outputs": [
    {
     "data": {
      "text/html": [
       "<div>\n",
       "<style scoped>\n",
       "    .dataframe tbody tr th:only-of-type {\n",
       "        vertical-align: middle;\n",
       "    }\n",
       "\n",
       "    .dataframe tbody tr th {\n",
       "        vertical-align: top;\n",
       "    }\n",
       "\n",
       "    .dataframe thead th {\n",
       "        text-align: right;\n",
       "    }\n",
       "</style>\n",
       "<table border=\"1\" class=\"dataframe\">\n",
       "  <thead>\n",
       "    <tr style=\"text-align: right;\">\n",
       "      <th></th>\n",
       "      <th>type_num</th>\n",
       "      <th>amount</th>\n",
       "      <th>nameOrig</th>\n",
       "      <th>oldbalanceOrg</th>\n",
       "      <th>newbalanceOrig</th>\n",
       "      <th>oldbalanceDest</th>\n",
       "      <th>newbalanceDest</th>\n",
       "      <th>isFraud</th>\n",
       "    </tr>\n",
       "  </thead>\n",
       "  <tbody>\n",
       "    <tr>\n",
       "      <th>5295083</th>\n",
       "      <td>0</td>\n",
       "      <td>5462.76</td>\n",
       "      <td>608215523</td>\n",
       "      <td>21520.00</td>\n",
       "      <td>16057.24</td>\n",
       "      <td>0.00</td>\n",
       "      <td>5462.76</td>\n",
       "      <td>0</td>\n",
       "    </tr>\n",
       "    <tr>\n",
       "      <th>3161785</th>\n",
       "      <td>0</td>\n",
       "      <td>102033.37</td>\n",
       "      <td>1776278511</td>\n",
       "      <td>97440.00</td>\n",
       "      <td>0.00</td>\n",
       "      <td>2390323.95</td>\n",
       "      <td>2492357.32</td>\n",
       "      <td>0</td>\n",
       "    </tr>\n",
       "    <tr>\n",
       "      <th>4433368</th>\n",
       "      <td>0</td>\n",
       "      <td>189250.59</td>\n",
       "      <td>19481055</td>\n",
       "      <td>9949.00</td>\n",
       "      <td>0.00</td>\n",
       "      <td>1052503.61</td>\n",
       "      <td>1241754.20</td>\n",
       "      <td>0</td>\n",
       "    </tr>\n",
       "    <tr>\n",
       "      <th>318068</th>\n",
       "      <td>0</td>\n",
       "      <td>18560.87</td>\n",
       "      <td>1390341946</td>\n",
       "      <td>11502.00</td>\n",
       "      <td>0.00</td>\n",
       "      <td>21364.00</td>\n",
       "      <td>39924.87</td>\n",
       "      <td>0</td>\n",
       "    </tr>\n",
       "    <tr>\n",
       "      <th>168067</th>\n",
       "      <td>0</td>\n",
       "      <td>243991.25</td>\n",
       "      <td>868558230</td>\n",
       "      <td>0.00</td>\n",
       "      <td>0.00</td>\n",
       "      <td>684131.15</td>\n",
       "      <td>1757120.50</td>\n",
       "      <td>0</td>\n",
       "    </tr>\n",
       "    <tr>\n",
       "      <th>...</th>\n",
       "      <td>...</td>\n",
       "      <td>...</td>\n",
       "      <td>...</td>\n",
       "      <td>...</td>\n",
       "      <td>...</td>\n",
       "      <td>...</td>\n",
       "      <td>...</td>\n",
       "      <td>...</td>\n",
       "    </tr>\n",
       "    <tr>\n",
       "      <th>6362610</th>\n",
       "      <td>1</td>\n",
       "      <td>63416.99</td>\n",
       "      <td>778071008</td>\n",
       "      <td>63416.99</td>\n",
       "      <td>0.00</td>\n",
       "      <td>0.00</td>\n",
       "      <td>0.00</td>\n",
       "      <td>1</td>\n",
       "    </tr>\n",
       "    <tr>\n",
       "      <th>6362612</th>\n",
       "      <td>1</td>\n",
       "      <td>1258818.82</td>\n",
       "      <td>1531301470</td>\n",
       "      <td>1258818.82</td>\n",
       "      <td>0.00</td>\n",
       "      <td>0.00</td>\n",
       "      <td>0.00</td>\n",
       "      <td>1</td>\n",
       "    </tr>\n",
       "    <tr>\n",
       "      <th>6362614</th>\n",
       "      <td>1</td>\n",
       "      <td>339682.13</td>\n",
       "      <td>2013999242</td>\n",
       "      <td>339682.13</td>\n",
       "      <td>0.00</td>\n",
       "      <td>0.00</td>\n",
       "      <td>0.00</td>\n",
       "      <td>1</td>\n",
       "    </tr>\n",
       "    <tr>\n",
       "      <th>6362616</th>\n",
       "      <td>1</td>\n",
       "      <td>6311409.28</td>\n",
       "      <td>1529008245</td>\n",
       "      <td>6311409.28</td>\n",
       "      <td>0.00</td>\n",
       "      <td>0.00</td>\n",
       "      <td>0.00</td>\n",
       "      <td>1</td>\n",
       "    </tr>\n",
       "    <tr>\n",
       "      <th>6362618</th>\n",
       "      <td>1</td>\n",
       "      <td>850002.52</td>\n",
       "      <td>1685995037</td>\n",
       "      <td>850002.52</td>\n",
       "      <td>0.00</td>\n",
       "      <td>0.00</td>\n",
       "      <td>0.00</td>\n",
       "      <td>1</td>\n",
       "    </tr>\n",
       "  </tbody>\n",
       "</table>\n",
       "<p>16910 rows × 8 columns</p>\n",
       "</div>"
      ],
      "text/plain": [
       "         type_num      amount    nameOrig  oldbalanceOrg  newbalanceOrig  \\\n",
       "5295083         0     5462.76   608215523       21520.00        16057.24   \n",
       "3161785         0   102033.37  1776278511       97440.00            0.00   \n",
       "4433368         0   189250.59    19481055        9949.00            0.00   \n",
       "318068          0    18560.87  1390341946       11502.00            0.00   \n",
       "168067          0   243991.25   868558230           0.00            0.00   \n",
       "...           ...         ...         ...            ...             ...   \n",
       "6362610         1    63416.99   778071008       63416.99            0.00   \n",
       "6362612         1  1258818.82  1531301470     1258818.82            0.00   \n",
       "6362614         1   339682.13  2013999242      339682.13            0.00   \n",
       "6362616         1  6311409.28  1529008245     6311409.28            0.00   \n",
       "6362618         1   850002.52  1685995037      850002.52            0.00   \n",
       "\n",
       "         oldbalanceDest  newbalanceDest  isFraud  \n",
       "5295083            0.00         5462.76        0  \n",
       "3161785      2390323.95      2492357.32        0  \n",
       "4433368      1052503.61      1241754.20        0  \n",
       "318068         21364.00        39924.87        0  \n",
       "168067        684131.15      1757120.50        0  \n",
       "...                 ...             ...      ...  \n",
       "6362610            0.00            0.00        1  \n",
       "6362612            0.00            0.00        1  \n",
       "6362614            0.00            0.00        1  \n",
       "6362616            0.00            0.00        1  \n",
       "6362618            0.00            0.00        1  \n",
       "\n",
       "[16910 rows x 8 columns]"
      ]
     },
     "execution_count": 23,
     "metadata": {},
     "output_type": "execute_result"
    }
   ],
   "source": [
    "fraud_data"
   ]
  },
  {
   "cell_type": "code",
   "execution_count": 24,
   "id": "8e011faf",
   "metadata": {},
   "outputs": [
    {
     "name": "stdout",
     "output_type": "stream",
     "text": [
      "<class 'pandas.core.frame.DataFrame'>\n",
      "Int64Index: 16910 entries, 5295083 to 6362618\n",
      "Data columns (total 8 columns):\n",
      " #   Column          Non-Null Count  Dtype  \n",
      "---  ------          --------------  -----  \n",
      " 0   type_num        16910 non-null  int32  \n",
      " 1   amount          16910 non-null  float64\n",
      " 2   nameOrig        16910 non-null  int64  \n",
      " 3   oldbalanceOrg   16910 non-null  float64\n",
      " 4   newbalanceOrig  16910 non-null  float64\n",
      " 5   oldbalanceDest  16910 non-null  float64\n",
      " 6   newbalanceDest  16910 non-null  float64\n",
      " 7   isFraud         16910 non-null  int64  \n",
      "dtypes: float64(5), int32(1), int64(2)\n",
      "memory usage: 1.1 MB\n"
     ]
    }
   ],
   "source": [
    "fraud_data.info()"
   ]
  },
  {
   "cell_type": "code",
   "execution_count": 25,
   "id": "3ca97b69",
   "metadata": {},
   "outputs": [],
   "source": [
    "#fraud_data.to_csv('fraud_data2.csv')"
   ]
  },
  {
   "cell_type": "code",
   "execution_count": 26,
   "id": "27b18488",
   "metadata": {},
   "outputs": [
    {
     "data": {
      "text/html": [
       "<div>\n",
       "<style scoped>\n",
       "    .dataframe tbody tr th:only-of-type {\n",
       "        vertical-align: middle;\n",
       "    }\n",
       "\n",
       "    .dataframe tbody tr th {\n",
       "        vertical-align: top;\n",
       "    }\n",
       "\n",
       "    .dataframe thead th {\n",
       "        text-align: right;\n",
       "    }\n",
       "</style>\n",
       "<table border=\"1\" class=\"dataframe\">\n",
       "  <thead>\n",
       "    <tr style=\"text-align: right;\">\n",
       "      <th></th>\n",
       "      <th>type_num</th>\n",
       "      <th>amount</th>\n",
       "      <th>nameOrig</th>\n",
       "      <th>oldbalanceOrg</th>\n",
       "      <th>newbalanceOrig</th>\n",
       "      <th>oldbalanceDest</th>\n",
       "      <th>newbalanceDest</th>\n",
       "      <th>isFraud</th>\n",
       "    </tr>\n",
       "  </thead>\n",
       "  <tbody>\n",
       "    <tr>\n",
       "      <th>count</th>\n",
       "      <td>16910.000000</td>\n",
       "      <td>1.691000e+04</td>\n",
       "      <td>1.691000e+04</td>\n",
       "      <td>1.691000e+04</td>\n",
       "      <td>1.691000e+04</td>\n",
       "      <td>1.691000e+04</td>\n",
       "      <td>1.691000e+04</td>\n",
       "      <td>16910.000000</td>\n",
       "    </tr>\n",
       "    <tr>\n",
       "      <th>mean</th>\n",
       "      <td>0.492431</td>\n",
       "      <td>9.934552e+05</td>\n",
       "      <td>1.079960e+09</td>\n",
       "      <td>8.237122e+05</td>\n",
       "      <td>1.008597e+05</td>\n",
       "      <td>1.333175e+06</td>\n",
       "      <td>2.002690e+06</td>\n",
       "      <td>0.485689</td>\n",
       "    </tr>\n",
       "    <tr>\n",
       "      <th>std</th>\n",
       "      <td>0.499957</td>\n",
       "      <td>2.022906e+06</td>\n",
       "      <td>6.203920e+08</td>\n",
       "      <td>2.601973e+06</td>\n",
       "      <td>1.375730e+06</td>\n",
       "      <td>4.863982e+06</td>\n",
       "      <td>5.708495e+06</td>\n",
       "      <td>0.499810</td>\n",
       "    </tr>\n",
       "    <tr>\n",
       "      <th>min</th>\n",
       "      <td>0.000000</td>\n",
       "      <td>0.000000e+00</td>\n",
       "      <td>1.453640e+05</td>\n",
       "      <td>0.000000e+00</td>\n",
       "      <td>0.000000e+00</td>\n",
       "      <td>0.000000e+00</td>\n",
       "      <td>0.000000e+00</td>\n",
       "      <td>0.000000</td>\n",
       "    </tr>\n",
       "    <tr>\n",
       "      <th>25%</th>\n",
       "      <td>0.000000</td>\n",
       "      <td>1.141185e+05</td>\n",
       "      <td>5.424082e+08</td>\n",
       "      <td>0.000000e+00</td>\n",
       "      <td>0.000000e+00</td>\n",
       "      <td>0.000000e+00</td>\n",
       "      <td>1.437528e+04</td>\n",
       "      <td>0.000000</td>\n",
       "    </tr>\n",
       "    <tr>\n",
       "      <th>50%</th>\n",
       "      <td>0.000000</td>\n",
       "      <td>2.923384e+05</td>\n",
       "      <td>1.084595e+09</td>\n",
       "      <td>5.879850e+04</td>\n",
       "      <td>0.000000e+00</td>\n",
       "      <td>1.676164e+05</td>\n",
       "      <td>6.162674e+05</td>\n",
       "      <td>0.000000</td>\n",
       "    </tr>\n",
       "    <tr>\n",
       "      <th>75%</th>\n",
       "      <td>1.000000</td>\n",
       "      <td>8.563867e+05</td>\n",
       "      <td>1.617549e+09</td>\n",
       "      <td>4.468785e+05</td>\n",
       "      <td>0.000000e+00</td>\n",
       "      <td>1.146527e+06</td>\n",
       "      <td>2.072765e+06</td>\n",
       "      <td>1.000000</td>\n",
       "    </tr>\n",
       "    <tr>\n",
       "      <th>max</th>\n",
       "      <td>1.000000</td>\n",
       "      <td>4.170858e+07</td>\n",
       "      <td>2.147009e+09</td>\n",
       "      <td>5.958504e+07</td>\n",
       "      <td>4.958504e+07</td>\n",
       "      <td>2.362305e+08</td>\n",
       "      <td>2.594353e+08</td>\n",
       "      <td>1.000000</td>\n",
       "    </tr>\n",
       "  </tbody>\n",
       "</table>\n",
       "</div>"
      ],
      "text/plain": [
       "           type_num        amount      nameOrig  oldbalanceOrg  \\\n",
       "count  16910.000000  1.691000e+04  1.691000e+04   1.691000e+04   \n",
       "mean       0.492431  9.934552e+05  1.079960e+09   8.237122e+05   \n",
       "std        0.499957  2.022906e+06  6.203920e+08   2.601973e+06   \n",
       "min        0.000000  0.000000e+00  1.453640e+05   0.000000e+00   \n",
       "25%        0.000000  1.141185e+05  5.424082e+08   0.000000e+00   \n",
       "50%        0.000000  2.923384e+05  1.084595e+09   5.879850e+04   \n",
       "75%        1.000000  8.563867e+05  1.617549e+09   4.468785e+05   \n",
       "max        1.000000  4.170858e+07  2.147009e+09   5.958504e+07   \n",
       "\n",
       "       newbalanceOrig  oldbalanceDest  newbalanceDest       isFraud  \n",
       "count    1.691000e+04    1.691000e+04    1.691000e+04  16910.000000  \n",
       "mean     1.008597e+05    1.333175e+06    2.002690e+06      0.485689  \n",
       "std      1.375730e+06    4.863982e+06    5.708495e+06      0.499810  \n",
       "min      0.000000e+00    0.000000e+00    0.000000e+00      0.000000  \n",
       "25%      0.000000e+00    0.000000e+00    1.437528e+04      0.000000  \n",
       "50%      0.000000e+00    1.676164e+05    6.162674e+05      0.000000  \n",
       "75%      0.000000e+00    1.146527e+06    2.072765e+06      1.000000  \n",
       "max      4.958504e+07    2.362305e+08    2.594353e+08      1.000000  "
      ]
     },
     "execution_count": 26,
     "metadata": {},
     "output_type": "execute_result"
    }
   ],
   "source": [
    "fraud_data.describe()"
   ]
  },
  {
   "cell_type": "code",
   "execution_count": 27,
   "id": "ac99f20e",
   "metadata": {},
   "outputs": [],
   "source": [
    "# Assigning values\n",
    "X = fraud_data.iloc[:, :-1].values\n",
    "y = fraud_data.iloc[:, -1].values"
   ]
  },
  {
   "cell_type": "code",
   "execution_count": 28,
   "id": "248ac4fe",
   "metadata": {},
   "outputs": [
    {
     "data": {
      "text/plain": [
       "array([[0.00000000e+00, 5.46276000e+03, 6.08215523e+08, ...,\n",
       "        1.60572400e+04, 0.00000000e+00, 5.46276000e+03],\n",
       "       [0.00000000e+00, 1.02033370e+05, 1.77627851e+09, ...,\n",
       "        0.00000000e+00, 2.39032395e+06, 2.49235732e+06],\n",
       "       [0.00000000e+00, 1.89250590e+05, 1.94810550e+07, ...,\n",
       "        0.00000000e+00, 1.05250361e+06, 1.24175420e+06],\n",
       "       ...,\n",
       "       [1.00000000e+00, 3.39682130e+05, 2.01399924e+09, ...,\n",
       "        0.00000000e+00, 0.00000000e+00, 0.00000000e+00],\n",
       "       [1.00000000e+00, 6.31140928e+06, 1.52900824e+09, ...,\n",
       "        0.00000000e+00, 0.00000000e+00, 0.00000000e+00],\n",
       "       [1.00000000e+00, 8.50002520e+05, 1.68599504e+09, ...,\n",
       "        0.00000000e+00, 0.00000000e+00, 0.00000000e+00]])"
      ]
     },
     "execution_count": 28,
     "metadata": {},
     "output_type": "execute_result"
    }
   ],
   "source": [
    "X"
   ]
  },
  {
   "cell_type": "code",
   "execution_count": 29,
   "id": "eca9dc83",
   "metadata": {},
   "outputs": [
    {
     "data": {
      "text/plain": [
       "array([0, 0, 0, ..., 1, 1, 1], dtype=int64)"
      ]
     },
     "execution_count": 29,
     "metadata": {},
     "output_type": "execute_result"
    }
   ],
   "source": [
    "y"
   ]
  },
  {
   "cell_type": "markdown",
   "id": "f7e08948",
   "metadata": {},
   "source": [
    "### Splitting data into train and test set and also apply Feature Scaling"
   ]
  },
  {
   "cell_type": "code",
   "execution_count": 30,
   "id": "c66222d0",
   "metadata": {},
   "outputs": [],
   "source": [
    "# Splitting the dataset into the Training set and Test set\n",
    "from sklearn.model_selection import train_test_split\n",
    "X_train, X_test, y_train, y_test = train_test_split(X, y, test_size = 0.25, random_state = 0)"
   ]
  },
  {
   "cell_type": "code",
   "execution_count": 31,
   "id": "3fe29a69",
   "metadata": {},
   "outputs": [],
   "source": [
    "# Feature Scaling\n",
    "from sklearn.preprocessing import StandardScaler\n",
    "sc = StandardScaler()\n",
    "X_train = sc.fit_transform(X_train)\n",
    "X_test = sc.transform(X_test)"
   ]
  },
  {
   "cell_type": "markdown",
   "id": "fcc39995",
   "metadata": {},
   "source": [
    "### Training the Logistic Regression Model on training set"
   ]
  },
  {
   "cell_type": "code",
   "execution_count": 32,
   "id": "07fcce4e",
   "metadata": {},
   "outputs": [
    {
     "data": {
      "text/plain": [
       "LogisticRegression(random_state=0)"
      ]
     },
     "execution_count": 32,
     "metadata": {},
     "output_type": "execute_result"
    }
   ],
   "source": [
    "# Training the Logistic Regression model on the Training set\n",
    "from sklearn.linear_model import LogisticRegression\n",
    "lr = LogisticRegression(random_state = 0)\n",
    "lr.fit(X_train, y_train)"
   ]
  },
  {
   "cell_type": "code",
   "execution_count": 33,
   "id": "df1bd88f",
   "metadata": {},
   "outputs": [
    {
     "name": "stdout",
     "output_type": "stream",
     "text": [
      "[[1 1]\n",
      " [1 1]\n",
      " [1 1]\n",
      " ...\n",
      " [1 1]\n",
      " [0 0]\n",
      " [0 0]]\n",
      "[1 1 1 ... 1 0 0]\n"
     ]
    }
   ],
   "source": [
    "y_pred = lr.predict(X_test)\n",
    "print(np.concatenate((y_pred.reshape(len(y_pred),1), y_test.reshape(len(y_test),1)), 1))\n",
    "print(y_pred)"
   ]
  },
  {
   "cell_type": "markdown",
   "id": "0b196099",
   "metadata": {},
   "source": [
    "#### Making the Confusion Matrix"
   ]
  },
  {
   "cell_type": "code",
   "execution_count": 34,
   "id": "fab4ac61",
   "metadata": {},
   "outputs": [
    {
     "name": "stdout",
     "output_type": "stream",
     "text": [
      "[[2035  120]\n",
      " [ 295 1778]]\n",
      "Accuracy of model: 0.901844843897824\n"
     ]
    }
   ],
   "source": [
    "# Making the Confusion Matrix\n",
    "from sklearn.metrics import confusion_matrix, accuracy_score, recall_score, f1_score, precision_score\n",
    "cm = confusion_matrix(y_test, y_pred)\n",
    "print(cm)\n",
    "print(f\"Accuracy of model: {accuracy_score(y_test, y_pred)}\")"
   ]
  },
  {
   "cell_type": "markdown",
   "id": "ff548a35",
   "metadata": {},
   "source": [
    "#### Recall Calculation"
   ]
  },
  {
   "cell_type": "code",
   "execution_count": 35,
   "id": "ef45a96f",
   "metadata": {},
   "outputs": [
    {
     "name": "stdout",
     "output_type": "stream",
     "text": [
      "Recall Score of model: 0.8576941630487217\n"
     ]
    }
   ],
   "source": [
    "# Recall = TruePositives / (TruePositives + FalseNegatives)\n",
    "print(f\"Recall Score of model: {recall_score(y_test, y_pred)}\")"
   ]
  },
  {
   "cell_type": "markdown",
   "id": "8bd84679",
   "metadata": {},
   "source": [
    "#### F1 Score Calculation"
   ]
  },
  {
   "cell_type": "code",
   "execution_count": 36,
   "id": "6e6fb32d",
   "metadata": {},
   "outputs": [
    {
     "name": "stdout",
     "output_type": "stream",
     "text": [
      "F1 Score of model: 0.8954923193150339\n"
     ]
    }
   ],
   "source": [
    "# 2*true positive /( 2*true positive + false positive + false negative)\n",
    "print(f\"F1 Score of model: {f1_score(y_test, y_pred)}\")"
   ]
  },
  {
   "cell_type": "markdown",
   "id": "1652590f",
   "metadata": {},
   "source": [
    "### Training on SVM"
   ]
  },
  {
   "cell_type": "code",
   "execution_count": 37,
   "id": "eb2c6eb1",
   "metadata": {},
   "outputs": [
    {
     "data": {
      "text/plain": [
       "SVC(kernel='linear', random_state=0)"
      ]
     },
     "execution_count": 37,
     "metadata": {},
     "output_type": "execute_result"
    }
   ],
   "source": [
    "from sklearn.svm import SVC\n",
    "classifier = SVC(kernel = 'linear', random_state = 0)\n",
    "classifier.fit(X_train, y_train)"
   ]
  },
  {
   "cell_type": "code",
   "execution_count": 38,
   "id": "7e4d121e",
   "metadata": {},
   "outputs": [
    {
     "name": "stdout",
     "output_type": "stream",
     "text": [
      "[[1 1]\n",
      " [1 1]\n",
      " [1 1]\n",
      " ...\n",
      " [1 1]\n",
      " [0 0]\n",
      " [0 0]]\n",
      "[1 1 1 ... 1 0 0]\n"
     ]
    }
   ],
   "source": [
    "y_pred = classifier.predict(X_test)\n",
    "print(np.concatenate((y_pred.reshape(len(y_pred),1), y_test.reshape(len(y_test),1)), 1))\n",
    "print(y_pred)"
   ]
  },
  {
   "cell_type": "code",
   "execution_count": 39,
   "id": "32abb66d",
   "metadata": {},
   "outputs": [
    {
     "name": "stdout",
     "output_type": "stream",
     "text": [
      "[[2030  125]\n",
      " [ 296 1777]]\n",
      "Accuracy of model: 0.9004257332071902\n"
     ]
    }
   ],
   "source": [
    "# Making the Confusion Matrix\n",
    "from sklearn.metrics import confusion_matrix, accuracy_score, recall_score, f1_score, precision_score\n",
    "y_pred = classifier.predict(X_test)\n",
    "cm = confusion_matrix(y_test, y_pred)\n",
    "print(cm)\n",
    "print(f\"Accuracy of model: {accuracy_score(y_test, y_pred)}\")"
   ]
  },
  {
   "cell_type": "code",
   "execution_count": 40,
   "id": "ef2ffef0",
   "metadata": {},
   "outputs": [
    {
     "name": "stdout",
     "output_type": "stream",
     "text": [
      "Recall Score of model: 0.8572117703810902\n"
     ]
    }
   ],
   "source": [
    "# Recall = TruePositives / (TruePositives + FalseNegatives)\n",
    "print(f\"Recall Score of model: {recall_score(y_test, y_pred)}\")"
   ]
  },
  {
   "cell_type": "code",
   "execution_count": 41,
   "id": "71b30fdd",
   "metadata": {},
   "outputs": [
    {
     "name": "stdout",
     "output_type": "stream",
     "text": [
      "F1 Score of model: 0.8940880503144654\n"
     ]
    }
   ],
   "source": [
    "# 2*true positive /( 2*true positive + false positive + false negative)\n",
    "print(f\"F1 Score of model: {f1_score(y_test, y_pred)}\")"
   ]
  },
  {
   "cell_type": "markdown",
   "id": "226f4a80",
   "metadata": {},
   "source": [
    "### Training on Naive bayes"
   ]
  },
  {
   "cell_type": "code",
   "execution_count": 42,
   "id": "1cda9b05",
   "metadata": {},
   "outputs": [
    {
     "data": {
      "text/plain": [
       "GaussianNB()"
      ]
     },
     "execution_count": 42,
     "metadata": {},
     "output_type": "execute_result"
    }
   ],
   "source": [
    "from sklearn.naive_bayes import GaussianNB\n",
    "bayes = GaussianNB()\n",
    "bayes.fit(X_train, y_train)"
   ]
  },
  {
   "cell_type": "code",
   "execution_count": 43,
   "id": "f1110274",
   "metadata": {},
   "outputs": [
    {
     "name": "stdout",
     "output_type": "stream",
     "text": [
      "[[1 1]\n",
      " [1 1]\n",
      " [1 1]\n",
      " ...\n",
      " [1 1]\n",
      " [0 0]\n",
      " [0 0]]\n",
      "[1 1 1 ... 1 0 0]\n"
     ]
    }
   ],
   "source": [
    "y_pred = bayes.predict(X_test)\n",
    "print(np.concatenate((y_pred.reshape(len(y_pred),1), y_test.reshape(len(y_test),1)), 1))\n",
    "print(y_pred)"
   ]
  },
  {
   "cell_type": "code",
   "execution_count": 44,
   "id": "eda519dc",
   "metadata": {},
   "outputs": [
    {
     "name": "stdout",
     "output_type": "stream",
     "text": [
      "[[2117   38]\n",
      " [1176  897]]\n",
      "Accuracy of model: 0.7128666035950804\n"
     ]
    }
   ],
   "source": [
    "# Making the Confusion Matrix\n",
    "from sklearn.metrics import confusion_matrix, accuracy_score, recall_score, f1_score, precision_score\n",
    "cm = confusion_matrix(y_test, y_pred)\n",
    "print(cm)\n",
    "print(f\"Accuracy of model: {accuracy_score(y_test, y_pred)}\")"
   ]
  },
  {
   "cell_type": "code",
   "execution_count": 45,
   "id": "ae396d4b",
   "metadata": {},
   "outputs": [
    {
     "name": "stdout",
     "output_type": "stream",
     "text": [
      "Recall Score of model: 0.43270622286541244\n"
     ]
    }
   ],
   "source": [
    "# Recall = TruePositives / (TruePositives + FalseNegatives)\n",
    "print(f\"Recall Score of model: {recall_score(y_test, y_pred)}\")"
   ]
  },
  {
   "cell_type": "code",
   "execution_count": 46,
   "id": "b80e7fb4",
   "metadata": {},
   "outputs": [
    {
     "name": "stdout",
     "output_type": "stream",
     "text": [
      "F1 Score of model: 0.5964095744680851\n"
     ]
    }
   ],
   "source": [
    "# 2*true positive /( 2*true positive + false positive + false negative)\n",
    "print(f\"F1 Score of model: {f1_score(y_test, y_pred)}\")"
   ]
  },
  {
   "cell_type": "markdown",
   "id": "1a27efc5",
   "metadata": {},
   "source": [
    "### Decision Tree"
   ]
  },
  {
   "cell_type": "code",
   "execution_count": 47,
   "id": "eccbf603",
   "metadata": {},
   "outputs": [
    {
     "data": {
      "image/png": "[encoded data removed]",
      "text/plain": [
       "<Figure size 1152x720 with 1 Axes>"
      ]
     },
     "metadata": {
      "needs_background": "light"
     },
     "output_type": "display_data"
    }
   ],
   "source": [
    "# Training the Decision Tree Classification model on the Training set\n",
    "from sklearn.tree import DecisionTreeClassifier\n",
    "from sklearn import tree\n",
    "dr = DecisionTreeClassifier(criterion = 'entropy', random_state = 0)\n",
    "dr.fit(X_train, y_train)\n",
    "fig = plt.figure(figsize=(16,10))\n",
    "tree.plot_tree(dr, filled=True)\n",
    "plt.title(\"Decision tree trained on all the fraud data\")\n",
    "plt.show()"
   ]
  },
  {
   "cell_type": "code",
   "execution_count": 71,
   "id": "50004347",
   "metadata": {},
   "outputs": [],
   "source": [
    "fig.savefig(\"decistion_tree.png\")"
   ]
  },
  {
   "cell_type": "code",
   "execution_count": 48,
   "id": "3963cef9",
   "metadata": {},
   "outputs": [
    {
     "name": "stdout",
     "output_type": "stream",
     "text": [
      "[[1 1]\n",
      " [1 1]\n",
      " [1 1]\n",
      " ...\n",
      " [1 1]\n",
      " [0 0]\n",
      " [0 0]]\n"
     ]
    }
   ],
   "source": [
    "y_pred = dr.predict(X_test)\n",
    "print(np.concatenate((y_pred.reshape(len(y_pred),1), y_test.reshape(len(y_test),1)),1))"
   ]
  },
  {
   "cell_type": "code",
   "execution_count": 49,
   "id": "4feea251",
   "metadata": {},
   "outputs": [
    {
     "name": "stdout",
     "output_type": "stream",
     "text": [
      "[[2132   23]\n",
      " [  18 2055]]\n",
      "Accuracy of model: 0.990302743614002\n"
     ]
    }
   ],
   "source": [
    "# Making the Confusion Matrix\n",
    "from sklearn.metrics import confusion_matrix, accuracy_score, recall_score, f1_score, precision_score\n",
    "cm = confusion_matrix(y_test, y_pred)\n",
    "print(cm)\n",
    "print(f\"Accuracy of model: {accuracy_score(y_test, y_pred)}\")"
   ]
  },
  {
   "cell_type": "code",
   "execution_count": 50,
   "id": "faa63a30",
   "metadata": {},
   "outputs": [
    {
     "name": "stdout",
     "output_type": "stream",
     "text": [
      "Recall Score of model: 0.9913169319826338\n"
     ]
    }
   ],
   "source": [
    "# Recall = TruePositives / (TruePositives + FalseNegatives)\n",
    "print(f\"Recall Score of model: {recall_score(y_test, y_pred)}\")"
   ]
  },
  {
   "cell_type": "code",
   "execution_count": 51,
   "id": "d772addd",
   "metadata": {},
   "outputs": [
    {
     "name": "stdout",
     "output_type": "stream",
     "text": [
      "F1 Score of model: 0.9901228619609732\n"
     ]
    }
   ],
   "source": [
    "# 2*true positive /( 2*true positive + false positive + false negative)\n",
    "print(f\"F1 Score of model: {f1_score(y_test, y_pred)}\")"
   ]
  },
  {
   "cell_type": "markdown",
   "id": "5e832f94",
   "metadata": {},
   "source": [
    "### Random Forest"
   ]
  },
  {
   "cell_type": "code",
   "execution_count": 52,
   "id": "3c5e6189",
   "metadata": {},
   "outputs": [
    {
     "data": {
      "text/plain": [
       "RandomForestClassifier(criterion='entropy', n_estimators=25, random_state=0)"
      ]
     },
     "execution_count": 52,
     "metadata": {},
     "output_type": "execute_result"
    }
   ],
   "source": [
    "from sklearn.ensemble import RandomForestClassifier\n",
    "rf = RandomForestClassifier(n_estimators = 25, criterion = 'entropy', random_state = 0)\n",
    "rf.fit(X_train, y_train)"
   ]
  },
  {
   "cell_type": "code",
   "execution_count": 53,
   "id": "cb3ca7cd",
   "metadata": {},
   "outputs": [
    {
     "name": "stdout",
     "output_type": "stream",
     "text": [
      "[[1 1]\n",
      " [1 1]\n",
      " [1 1]\n",
      " ...\n",
      " [1 1]\n",
      " [0 0]\n",
      " [0 0]]\n"
     ]
    }
   ],
   "source": [
    "y_pred = rf.predict(X_test)\n",
    "print(np.concatenate((y_pred.reshape(len(y_pred),1), y_test.reshape(len(y_test),1)),1))"
   ]
  },
  {
   "cell_type": "code",
   "execution_count": 54,
   "id": "c2a107e0",
   "metadata": {},
   "outputs": [
    {
     "name": "stdout",
     "output_type": "stream",
     "text": [
      "[[2115   40]\n",
      " [  14 2059]]\n",
      "Accuracy of model: 0.9872280037842952\n"
     ]
    }
   ],
   "source": [
    "# Making the Confusion Matrix\n",
    "from sklearn.metrics import confusion_matrix, accuracy_score, recall_score, f1_score, precision_score\n",
    "cm = confusion_matrix(y_test, y_pred)\n",
    "print(cm)\n",
    "print(f\"Accuracy of model: {accuracy_score(y_test, y_pred)}\")"
   ]
  },
  {
   "cell_type": "code",
   "execution_count": 55,
   "id": "a9375378",
   "metadata": {},
   "outputs": [
    {
     "name": "stdout",
     "output_type": "stream",
     "text": [
      "Recall Score of model: 0.9932465026531597\n"
     ]
    }
   ],
   "source": [
    "# Recall = TruePositives / (TruePositives + FalseNegatives)\n",
    "print(f\"Recall Score of model: {recall_score(y_test, y_pred)}\")"
   ]
  },
  {
   "cell_type": "code",
   "execution_count": 56,
   "id": "665023ed",
   "metadata": {},
   "outputs": [
    {
     "name": "stdout",
     "output_type": "stream",
     "text": [
      "F1 Score of model: 0.9870565675934803\n"
     ]
    }
   ],
   "source": [
    "# 2*true positive /( 2*true positive + false positive + false negative)\n",
    "print(f\"F1 Score of model: {f1_score(y_test, y_pred)}\")"
   ]
  },
  {
   "cell_type": "markdown",
   "id": "5624866d",
   "metadata": {},
   "source": [
    "### Training with Kernel SVM"
   ]
  },
  {
   "cell_type": "code",
   "execution_count": 57,
   "id": "05ba30bc",
   "metadata": {},
   "outputs": [
    {
     "data": {
      "text/plain": [
       "SVC(random_state=0)"
      ]
     },
     "execution_count": 57,
     "metadata": {},
     "output_type": "execute_result"
    }
   ],
   "source": [
    "from sklearn.svm import SVC\n",
    "kernel_svm = SVC(kernel = 'rbf', random_state = 0)\n",
    "kernel_svm.fit(X_train, y_train)"
   ]
  },
  {
   "cell_type": "code",
   "execution_count": 58,
   "id": "ec42bcad",
   "metadata": {},
   "outputs": [
    {
     "name": "stdout",
     "output_type": "stream",
     "text": [
      "[[1 1]\n",
      " [1 1]\n",
      " [1 1]\n",
      " ...\n",
      " [1 1]\n",
      " [0 0]\n",
      " [0 0]]\n"
     ]
    }
   ],
   "source": [
    "y_pred = kernel_svm.predict(X_test)\n",
    "print(np.concatenate((y_pred.reshape(len(y_pred),1), y_test.reshape(len(y_test),1)),1))"
   ]
  },
  {
   "cell_type": "code",
   "execution_count": 59,
   "id": "679f0b13",
   "metadata": {},
   "outputs": [
    {
     "name": "stdout",
     "output_type": "stream",
     "text": [
      "[[2024  131]\n",
      " [ 381 1692]]\n"
     ]
    },
    {
     "data": {
      "text/plain": [
       "0.8789025543992431"
      ]
     },
     "execution_count": 59,
     "metadata": {},
     "output_type": "execute_result"
    }
   ],
   "source": [
    "from sklearn.metrics import confusion_matrix, accuracy_score, recall_score, f1_score\n",
    "cm = confusion_matrix(y_test, y_pred)\n",
    "print(cm)\n",
    "accuracy_score(y_test, y_pred)"
   ]
  },
  {
   "cell_type": "code",
   "execution_count": 60,
   "id": "a53b51ed",
   "metadata": {},
   "outputs": [
    {
     "name": "stdout",
     "output_type": "stream",
     "text": [
      "Recall Score of model: 0.8162083936324168\n"
     ]
    }
   ],
   "source": [
    "# Recall = TruePositives / (TruePositives + FalseNegatives)\n",
    "print(f\"Recall Score of model: {recall_score(y_test, y_pred)}\")"
   ]
  },
  {
   "cell_type": "code",
   "execution_count": 61,
   "id": "162a8247",
   "metadata": {},
   "outputs": [
    {
     "name": "stdout",
     "output_type": "stream",
     "text": [
      "F1 Score of model: 0.8685831622176592\n"
     ]
    }
   ],
   "source": [
    "# 2*true positive /( 2*true positive + false positive + false negative)\n",
    "print(f\"F1 Score of model: {f1_score(y_test, y_pred)}\")"
   ]
  },
  {
   "cell_type": "markdown",
   "id": "da530e38",
   "metadata": {},
   "source": [
    "### Predicting a single input"
   ]
  },
  {
   "cell_type": "code",
   "execution_count": 62,
   "id": "17815608",
   "metadata": {},
   "outputs": [
    {
     "name": "stdout",
     "output_type": "stream",
     "text": [
      "[0]\n",
      "[1]\n"
     ]
    }
   ],
   "source": [
    "# type_num\tamount\tnameOrig\toldbalanceOrg\tnewbalanceOrig\toldbalanceDest\tnewbalanceDest\n",
    "print(classifier.predict(sc.transform([[0,74445.62,1796046115,0.00,0.0,1371784.99,1446230.61]])))\n",
    "\n",
    "print(classifier.predict([[1,63416.99,778071008,63416.99,0.0,0.00,0.00]]))"
   ]
  },
  {
   "cell_type": "markdown",
   "id": "2f4aa95a",
   "metadata": {},
   "source": [
    "We can see from above prediction that it came up with correct prediction for the above query"
   ]
  },
  {
   "cell_type": "markdown",
   "id": "4018e9fc",
   "metadata": {},
   "source": [
    "### Saving our model"
   ]
  },
  {
   "cell_type": "code",
   "execution_count": 67,
   "id": "e1768963",
   "metadata": {},
   "outputs": [],
   "source": [
    "# import pickle\n",
    "\n",
    "# # Dumping our model into a file\n",
    "# with open('fraud_model3.bin', 'wb') as f_out:\n",
    "#     pickle.dump(dr, f_out)"
   ]
  },
  {
   "cell_type": "markdown",
   "id": "bca7092a",
   "metadata": {},
   "source": [
    "### Trying our pickle model"
   ]
  },
  {
   "cell_type": "code",
   "execution_count": 68,
   "id": "3ab79a1e",
   "metadata": {},
   "outputs": [],
   "source": [
    "# with open('fraud_model3.bin', 'rb') as f_in:\n",
    "#     model3 = pickle.load(f_in)"
   ]
  },
  {
   "cell_type": "code",
   "execution_count": 70,
   "id": "1a81f32d",
   "metadata": {},
   "outputs": [
    {
     "data": {
      "text/plain": [
       "array([0], dtype=int64)"
      ]
     },
     "execution_count": 70,
     "metadata": {},
     "output_type": "execute_result"
    }
   ],
   "source": [
    "# predicting the single value which we predicted before\n",
    "# predict_mpg(sc.transform([[3, 14650.1, 908817173, 19373.0, 4722.9, 0.0, 0.0,]]), model)\n",
    "\n",
    "model3.predict([[2, 14650.1, 908817173, 19373.0, 4722.9, 0.0, 0.0]])"
   ]
  },
  {
   "cell_type": "markdown",
   "id": "ac884409",
   "metadata": {},
   "source": [
    "It gives the same result from before, it means our model is working fine"
   ]
  },
  {
   "cell_type": "code",
   "execution_count": null,
   "id": "2d9a238e",
   "metadata": {},
   "outputs": [],
   "source": []
  }
 ],
 "metadata": {
  "kernelspec": {
   "display_name": "Python 3 (ipykernel)",
   "language": "python",
   "name": "python3"
  },
  "language_info": {
   "codemirror_mode": {
    "name": "ipython",
    "version": 3
   },
   "file_extension": ".py",
   "mimetype": "text/x-python",
   "name": "python",
   "nbconvert_exporter": "python",
   "pygments_lexer": "ipython3",
   "version": "3.9.7"
  }
 },
 "nbformat": 4,
 "nbformat_minor": 5
}
