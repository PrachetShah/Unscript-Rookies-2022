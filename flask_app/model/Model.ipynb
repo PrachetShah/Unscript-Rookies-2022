{
 "cells": [
  {
   "cell_type": "markdown",
   "id": "3cdeabd0",
   "metadata": {},
   "source": [
    "### EDA "
   ]
  },
  {
   "cell_type": "code",
   "execution_count": 1,
   "id": "7004d957",
   "metadata": {},
   "outputs": [],
   "source": [
    "# Importing the libraries\n",
    "import numpy as np\n",
    "import matplotlib.pyplot as plt\n",
    "import pandas as pd"
   ]
  },
  {
   "cell_type": "code",
   "execution_count": 2,
   "id": "fea47cbb",
   "metadata": {},
   "outputs": [
    {
     "data": {
      "text/html": [
       "<div>\n",
       "<style scoped>\n",
       "    .dataframe tbody tr th:only-of-type {\n",
       "        vertical-align: middle;\n",
       "    }\n",
       "\n",
       "    .dataframe tbody tr th {\n",
       "        vertical-align: top;\n",
       "    }\n",
       "\n",
       "    .dataframe thead th {\n",
       "        text-align: right;\n",
       "    }\n",
       "</style>\n",
       "<table border=\"1\" class=\"dataframe\">\n",
       "  <thead>\n",
       "    <tr style=\"text-align: right;\">\n",
       "      <th></th>\n",
       "      <th>step</th>\n",
       "      <th>type</th>\n",
       "      <th>amount</th>\n",
       "      <th>nameOrig</th>\n",
       "      <th>oldbalanceOrg</th>\n",
       "      <th>newbalanceOrig</th>\n",
       "      <th>nameDest</th>\n",
       "      <th>oldbalanceDest</th>\n",
       "      <th>newbalanceDest</th>\n",
       "      <th>isFraud</th>\n",
       "      <th>isFlaggedFraud</th>\n",
       "    </tr>\n",
       "  </thead>\n",
       "  <tbody>\n",
       "    <tr>\n",
       "      <th>0</th>\n",
       "      <td>1</td>\n",
       "      <td>PAYMENT</td>\n",
       "      <td>9839.64</td>\n",
       "      <td>C1231006815</td>\n",
       "      <td>170136.0</td>\n",
       "      <td>160296.36</td>\n",
       "      <td>M1979787155</td>\n",
       "      <td>0.0</td>\n",
       "      <td>0.0</td>\n",
       "      <td>0</td>\n",
       "      <td>0</td>\n",
       "    </tr>\n",
       "    <tr>\n",
       "      <th>1</th>\n",
       "      <td>1</td>\n",
       "      <td>PAYMENT</td>\n",
       "      <td>1864.28</td>\n",
       "      <td>C1666544295</td>\n",
       "      <td>21249.0</td>\n",
       "      <td>19384.72</td>\n",
       "      <td>M2044282225</td>\n",
       "      <td>0.0</td>\n",
       "      <td>0.0</td>\n",
       "      <td>0</td>\n",
       "      <td>0</td>\n",
       "    </tr>\n",
       "    <tr>\n",
       "      <th>2</th>\n",
       "      <td>1</td>\n",
       "      <td>TRANSFER</td>\n",
       "      <td>181.00</td>\n",
       "      <td>C1305486145</td>\n",
       "      <td>181.0</td>\n",
       "      <td>0.00</td>\n",
       "      <td>C553264065</td>\n",
       "      <td>0.0</td>\n",
       "      <td>0.0</td>\n",
       "      <td>1</td>\n",
       "      <td>0</td>\n",
       "    </tr>\n",
       "    <tr>\n",
       "      <th>3</th>\n",
       "      <td>1</td>\n",
       "      <td>CASH_OUT</td>\n",
       "      <td>181.00</td>\n",
       "      <td>C840083671</td>\n",
       "      <td>181.0</td>\n",
       "      <td>0.00</td>\n",
       "      <td>C38997010</td>\n",
       "      <td>21182.0</td>\n",
       "      <td>0.0</td>\n",
       "      <td>1</td>\n",
       "      <td>0</td>\n",
       "    </tr>\n",
       "    <tr>\n",
       "      <th>4</th>\n",
       "      <td>1</td>\n",
       "      <td>PAYMENT</td>\n",
       "      <td>11668.14</td>\n",
       "      <td>C2048537720</td>\n",
       "      <td>41554.0</td>\n",
       "      <td>29885.86</td>\n",
       "      <td>M1230701703</td>\n",
       "      <td>0.0</td>\n",
       "      <td>0.0</td>\n",
       "      <td>0</td>\n",
       "      <td>0</td>\n",
       "    </tr>\n",
       "  </tbody>\n",
       "</table>\n",
       "</div>"
      ],
      "text/plain": [
       "   step      type    amount     nameOrig  oldbalanceOrg  newbalanceOrig  \\\n",
       "0     1   PAYMENT   9839.64  C1231006815       170136.0       160296.36   \n",
       "1     1   PAYMENT   1864.28  C1666544295        21249.0        19384.72   \n",
       "2     1  TRANSFER    181.00  C1305486145          181.0            0.00   \n",
       "3     1  CASH_OUT    181.00   C840083671          181.0            0.00   \n",
       "4     1   PAYMENT  11668.14  C2048537720        41554.0        29885.86   \n",
       "\n",
       "      nameDest  oldbalanceDest  newbalanceDest  isFraud  isFlaggedFraud  \n",
       "0  M1979787155             0.0             0.0        0               0  \n",
       "1  M2044282225             0.0             0.0        0               0  \n",
       "2   C553264065             0.0             0.0        1               0  \n",
       "3    C38997010         21182.0             0.0        1               0  \n",
       "4  M1230701703             0.0             0.0        0               0  "
      ]
     },
     "execution_count": 2,
     "metadata": {},
     "output_type": "execute_result"
    }
   ],
   "source": [
    "# Importing the dataset\n",
    "dataset = pd.read_csv('AIML Dataset.csv')\n",
    "dataset.head()"
   ]
  },
  {
   "cell_type": "code",
   "execution_count": 3,
   "id": "15eca190",
   "metadata": {},
   "outputs": [
    {
     "data": {
      "text/plain": [
       "(6362620, 11)"
      ]
     },
     "execution_count": 3,
     "metadata": {},
     "output_type": "execute_result"
    }
   ],
   "source": [
    "dataset.shape"
   ]
  },
  {
   "cell_type": "code",
   "execution_count": 4,
   "id": "ba722fd6",
   "metadata": {},
   "outputs": [
    {
     "data": {
      "text/plain": [
       "Index(['step', 'type', 'amount', 'nameOrig', 'oldbalanceOrg', 'newbalanceOrig',\n",
       "       'nameDest', 'oldbalanceDest', 'newbalanceDest', 'isFraud',\n",
       "       'isFlaggedFraud'],\n",
       "      dtype='object')"
      ]
     },
     "execution_count": 4,
     "metadata": {},
     "output_type": "execute_result"
    }
   ],
   "source": [
    "dataset.columns"
   ]
  },
  {
   "cell_type": "code",
   "execution_count": 5,
   "id": "a1667e8e",
   "metadata": {},
   "outputs": [
    {
     "data": {
      "text/plain": [
       "False"
      ]
     },
     "execution_count": 5,
     "metadata": {},
     "output_type": "execute_result"
    }
   ],
   "source": [
    "# Used to find if dataset has any missing values\n",
    "dataset.isna().sum().any()"
   ]
  },
  {
   "cell_type": "code",
   "execution_count": 6,
   "id": "4d64f619",
   "metadata": {},
   "outputs": [
    {
     "name": "stdout",
     "output_type": "stream",
     "text": [
      "<class 'pandas.core.frame.DataFrame'>\n",
      "RangeIndex: 6362620 entries, 0 to 6362619\n",
      "Data columns (total 11 columns):\n",
      " #   Column          Dtype  \n",
      "---  ------          -----  \n",
      " 0   step            int64  \n",
      " 1   type            object \n",
      " 2   amount          float64\n",
      " 3   nameOrig        object \n",
      " 4   oldbalanceOrg   float64\n",
      " 5   newbalanceOrig  float64\n",
      " 6   nameDest        object \n",
      " 7   oldbalanceDest  float64\n",
      " 8   newbalanceDest  float64\n",
      " 9   isFraud         int64  \n",
      " 10  isFlaggedFraud  int64  \n",
      "dtypes: float64(5), int64(3), object(3)\n",
      "memory usage: 534.0+ MB\n"
     ]
    }
   ],
   "source": [
    "dataset.info()"
   ]
  },
  {
   "cell_type": "code",
   "execution_count": 7,
   "id": "8634cb35",
   "metadata": {},
   "outputs": [
    {
     "data": {
      "text/html": [
       "<div>\n",
       "<style scoped>\n",
       "    .dataframe tbody tr th:only-of-type {\n",
       "        vertical-align: middle;\n",
       "    }\n",
       "\n",
       "    .dataframe tbody tr th {\n",
       "        vertical-align: top;\n",
       "    }\n",
       "\n",
       "    .dataframe thead th {\n",
       "        text-align: right;\n",
       "    }\n",
       "</style>\n",
       "<table border=\"1\" class=\"dataframe\">\n",
       "  <thead>\n",
       "    <tr style=\"text-align: right;\">\n",
       "      <th></th>\n",
       "      <th>step</th>\n",
       "      <th>amount</th>\n",
       "      <th>oldbalanceOrg</th>\n",
       "      <th>newbalanceOrig</th>\n",
       "      <th>oldbalanceDest</th>\n",
       "      <th>newbalanceDest</th>\n",
       "      <th>isFraud</th>\n",
       "      <th>isFlaggedFraud</th>\n",
       "    </tr>\n",
       "  </thead>\n",
       "  <tbody>\n",
       "    <tr>\n",
       "      <th>count</th>\n",
       "      <td>6.362620e+06</td>\n",
       "      <td>6.362620e+06</td>\n",
       "      <td>6.362620e+06</td>\n",
       "      <td>6.362620e+06</td>\n",
       "      <td>6.362620e+06</td>\n",
       "      <td>6.362620e+06</td>\n",
       "      <td>6.362620e+06</td>\n",
       "      <td>6.362620e+06</td>\n",
       "    </tr>\n",
       "    <tr>\n",
       "      <th>mean</th>\n",
       "      <td>2.433972e+02</td>\n",
       "      <td>1.798619e+05</td>\n",
       "      <td>8.338831e+05</td>\n",
       "      <td>8.551137e+05</td>\n",
       "      <td>1.100702e+06</td>\n",
       "      <td>1.224996e+06</td>\n",
       "      <td>1.290820e-03</td>\n",
       "      <td>2.514687e-06</td>\n",
       "    </tr>\n",
       "    <tr>\n",
       "      <th>std</th>\n",
       "      <td>1.423320e+02</td>\n",
       "      <td>6.038582e+05</td>\n",
       "      <td>2.888243e+06</td>\n",
       "      <td>2.924049e+06</td>\n",
       "      <td>3.399180e+06</td>\n",
       "      <td>3.674129e+06</td>\n",
       "      <td>3.590480e-02</td>\n",
       "      <td>1.585775e-03</td>\n",
       "    </tr>\n",
       "    <tr>\n",
       "      <th>min</th>\n",
       "      <td>1.000000e+00</td>\n",
       "      <td>0.000000e+00</td>\n",
       "      <td>0.000000e+00</td>\n",
       "      <td>0.000000e+00</td>\n",
       "      <td>0.000000e+00</td>\n",
       "      <td>0.000000e+00</td>\n",
       "      <td>0.000000e+00</td>\n",
       "      <td>0.000000e+00</td>\n",
       "    </tr>\n",
       "    <tr>\n",
       "      <th>25%</th>\n",
       "      <td>1.560000e+02</td>\n",
       "      <td>1.338957e+04</td>\n",
       "      <td>0.000000e+00</td>\n",
       "      <td>0.000000e+00</td>\n",
       "      <td>0.000000e+00</td>\n",
       "      <td>0.000000e+00</td>\n",
       "      <td>0.000000e+00</td>\n",
       "      <td>0.000000e+00</td>\n",
       "    </tr>\n",
       "    <tr>\n",
       "      <th>50%</th>\n",
       "      <td>2.390000e+02</td>\n",
       "      <td>7.487194e+04</td>\n",
       "      <td>1.420800e+04</td>\n",
       "      <td>0.000000e+00</td>\n",
       "      <td>1.327057e+05</td>\n",
       "      <td>2.146614e+05</td>\n",
       "      <td>0.000000e+00</td>\n",
       "      <td>0.000000e+00</td>\n",
       "    </tr>\n",
       "    <tr>\n",
       "      <th>75%</th>\n",
       "      <td>3.350000e+02</td>\n",
       "      <td>2.087215e+05</td>\n",
       "      <td>1.073152e+05</td>\n",
       "      <td>1.442584e+05</td>\n",
       "      <td>9.430367e+05</td>\n",
       "      <td>1.111909e+06</td>\n",
       "      <td>0.000000e+00</td>\n",
       "      <td>0.000000e+00</td>\n",
       "    </tr>\n",
       "    <tr>\n",
       "      <th>max</th>\n",
       "      <td>7.430000e+02</td>\n",
       "      <td>9.244552e+07</td>\n",
       "      <td>5.958504e+07</td>\n",
       "      <td>4.958504e+07</td>\n",
       "      <td>3.560159e+08</td>\n",
       "      <td>3.561793e+08</td>\n",
       "      <td>1.000000e+00</td>\n",
       "      <td>1.000000e+00</td>\n",
       "    </tr>\n",
       "  </tbody>\n",
       "</table>\n",
       "</div>"
      ],
      "text/plain": [
       "               step        amount  oldbalanceOrg  newbalanceOrig  \\\n",
       "count  6.362620e+06  6.362620e+06   6.362620e+06    6.362620e+06   \n",
       "mean   2.433972e+02  1.798619e+05   8.338831e+05    8.551137e+05   \n",
       "std    1.423320e+02  6.038582e+05   2.888243e+06    2.924049e+06   \n",
       "min    1.000000e+00  0.000000e+00   0.000000e+00    0.000000e+00   \n",
       "25%    1.560000e+02  1.338957e+04   0.000000e+00    0.000000e+00   \n",
       "50%    2.390000e+02  7.487194e+04   1.420800e+04    0.000000e+00   \n",
       "75%    3.350000e+02  2.087215e+05   1.073152e+05    1.442584e+05   \n",
       "max    7.430000e+02  9.244552e+07   5.958504e+07    4.958504e+07   \n",
       "\n",
       "       oldbalanceDest  newbalanceDest       isFraud  isFlaggedFraud  \n",
       "count    6.362620e+06    6.362620e+06  6.362620e+06    6.362620e+06  \n",
       "mean     1.100702e+06    1.224996e+06  1.290820e-03    2.514687e-06  \n",
       "std      3.399180e+06    3.674129e+06  3.590480e-02    1.585775e-03  \n",
       "min      0.000000e+00    0.000000e+00  0.000000e+00    0.000000e+00  \n",
       "25%      0.000000e+00    0.000000e+00  0.000000e+00    0.000000e+00  \n",
       "50%      1.327057e+05    2.146614e+05  0.000000e+00    0.000000e+00  \n",
       "75%      9.430367e+05    1.111909e+06  0.000000e+00    0.000000e+00  \n",
       "max      3.560159e+08    3.561793e+08  1.000000e+00    1.000000e+00  "
      ]
     },
     "execution_count": 7,
     "metadata": {},
     "output_type": "execute_result"
    }
   ],
   "source": [
    "dataset.describe()"
   ]
  },
  {
   "cell_type": "code",
   "execution_count": 8,
   "id": "0922499f",
   "metadata": {},
   "outputs": [
    {
     "data": {
      "text/plain": [
       "0    6354407\n",
       "1       8213\n",
       "Name: isFraud, dtype: int64"
      ]
     },
     "execution_count": 8,
     "metadata": {},
     "output_type": "execute_result"
    }
   ],
   "source": [
    "dataset.isFraud.value_counts()"
   ]
  },
  {
   "cell_type": "code",
   "execution_count": 9,
   "id": "eb8563fe",
   "metadata": {},
   "outputs": [
    {
     "data": {
      "text/plain": [
       "CASH_OUT    2237500\n",
       "PAYMENT     2151495\n",
       "CASH_IN     1399284\n",
       "TRANSFER     532909\n",
       "DEBIT         41432\n",
       "Name: type, dtype: int64"
      ]
     },
     "execution_count": 9,
     "metadata": {},
     "output_type": "execute_result"
    }
   ],
   "source": [
    "dataset.type.value_counts()"
   ]
  },
  {
   "cell_type": "code",
   "execution_count": 10,
   "id": "03f37de7",
   "metadata": {},
   "outputs": [
    {
     "name": "stdout",
     "output_type": "stream",
     "text": [
      "4116\n",
      "0\n",
      "0\n",
      "4097\n",
      "0\n"
     ]
    }
   ],
   "source": [
    "# Finding which categories have most frauds\n",
    "dfFraudCash_Out = dataset.loc[(dataset.isFraud == 1) & (dataset.type == 'CASH_OUT')]\n",
    "dfFraudPayment = dataset.loc[(dataset.isFraud == 1) & (dataset.type == 'PAYMENT')]\n",
    "dfFraudCash_in = dataset.loc[(dataset.isFraud == 1) & (dataset.type == 'CASH_IN')]\n",
    "dfFraudTransfer = dataset.loc[(dataset.isFraud == 1) & (dataset.type == 'TRANSFER')]\n",
    "dfFraudDebit = dataset.loc[(dataset.isFraud == 1) & (dataset.type == 'DEBIT')]\n",
    "\n",
    "print(len(dfFraudCash_Out))\n",
    "print(len(dfFraudPayment))\n",
    "print(len(dfFraudCash_in))\n",
    "print(len(dfFraudTransfer))\n",
    "print(len(dfFraudDebit))"
   ]
  },
  {
   "cell_type": "code",
   "execution_count": 11,
   "id": "2b178ee2",
   "metadata": {},
   "outputs": [],
   "source": [
    "# we will be taking only these types into our data for analysis as they are the only one which have fraudulent transactions\n",
    "fraud_cashout = dataset.loc[(dataset.isFraud == 1) & (dataset['type'] == 'CASH_OUT')]\n",
    "fraud_transfer = dataset.loc[(dataset.isFraud == 1) & (dataset['type'] == 'TRANSFER')]"
   ]
  },
  {
   "cell_type": "code",
   "execution_count": 12,
   "id": "ec27110e",
   "metadata": {},
   "outputs": [
    {
     "name": "stdout",
     "output_type": "stream",
     "text": [
      "2233384\n",
      "528812\n"
     ]
    }
   ],
   "source": [
    "# finding how many not fraudulent transactions cash out and transfers have\n",
    "dfnotFraudCash_Out = dataset.loc[(dataset.isFraud == 0) & (dataset.type == 'CASH_OUT')]\n",
    "dfnotFraudTransfer = dataset.loc[(dataset.isFraud == 0) & (dataset.type == 'TRANSFER')]\n",
    "\n",
    "print(len(dfnotFraudCash_Out))\n",
    "print(len(dfnotFraudTransfer))"
   ]
  },
  {
   "cell_type": "code",
   "execution_count": 13,
   "id": "f4fc18ce",
   "metadata": {},
   "outputs": [],
   "source": [
    "#reshaping the data randomly to balance the dataset and reduce overfitting\n",
    "data1 = dataset.loc[(dataset.isFraud == 0) & (dataset['type'] == 'CASH_OUT')].sample(frac=0.002)\n",
    "data2 = dataset.loc[(dataset.isFraud == 0) & (dataset['type'] == 'TRANSFER')].sample(frac=0.008)"
   ]
  },
  {
   "cell_type": "code",
   "execution_count": 14,
   "id": "ba2be64e",
   "metadata": {},
   "outputs": [
    {
     "data": {
      "text/html": [
       "<div>\n",
       "<style scoped>\n",
       "    .dataframe tbody tr th:only-of-type {\n",
       "        vertical-align: middle;\n",
       "    }\n",
       "\n",
       "    .dataframe tbody tr th {\n",
       "        vertical-align: top;\n",
       "    }\n",
       "\n",
       "    .dataframe thead th {\n",
       "        text-align: right;\n",
       "    }\n",
       "</style>\n",
       "<table border=\"1\" class=\"dataframe\">\n",
       "  <thead>\n",
       "    <tr style=\"text-align: right;\">\n",
       "      <th></th>\n",
       "      <th>step</th>\n",
       "      <th>type</th>\n",
       "      <th>amount</th>\n",
       "      <th>nameOrig</th>\n",
       "      <th>oldbalanceOrg</th>\n",
       "      <th>newbalanceOrig</th>\n",
       "      <th>nameDest</th>\n",
       "      <th>oldbalanceDest</th>\n",
       "      <th>newbalanceDest</th>\n",
       "      <th>isFraud</th>\n",
       "      <th>isFlaggedFraud</th>\n",
       "    </tr>\n",
       "  </thead>\n",
       "  <tbody>\n",
       "    <tr>\n",
       "      <th>4763790</th>\n",
       "      <td>334</td>\n",
       "      <td>CASH_OUT</td>\n",
       "      <td>410997.06</td>\n",
       "      <td>C701431256</td>\n",
       "      <td>76785.8</td>\n",
       "      <td>0.00</td>\n",
       "      <td>C1543229965</td>\n",
       "      <td>448566.15</td>\n",
       "      <td>859563.21</td>\n",
       "      <td>0</td>\n",
       "      <td>0</td>\n",
       "    </tr>\n",
       "    <tr>\n",
       "      <th>3120953</th>\n",
       "      <td>236</td>\n",
       "      <td>CASH_OUT</td>\n",
       "      <td>112304.24</td>\n",
       "      <td>C1412564892</td>\n",
       "      <td>0.0</td>\n",
       "      <td>0.00</td>\n",
       "      <td>C1808332718</td>\n",
       "      <td>599014.62</td>\n",
       "      <td>711318.87</td>\n",
       "      <td>0</td>\n",
       "      <td>0</td>\n",
       "    </tr>\n",
       "    <tr>\n",
       "      <th>5159112</th>\n",
       "      <td>357</td>\n",
       "      <td>CASH_OUT</td>\n",
       "      <td>50462.63</td>\n",
       "      <td>C450549073</td>\n",
       "      <td>16250.0</td>\n",
       "      <td>0.00</td>\n",
       "      <td>C1767099698</td>\n",
       "      <td>91893.83</td>\n",
       "      <td>142356.46</td>\n",
       "      <td>0</td>\n",
       "      <td>0</td>\n",
       "    </tr>\n",
       "    <tr>\n",
       "      <th>626989</th>\n",
       "      <td>34</td>\n",
       "      <td>CASH_OUT</td>\n",
       "      <td>153985.49</td>\n",
       "      <td>C1363774571</td>\n",
       "      <td>41599.0</td>\n",
       "      <td>0.00</td>\n",
       "      <td>C1097165431</td>\n",
       "      <td>0.00</td>\n",
       "      <td>153985.49</td>\n",
       "      <td>0</td>\n",
       "      <td>0</td>\n",
       "    </tr>\n",
       "    <tr>\n",
       "      <th>4913044</th>\n",
       "      <td>349</td>\n",
       "      <td>CASH_OUT</td>\n",
       "      <td>61224.16</td>\n",
       "      <td>C1603772757</td>\n",
       "      <td>101227.0</td>\n",
       "      <td>40002.84</td>\n",
       "      <td>C818818003</td>\n",
       "      <td>860545.35</td>\n",
       "      <td>921769.51</td>\n",
       "      <td>0</td>\n",
       "      <td>0</td>\n",
       "    </tr>\n",
       "    <tr>\n",
       "      <th>...</th>\n",
       "      <td>...</td>\n",
       "      <td>...</td>\n",
       "      <td>...</td>\n",
       "      <td>...</td>\n",
       "      <td>...</td>\n",
       "      <td>...</td>\n",
       "      <td>...</td>\n",
       "      <td>...</td>\n",
       "      <td>...</td>\n",
       "      <td>...</td>\n",
       "      <td>...</td>\n",
       "    </tr>\n",
       "    <tr>\n",
       "      <th>5626121</th>\n",
       "      <td>395</td>\n",
       "      <td>CASH_OUT</td>\n",
       "      <td>172057.89</td>\n",
       "      <td>C1160765619</td>\n",
       "      <td>203578.0</td>\n",
       "      <td>31520.11</td>\n",
       "      <td>C1459933600</td>\n",
       "      <td>267983.74</td>\n",
       "      <td>440041.63</td>\n",
       "      <td>0</td>\n",
       "      <td>0</td>\n",
       "    </tr>\n",
       "    <tr>\n",
       "      <th>2731565</th>\n",
       "      <td>212</td>\n",
       "      <td>CASH_OUT</td>\n",
       "      <td>108453.04</td>\n",
       "      <td>C1916455248</td>\n",
       "      <td>40443.0</td>\n",
       "      <td>0.00</td>\n",
       "      <td>C943141165</td>\n",
       "      <td>304960.32</td>\n",
       "      <td>413413.36</td>\n",
       "      <td>0</td>\n",
       "      <td>0</td>\n",
       "    </tr>\n",
       "    <tr>\n",
       "      <th>3070523</th>\n",
       "      <td>235</td>\n",
       "      <td>CASH_OUT</td>\n",
       "      <td>204088.06</td>\n",
       "      <td>C719873664</td>\n",
       "      <td>211.0</td>\n",
       "      <td>0.00</td>\n",
       "      <td>C1958561859</td>\n",
       "      <td>3435762.51</td>\n",
       "      <td>3639850.57</td>\n",
       "      <td>0</td>\n",
       "      <td>0</td>\n",
       "    </tr>\n",
       "    <tr>\n",
       "      <th>4599371</th>\n",
       "      <td>328</td>\n",
       "      <td>CASH_OUT</td>\n",
       "      <td>408769.59</td>\n",
       "      <td>C1160684384</td>\n",
       "      <td>14463.0</td>\n",
       "      <td>0.00</td>\n",
       "      <td>C274147739</td>\n",
       "      <td>698885.41</td>\n",
       "      <td>1107655.01</td>\n",
       "      <td>0</td>\n",
       "      <td>0</td>\n",
       "    </tr>\n",
       "    <tr>\n",
       "      <th>2105534</th>\n",
       "      <td>183</td>\n",
       "      <td>CASH_OUT</td>\n",
       "      <td>104083.63</td>\n",
       "      <td>C2065510951</td>\n",
       "      <td>0.0</td>\n",
       "      <td>0.00</td>\n",
       "      <td>C755741344</td>\n",
       "      <td>391675.09</td>\n",
       "      <td>495758.72</td>\n",
       "      <td>0</td>\n",
       "      <td>0</td>\n",
       "    </tr>\n",
       "  </tbody>\n",
       "</table>\n",
       "<p>4467 rows × 11 columns</p>\n",
       "</div>"
      ],
      "text/plain": [
       "         step      type     amount     nameOrig  oldbalanceOrg  \\\n",
       "4763790   334  CASH_OUT  410997.06   C701431256        76785.8   \n",
       "3120953   236  CASH_OUT  112304.24  C1412564892            0.0   \n",
       "5159112   357  CASH_OUT   50462.63   C450549073        16250.0   \n",
       "626989     34  CASH_OUT  153985.49  C1363774571        41599.0   \n",
       "4913044   349  CASH_OUT   61224.16  C1603772757       101227.0   \n",
       "...       ...       ...        ...          ...            ...   \n",
       "5626121   395  CASH_OUT  172057.89  C1160765619       203578.0   \n",
       "2731565   212  CASH_OUT  108453.04  C1916455248        40443.0   \n",
       "3070523   235  CASH_OUT  204088.06   C719873664          211.0   \n",
       "4599371   328  CASH_OUT  408769.59  C1160684384        14463.0   \n",
       "2105534   183  CASH_OUT  104083.63  C2065510951            0.0   \n",
       "\n",
       "         newbalanceOrig     nameDest  oldbalanceDest  newbalanceDest  isFraud  \\\n",
       "4763790            0.00  C1543229965       448566.15       859563.21        0   \n",
       "3120953            0.00  C1808332718       599014.62       711318.87        0   \n",
       "5159112            0.00  C1767099698        91893.83       142356.46        0   \n",
       "626989             0.00  C1097165431            0.00       153985.49        0   \n",
       "4913044        40002.84   C818818003       860545.35       921769.51        0   \n",
       "...                 ...          ...             ...             ...      ...   \n",
       "5626121        31520.11  C1459933600       267983.74       440041.63        0   \n",
       "2731565            0.00   C943141165       304960.32       413413.36        0   \n",
       "3070523            0.00  C1958561859      3435762.51      3639850.57        0   \n",
       "4599371            0.00   C274147739       698885.41      1107655.01        0   \n",
       "2105534            0.00   C755741344       391675.09       495758.72        0   \n",
       "\n",
       "         isFlaggedFraud  \n",
       "4763790               0  \n",
       "3120953               0  \n",
       "5159112               0  \n",
       "626989                0  \n",
       "4913044               0  \n",
       "...                 ...  \n",
       "5626121               0  \n",
       "2731565               0  \n",
       "3070523               0  \n",
       "4599371               0  \n",
       "2105534               0  \n",
       "\n",
       "[4467 rows x 11 columns]"
      ]
     },
     "execution_count": 14,
     "metadata": {},
     "output_type": "execute_result"
    }
   ],
   "source": [
    "data1"
   ]
  },
  {
   "cell_type": "code",
   "execution_count": 15,
   "id": "f76972ff",
   "metadata": {},
   "outputs": [
    {
     "data": {
      "text/html": [
       "<div>\n",
       "<style scoped>\n",
       "    .dataframe tbody tr th:only-of-type {\n",
       "        vertical-align: middle;\n",
       "    }\n",
       "\n",
       "    .dataframe tbody tr th {\n",
       "        vertical-align: top;\n",
       "    }\n",
       "\n",
       "    .dataframe thead th {\n",
       "        text-align: right;\n",
       "    }\n",
       "</style>\n",
       "<table border=\"1\" class=\"dataframe\">\n",
       "  <thead>\n",
       "    <tr style=\"text-align: right;\">\n",
       "      <th></th>\n",
       "      <th>step</th>\n",
       "      <th>type</th>\n",
       "      <th>amount</th>\n",
       "      <th>nameOrig</th>\n",
       "      <th>oldbalanceOrg</th>\n",
       "      <th>newbalanceOrig</th>\n",
       "      <th>nameDest</th>\n",
       "      <th>oldbalanceDest</th>\n",
       "      <th>newbalanceDest</th>\n",
       "      <th>isFraud</th>\n",
       "      <th>isFlaggedFraud</th>\n",
       "    </tr>\n",
       "  </thead>\n",
       "  <tbody>\n",
       "    <tr>\n",
       "      <th>1050178</th>\n",
       "      <td>95</td>\n",
       "      <td>TRANSFER</td>\n",
       "      <td>234120.52</td>\n",
       "      <td>C1761947132</td>\n",
       "      <td>178.00</td>\n",
       "      <td>0.0</td>\n",
       "      <td>C603299395</td>\n",
       "      <td>164875.43</td>\n",
       "      <td>398995.95</td>\n",
       "      <td>0</td>\n",
       "      <td>0</td>\n",
       "    </tr>\n",
       "    <tr>\n",
       "      <th>11330</th>\n",
       "      <td>7</td>\n",
       "      <td>TRANSFER</td>\n",
       "      <td>664272.52</td>\n",
       "      <td>C993638207</td>\n",
       "      <td>0.00</td>\n",
       "      <td>0.0</td>\n",
       "      <td>C1419794148</td>\n",
       "      <td>2813795.50</td>\n",
       "      <td>4871037.90</td>\n",
       "      <td>0</td>\n",
       "      <td>0</td>\n",
       "    </tr>\n",
       "    <tr>\n",
       "      <th>390853</th>\n",
       "      <td>17</td>\n",
       "      <td>TRANSFER</td>\n",
       "      <td>225268.41</td>\n",
       "      <td>C254949036</td>\n",
       "      <td>118708.55</td>\n",
       "      <td>0.0</td>\n",
       "      <td>C1823874165</td>\n",
       "      <td>527404.69</td>\n",
       "      <td>752673.11</td>\n",
       "      <td>0</td>\n",
       "      <td>0</td>\n",
       "    </tr>\n",
       "    <tr>\n",
       "      <th>5886810</th>\n",
       "      <td>403</td>\n",
       "      <td>TRANSFER</td>\n",
       "      <td>469051.20</td>\n",
       "      <td>C374255528</td>\n",
       "      <td>8450.00</td>\n",
       "      <td>0.0</td>\n",
       "      <td>C826095009</td>\n",
       "      <td>185942.12</td>\n",
       "      <td>654993.32</td>\n",
       "      <td>0</td>\n",
       "      <td>0</td>\n",
       "    </tr>\n",
       "    <tr>\n",
       "      <th>6343727</th>\n",
       "      <td>692</td>\n",
       "      <td>TRANSFER</td>\n",
       "      <td>1061185.67</td>\n",
       "      <td>C1122124676</td>\n",
       "      <td>0.00</td>\n",
       "      <td>0.0</td>\n",
       "      <td>C1536327216</td>\n",
       "      <td>5745701.79</td>\n",
       "      <td>6806887.46</td>\n",
       "      <td>0</td>\n",
       "      <td>0</td>\n",
       "    </tr>\n",
       "    <tr>\n",
       "      <th>...</th>\n",
       "      <td>...</td>\n",
       "      <td>...</td>\n",
       "      <td>...</td>\n",
       "      <td>...</td>\n",
       "      <td>...</td>\n",
       "      <td>...</td>\n",
       "      <td>...</td>\n",
       "      <td>...</td>\n",
       "      <td>...</td>\n",
       "      <td>...</td>\n",
       "      <td>...</td>\n",
       "    </tr>\n",
       "    <tr>\n",
       "      <th>1263622</th>\n",
       "      <td>134</td>\n",
       "      <td>TRANSFER</td>\n",
       "      <td>2636.00</td>\n",
       "      <td>C1104600869</td>\n",
       "      <td>19883.00</td>\n",
       "      <td>17247.0</td>\n",
       "      <td>C979108888</td>\n",
       "      <td>0.00</td>\n",
       "      <td>2636.00</td>\n",
       "      <td>0</td>\n",
       "      <td>0</td>\n",
       "    </tr>\n",
       "    <tr>\n",
       "      <th>4068437</th>\n",
       "      <td>300</td>\n",
       "      <td>TRANSFER</td>\n",
       "      <td>820172.81</td>\n",
       "      <td>C1065370024</td>\n",
       "      <td>1593.00</td>\n",
       "      <td>0.0</td>\n",
       "      <td>C560722462</td>\n",
       "      <td>0.00</td>\n",
       "      <td>820172.81</td>\n",
       "      <td>0</td>\n",
       "      <td>0</td>\n",
       "    </tr>\n",
       "    <tr>\n",
       "      <th>1978062</th>\n",
       "      <td>179</td>\n",
       "      <td>TRANSFER</td>\n",
       "      <td>248928.20</td>\n",
       "      <td>C988725642</td>\n",
       "      <td>0.00</td>\n",
       "      <td>0.0</td>\n",
       "      <td>C890578273</td>\n",
       "      <td>4921170.02</td>\n",
       "      <td>5119694.59</td>\n",
       "      <td>0</td>\n",
       "      <td>0</td>\n",
       "    </tr>\n",
       "    <tr>\n",
       "      <th>4724445</th>\n",
       "      <td>332</td>\n",
       "      <td>TRANSFER</td>\n",
       "      <td>755190.87</td>\n",
       "      <td>C299564773</td>\n",
       "      <td>0.00</td>\n",
       "      <td>0.0</td>\n",
       "      <td>C221745814</td>\n",
       "      <td>4293787.56</td>\n",
       "      <td>5048978.43</td>\n",
       "      <td>0</td>\n",
       "      <td>0</td>\n",
       "    </tr>\n",
       "    <tr>\n",
       "      <th>5035965</th>\n",
       "      <td>354</td>\n",
       "      <td>TRANSFER</td>\n",
       "      <td>108147.34</td>\n",
       "      <td>C1331244656</td>\n",
       "      <td>18845.00</td>\n",
       "      <td>0.0</td>\n",
       "      <td>C2117906108</td>\n",
       "      <td>216144.60</td>\n",
       "      <td>324291.94</td>\n",
       "      <td>0</td>\n",
       "      <td>0</td>\n",
       "    </tr>\n",
       "  </tbody>\n",
       "</table>\n",
       "<p>4230 rows × 11 columns</p>\n",
       "</div>"
      ],
      "text/plain": [
       "         step      type      amount     nameOrig  oldbalanceOrg  \\\n",
       "1050178    95  TRANSFER   234120.52  C1761947132         178.00   \n",
       "11330       7  TRANSFER   664272.52   C993638207           0.00   \n",
       "390853     17  TRANSFER   225268.41   C254949036      118708.55   \n",
       "5886810   403  TRANSFER   469051.20   C374255528        8450.00   \n",
       "6343727   692  TRANSFER  1061185.67  C1122124676           0.00   \n",
       "...       ...       ...         ...          ...            ...   \n",
       "1263622   134  TRANSFER     2636.00  C1104600869       19883.00   \n",
       "4068437   300  TRANSFER   820172.81  C1065370024        1593.00   \n",
       "1978062   179  TRANSFER   248928.20   C988725642           0.00   \n",
       "4724445   332  TRANSFER   755190.87   C299564773           0.00   \n",
       "5035965   354  TRANSFER   108147.34  C1331244656       18845.00   \n",
       "\n",
       "         newbalanceOrig     nameDest  oldbalanceDest  newbalanceDest  isFraud  \\\n",
       "1050178             0.0   C603299395       164875.43       398995.95        0   \n",
       "11330               0.0  C1419794148      2813795.50      4871037.90        0   \n",
       "390853              0.0  C1823874165       527404.69       752673.11        0   \n",
       "5886810             0.0   C826095009       185942.12       654993.32        0   \n",
       "6343727             0.0  C1536327216      5745701.79      6806887.46        0   \n",
       "...                 ...          ...             ...             ...      ...   \n",
       "1263622         17247.0   C979108888            0.00         2636.00        0   \n",
       "4068437             0.0   C560722462            0.00       820172.81        0   \n",
       "1978062             0.0   C890578273      4921170.02      5119694.59        0   \n",
       "4724445             0.0   C221745814      4293787.56      5048978.43        0   \n",
       "5035965             0.0  C2117906108       216144.60       324291.94        0   \n",
       "\n",
       "         isFlaggedFraud  \n",
       "1050178               0  \n",
       "11330                 0  \n",
       "390853                0  \n",
       "5886810               0  \n",
       "6343727               0  \n",
       "...                 ...  \n",
       "1263622               0  \n",
       "4068437               0  \n",
       "1978062               0  \n",
       "4724445               0  \n",
       "5035965               0  \n",
       "\n",
       "[4230 rows x 11 columns]"
      ]
     },
     "execution_count": 15,
     "metadata": {},
     "output_type": "execute_result"
    }
   ],
   "source": [
    "data2"
   ]
  },
  {
   "cell_type": "code",
   "execution_count": 16,
   "id": "c5187e57",
   "metadata": {},
   "outputs": [
    {
     "data": {
      "text/html": [
       "<div>\n",
       "<style scoped>\n",
       "    .dataframe tbody tr th:only-of-type {\n",
       "        vertical-align: middle;\n",
       "    }\n",
       "\n",
       "    .dataframe tbody tr th {\n",
       "        vertical-align: top;\n",
       "    }\n",
       "\n",
       "    .dataframe thead th {\n",
       "        text-align: right;\n",
       "    }\n",
       "</style>\n",
       "<table border=\"1\" class=\"dataframe\">\n",
       "  <thead>\n",
       "    <tr style=\"text-align: right;\">\n",
       "      <th></th>\n",
       "      <th>step</th>\n",
       "      <th>type</th>\n",
       "      <th>amount</th>\n",
       "      <th>nameOrig</th>\n",
       "      <th>oldbalanceOrg</th>\n",
       "      <th>newbalanceOrig</th>\n",
       "      <th>nameDest</th>\n",
       "      <th>oldbalanceDest</th>\n",
       "      <th>newbalanceDest</th>\n",
       "      <th>isFraud</th>\n",
       "      <th>isFlaggedFraud</th>\n",
       "    </tr>\n",
       "  </thead>\n",
       "  <tbody>\n",
       "    <tr>\n",
       "      <th>4763790</th>\n",
       "      <td>334</td>\n",
       "      <td>CASH_OUT</td>\n",
       "      <td>410997.06</td>\n",
       "      <td>C701431256</td>\n",
       "      <td>76785.80</td>\n",
       "      <td>0.00</td>\n",
       "      <td>C1543229965</td>\n",
       "      <td>448566.15</td>\n",
       "      <td>859563.21</td>\n",
       "      <td>0</td>\n",
       "      <td>0</td>\n",
       "    </tr>\n",
       "    <tr>\n",
       "      <th>3120953</th>\n",
       "      <td>236</td>\n",
       "      <td>CASH_OUT</td>\n",
       "      <td>112304.24</td>\n",
       "      <td>C1412564892</td>\n",
       "      <td>0.00</td>\n",
       "      <td>0.00</td>\n",
       "      <td>C1808332718</td>\n",
       "      <td>599014.62</td>\n",
       "      <td>711318.87</td>\n",
       "      <td>0</td>\n",
       "      <td>0</td>\n",
       "    </tr>\n",
       "    <tr>\n",
       "      <th>5159112</th>\n",
       "      <td>357</td>\n",
       "      <td>CASH_OUT</td>\n",
       "      <td>50462.63</td>\n",
       "      <td>C450549073</td>\n",
       "      <td>16250.00</td>\n",
       "      <td>0.00</td>\n",
       "      <td>C1767099698</td>\n",
       "      <td>91893.83</td>\n",
       "      <td>142356.46</td>\n",
       "      <td>0</td>\n",
       "      <td>0</td>\n",
       "    </tr>\n",
       "    <tr>\n",
       "      <th>626989</th>\n",
       "      <td>34</td>\n",
       "      <td>CASH_OUT</td>\n",
       "      <td>153985.49</td>\n",
       "      <td>C1363774571</td>\n",
       "      <td>41599.00</td>\n",
       "      <td>0.00</td>\n",
       "      <td>C1097165431</td>\n",
       "      <td>0.00</td>\n",
       "      <td>153985.49</td>\n",
       "      <td>0</td>\n",
       "      <td>0</td>\n",
       "    </tr>\n",
       "    <tr>\n",
       "      <th>4913044</th>\n",
       "      <td>349</td>\n",
       "      <td>CASH_OUT</td>\n",
       "      <td>61224.16</td>\n",
       "      <td>C1603772757</td>\n",
       "      <td>101227.00</td>\n",
       "      <td>40002.84</td>\n",
       "      <td>C818818003</td>\n",
       "      <td>860545.35</td>\n",
       "      <td>921769.51</td>\n",
       "      <td>0</td>\n",
       "      <td>0</td>\n",
       "    </tr>\n",
       "    <tr>\n",
       "      <th>...</th>\n",
       "      <td>...</td>\n",
       "      <td>...</td>\n",
       "      <td>...</td>\n",
       "      <td>...</td>\n",
       "      <td>...</td>\n",
       "      <td>...</td>\n",
       "      <td>...</td>\n",
       "      <td>...</td>\n",
       "      <td>...</td>\n",
       "      <td>...</td>\n",
       "      <td>...</td>\n",
       "    </tr>\n",
       "    <tr>\n",
       "      <th>6362610</th>\n",
       "      <td>742</td>\n",
       "      <td>TRANSFER</td>\n",
       "      <td>63416.99</td>\n",
       "      <td>C778071008</td>\n",
       "      <td>63416.99</td>\n",
       "      <td>0.00</td>\n",
       "      <td>C1812552860</td>\n",
       "      <td>0.00</td>\n",
       "      <td>0.00</td>\n",
       "      <td>1</td>\n",
       "      <td>0</td>\n",
       "    </tr>\n",
       "    <tr>\n",
       "      <th>6362612</th>\n",
       "      <td>743</td>\n",
       "      <td>TRANSFER</td>\n",
       "      <td>1258818.82</td>\n",
       "      <td>C1531301470</td>\n",
       "      <td>1258818.82</td>\n",
       "      <td>0.00</td>\n",
       "      <td>C1470998563</td>\n",
       "      <td>0.00</td>\n",
       "      <td>0.00</td>\n",
       "      <td>1</td>\n",
       "      <td>0</td>\n",
       "    </tr>\n",
       "    <tr>\n",
       "      <th>6362614</th>\n",
       "      <td>743</td>\n",
       "      <td>TRANSFER</td>\n",
       "      <td>339682.13</td>\n",
       "      <td>C2013999242</td>\n",
       "      <td>339682.13</td>\n",
       "      <td>0.00</td>\n",
       "      <td>C1850423904</td>\n",
       "      <td>0.00</td>\n",
       "      <td>0.00</td>\n",
       "      <td>1</td>\n",
       "      <td>0</td>\n",
       "    </tr>\n",
       "    <tr>\n",
       "      <th>6362616</th>\n",
       "      <td>743</td>\n",
       "      <td>TRANSFER</td>\n",
       "      <td>6311409.28</td>\n",
       "      <td>C1529008245</td>\n",
       "      <td>6311409.28</td>\n",
       "      <td>0.00</td>\n",
       "      <td>C1881841831</td>\n",
       "      <td>0.00</td>\n",
       "      <td>0.00</td>\n",
       "      <td>1</td>\n",
       "      <td>0</td>\n",
       "    </tr>\n",
       "    <tr>\n",
       "      <th>6362618</th>\n",
       "      <td>743</td>\n",
       "      <td>TRANSFER</td>\n",
       "      <td>850002.52</td>\n",
       "      <td>C1685995037</td>\n",
       "      <td>850002.52</td>\n",
       "      <td>0.00</td>\n",
       "      <td>C2080388513</td>\n",
       "      <td>0.00</td>\n",
       "      <td>0.00</td>\n",
       "      <td>1</td>\n",
       "      <td>0</td>\n",
       "    </tr>\n",
       "  </tbody>\n",
       "</table>\n",
       "<p>16910 rows × 11 columns</p>\n",
       "</div>"
      ],
      "text/plain": [
       "         step      type      amount     nameOrig  oldbalanceOrg  \\\n",
       "4763790   334  CASH_OUT   410997.06   C701431256       76785.80   \n",
       "3120953   236  CASH_OUT   112304.24  C1412564892           0.00   \n",
       "5159112   357  CASH_OUT    50462.63   C450549073       16250.00   \n",
       "626989     34  CASH_OUT   153985.49  C1363774571       41599.00   \n",
       "4913044   349  CASH_OUT    61224.16  C1603772757      101227.00   \n",
       "...       ...       ...         ...          ...            ...   \n",
       "6362610   742  TRANSFER    63416.99   C778071008       63416.99   \n",
       "6362612   743  TRANSFER  1258818.82  C1531301470     1258818.82   \n",
       "6362614   743  TRANSFER   339682.13  C2013999242      339682.13   \n",
       "6362616   743  TRANSFER  6311409.28  C1529008245     6311409.28   \n",
       "6362618   743  TRANSFER   850002.52  C1685995037      850002.52   \n",
       "\n",
       "         newbalanceOrig     nameDest  oldbalanceDest  newbalanceDest  isFraud  \\\n",
       "4763790            0.00  C1543229965       448566.15       859563.21        0   \n",
       "3120953            0.00  C1808332718       599014.62       711318.87        0   \n",
       "5159112            0.00  C1767099698        91893.83       142356.46        0   \n",
       "626989             0.00  C1097165431            0.00       153985.49        0   \n",
       "4913044        40002.84   C818818003       860545.35       921769.51        0   \n",
       "...                 ...          ...             ...             ...      ...   \n",
       "6362610            0.00  C1812552860            0.00            0.00        1   \n",
       "6362612            0.00  C1470998563            0.00            0.00        1   \n",
       "6362614            0.00  C1850423904            0.00            0.00        1   \n",
       "6362616            0.00  C1881841831            0.00            0.00        1   \n",
       "6362618            0.00  C2080388513            0.00            0.00        1   \n",
       "\n",
       "         isFlaggedFraud  \n",
       "4763790               0  \n",
       "3120953               0  \n",
       "5159112               0  \n",
       "626989                0  \n",
       "4913044               0  \n",
       "...                 ...  \n",
       "6362610               0  \n",
       "6362612               0  \n",
       "6362614               0  \n",
       "6362616               0  \n",
       "6362618               0  \n",
       "\n",
       "[16910 rows x 11 columns]"
      ]
     },
     "execution_count": 16,
     "metadata": {},
     "output_type": "execute_result"
    }
   ],
   "source": [
    "# creating our data set by concatenating the segregated data frames\n",
    "fraud_data = pd.concat([data1,fraud_cashout, data2, fraud_transfer])\n",
    "fraud_data"
   ]
  },
  {
   "cell_type": "code",
   "execution_count": 17,
   "id": "60369fe7",
   "metadata": {},
   "outputs": [
    {
     "data": {
      "text/plain": [
       "8213"
      ]
     },
     "execution_count": 17,
     "metadata": {},
     "output_type": "execute_result"
    }
   ],
   "source": [
    "fraud_data.isFraud.sum()"
   ]
  },
  {
   "cell_type": "markdown",
   "id": "44d9de0d",
   "metadata": {},
   "source": [
    "Now, column **type** is Categorical object which we convert into Numerical Data to apply operations on it"
   ]
  },
  {
   "cell_type": "code",
   "execution_count": 18,
   "id": "760fc9de",
   "metadata": {},
   "outputs": [
    {
     "data": {
      "text/plain": [
       "array([0, 0, 0, ..., 1, 1, 1])"
      ]
     },
     "execution_count": 18,
     "metadata": {},
     "output_type": "execute_result"
    }
   ],
   "source": [
    "from sklearn.preprocessing import LabelEncoder\n",
    "le = LabelEncoder()\n",
    "label = le.fit_transform(fraud_data['type'])\n",
    "label"
   ]
  },
  {
   "cell_type": "code",
   "execution_count": 19,
   "id": "4544f7fd",
   "metadata": {},
   "outputs": [],
   "source": [
    "# Inserting converted type data into our dataset\n",
    "fraud_data.insert(2,'type_num', label)"
   ]
  },
  {
   "cell_type": "code",
   "execution_count": 20,
   "id": "d387c963",
   "metadata": {},
   "outputs": [
    {
     "data": {
      "text/html": [
       "<div>\n",
       "<style scoped>\n",
       "    .dataframe tbody tr th:only-of-type {\n",
       "        vertical-align: middle;\n",
       "    }\n",
       "\n",
       "    .dataframe tbody tr th {\n",
       "        vertical-align: top;\n",
       "    }\n",
       "\n",
       "    .dataframe thead th {\n",
       "        text-align: right;\n",
       "    }\n",
       "</style>\n",
       "<table border=\"1\" class=\"dataframe\">\n",
       "  <thead>\n",
       "    <tr style=\"text-align: right;\">\n",
       "      <th></th>\n",
       "      <th>step</th>\n",
       "      <th>type</th>\n",
       "      <th>type_num</th>\n",
       "      <th>amount</th>\n",
       "      <th>nameOrig</th>\n",
       "      <th>oldbalanceOrg</th>\n",
       "      <th>newbalanceOrig</th>\n",
       "      <th>nameDest</th>\n",
       "      <th>oldbalanceDest</th>\n",
       "      <th>newbalanceDest</th>\n",
       "      <th>isFraud</th>\n",
       "      <th>isFlaggedFraud</th>\n",
       "    </tr>\n",
       "  </thead>\n",
       "  <tbody>\n",
       "    <tr>\n",
       "      <th>4763790</th>\n",
       "      <td>334</td>\n",
       "      <td>CASH_OUT</td>\n",
       "      <td>0</td>\n",
       "      <td>410997.06</td>\n",
       "      <td>701431256</td>\n",
       "      <td>76785.80</td>\n",
       "      <td>0.00</td>\n",
       "      <td>C1543229965</td>\n",
       "      <td>448566.15</td>\n",
       "      <td>859563.21</td>\n",
       "      <td>0</td>\n",
       "      <td>0</td>\n",
       "    </tr>\n",
       "    <tr>\n",
       "      <th>3120953</th>\n",
       "      <td>236</td>\n",
       "      <td>CASH_OUT</td>\n",
       "      <td>0</td>\n",
       "      <td>112304.24</td>\n",
       "      <td>1412564892</td>\n",
       "      <td>0.00</td>\n",
       "      <td>0.00</td>\n",
       "      <td>C1808332718</td>\n",
       "      <td>599014.62</td>\n",
       "      <td>711318.87</td>\n",
       "      <td>0</td>\n",
       "      <td>0</td>\n",
       "    </tr>\n",
       "    <tr>\n",
       "      <th>5159112</th>\n",
       "      <td>357</td>\n",
       "      <td>CASH_OUT</td>\n",
       "      <td>0</td>\n",
       "      <td>50462.63</td>\n",
       "      <td>450549073</td>\n",
       "      <td>16250.00</td>\n",
       "      <td>0.00</td>\n",
       "      <td>C1767099698</td>\n",
       "      <td>91893.83</td>\n",
       "      <td>142356.46</td>\n",
       "      <td>0</td>\n",
       "      <td>0</td>\n",
       "    </tr>\n",
       "    <tr>\n",
       "      <th>626989</th>\n",
       "      <td>34</td>\n",
       "      <td>CASH_OUT</td>\n",
       "      <td>0</td>\n",
       "      <td>153985.49</td>\n",
       "      <td>1363774571</td>\n",
       "      <td>41599.00</td>\n",
       "      <td>0.00</td>\n",
       "      <td>C1097165431</td>\n",
       "      <td>0.00</td>\n",
       "      <td>153985.49</td>\n",
       "      <td>0</td>\n",
       "      <td>0</td>\n",
       "    </tr>\n",
       "    <tr>\n",
       "      <th>4913044</th>\n",
       "      <td>349</td>\n",
       "      <td>CASH_OUT</td>\n",
       "      <td>0</td>\n",
       "      <td>61224.16</td>\n",
       "      <td>1603772757</td>\n",
       "      <td>101227.00</td>\n",
       "      <td>40002.84</td>\n",
       "      <td>C818818003</td>\n",
       "      <td>860545.35</td>\n",
       "      <td>921769.51</td>\n",
       "      <td>0</td>\n",
       "      <td>0</td>\n",
       "    </tr>\n",
       "    <tr>\n",
       "      <th>...</th>\n",
       "      <td>...</td>\n",
       "      <td>...</td>\n",
       "      <td>...</td>\n",
       "      <td>...</td>\n",
       "      <td>...</td>\n",
       "      <td>...</td>\n",
       "      <td>...</td>\n",
       "      <td>...</td>\n",
       "      <td>...</td>\n",
       "      <td>...</td>\n",
       "      <td>...</td>\n",
       "      <td>...</td>\n",
       "    </tr>\n",
       "    <tr>\n",
       "      <th>6362610</th>\n",
       "      <td>742</td>\n",
       "      <td>TRANSFER</td>\n",
       "      <td>1</td>\n",
       "      <td>63416.99</td>\n",
       "      <td>778071008</td>\n",
       "      <td>63416.99</td>\n",
       "      <td>0.00</td>\n",
       "      <td>C1812552860</td>\n",
       "      <td>0.00</td>\n",
       "      <td>0.00</td>\n",
       "      <td>1</td>\n",
       "      <td>0</td>\n",
       "    </tr>\n",
       "    <tr>\n",
       "      <th>6362612</th>\n",
       "      <td>743</td>\n",
       "      <td>TRANSFER</td>\n",
       "      <td>1</td>\n",
       "      <td>1258818.82</td>\n",
       "      <td>1531301470</td>\n",
       "      <td>1258818.82</td>\n",
       "      <td>0.00</td>\n",
       "      <td>C1470998563</td>\n",
       "      <td>0.00</td>\n",
       "      <td>0.00</td>\n",
       "      <td>1</td>\n",
       "      <td>0</td>\n",
       "    </tr>\n",
       "    <tr>\n",
       "      <th>6362614</th>\n",
       "      <td>743</td>\n",
       "      <td>TRANSFER</td>\n",
       "      <td>1</td>\n",
       "      <td>339682.13</td>\n",
       "      <td>2013999242</td>\n",
       "      <td>339682.13</td>\n",
       "      <td>0.00</td>\n",
       "      <td>C1850423904</td>\n",
       "      <td>0.00</td>\n",
       "      <td>0.00</td>\n",
       "      <td>1</td>\n",
       "      <td>0</td>\n",
       "    </tr>\n",
       "    <tr>\n",
       "      <th>6362616</th>\n",
       "      <td>743</td>\n",
       "      <td>TRANSFER</td>\n",
       "      <td>1</td>\n",
       "      <td>6311409.28</td>\n",
       "      <td>1529008245</td>\n",
       "      <td>6311409.28</td>\n",
       "      <td>0.00</td>\n",
       "      <td>C1881841831</td>\n",
       "      <td>0.00</td>\n",
       "      <td>0.00</td>\n",
       "      <td>1</td>\n",
       "      <td>0</td>\n",
       "    </tr>\n",
       "    <tr>\n",
       "      <th>6362618</th>\n",
       "      <td>743</td>\n",
       "      <td>TRANSFER</td>\n",
       "      <td>1</td>\n",
       "      <td>850002.52</td>\n",
       "      <td>1685995037</td>\n",
       "      <td>850002.52</td>\n",
       "      <td>0.00</td>\n",
       "      <td>C2080388513</td>\n",
       "      <td>0.00</td>\n",
       "      <td>0.00</td>\n",
       "      <td>1</td>\n",
       "      <td>0</td>\n",
       "    </tr>\n",
       "  </tbody>\n",
       "</table>\n",
       "<p>16910 rows × 12 columns</p>\n",
       "</div>"
      ],
      "text/plain": [
       "         step      type  type_num      amount    nameOrig  oldbalanceOrg  \\\n",
       "4763790   334  CASH_OUT         0   410997.06   701431256       76785.80   \n",
       "3120953   236  CASH_OUT         0   112304.24  1412564892           0.00   \n",
       "5159112   357  CASH_OUT         0    50462.63   450549073       16250.00   \n",
       "626989     34  CASH_OUT         0   153985.49  1363774571       41599.00   \n",
       "4913044   349  CASH_OUT         0    61224.16  1603772757      101227.00   \n",
       "...       ...       ...       ...         ...         ...            ...   \n",
       "6362610   742  TRANSFER         1    63416.99   778071008       63416.99   \n",
       "6362612   743  TRANSFER         1  1258818.82  1531301470     1258818.82   \n",
       "6362614   743  TRANSFER         1   339682.13  2013999242      339682.13   \n",
       "6362616   743  TRANSFER         1  6311409.28  1529008245     6311409.28   \n",
       "6362618   743  TRANSFER         1   850002.52  1685995037      850002.52   \n",
       "\n",
       "         newbalanceOrig     nameDest  oldbalanceDest  newbalanceDest  isFraud  \\\n",
       "4763790            0.00  C1543229965       448566.15       859563.21        0   \n",
       "3120953            0.00  C1808332718       599014.62       711318.87        0   \n",
       "5159112            0.00  C1767099698        91893.83       142356.46        0   \n",
       "626989             0.00  C1097165431            0.00       153985.49        0   \n",
       "4913044        40002.84   C818818003       860545.35       921769.51        0   \n",
       "...                 ...          ...             ...             ...      ...   \n",
       "6362610            0.00  C1812552860            0.00            0.00        1   \n",
       "6362612            0.00  C1470998563            0.00            0.00        1   \n",
       "6362614            0.00  C1850423904            0.00            0.00        1   \n",
       "6362616            0.00  C1881841831            0.00            0.00        1   \n",
       "6362618            0.00  C2080388513            0.00            0.00        1   \n",
       "\n",
       "         isFlaggedFraud  \n",
       "4763790               0  \n",
       "3120953               0  \n",
       "5159112               0  \n",
       "626989                0  \n",
       "4913044               0  \n",
       "...                 ...  \n",
       "6362610               0  \n",
       "6362612               0  \n",
       "6362614               0  \n",
       "6362616               0  \n",
       "6362618               0  \n",
       "\n",
       "[16910 rows x 12 columns]"
      ]
     },
     "execution_count": 20,
     "metadata": {},
     "output_type": "execute_result"
    }
   ],
   "source": [
    "# Converting nameOrig column into only ids by removing C from its front\n",
    "fraud_data['nameOrig'] = fraud_data['nameOrig'].replace({'C': ''}, regex=True)\n",
    "fraud_data"
   ]
  },
  {
   "cell_type": "code",
   "execution_count": 21,
   "id": "f02ba36f",
   "metadata": {},
   "outputs": [
    {
     "name": "stdout",
     "output_type": "stream",
     "text": [
      "<class 'pandas.core.frame.DataFrame'>\n",
      "Int64Index: 16910 entries, 4763790 to 6362618\n",
      "Data columns (total 12 columns):\n",
      " #   Column          Non-Null Count  Dtype  \n",
      "---  ------          --------------  -----  \n",
      " 0   step            16910 non-null  int64  \n",
      " 1   type            16910 non-null  object \n",
      " 2   type_num        16910 non-null  int32  \n",
      " 3   amount          16910 non-null  float64\n",
      " 4   nameOrig        16910 non-null  int64  \n",
      " 5   oldbalanceOrg   16910 non-null  float64\n",
      " 6   newbalanceOrig  16910 non-null  float64\n",
      " 7   nameDest        16910 non-null  object \n",
      " 8   oldbalanceDest  16910 non-null  float64\n",
      " 9   newbalanceDest  16910 non-null  float64\n",
      " 10  isFraud         16910 non-null  int64  \n",
      " 11  isFlaggedFraud  16910 non-null  int64  \n",
      "dtypes: float64(5), int32(1), int64(4), object(2)\n",
      "memory usage: 1.6+ MB\n"
     ]
    }
   ],
   "source": [
    "fraud_data['nameOrig'] = pd.to_numeric(fraud_data['nameOrig'])\n",
    "fraud_data.info()"
   ]
  },
  {
   "cell_type": "markdown",
   "id": "626166b4",
   "metadata": {},
   "source": [
    "### Feature Selection"
   ]
  },
  {
   "cell_type": "markdown",
   "id": "7fd72a38",
   "metadata": {},
   "source": [
    "Columns **step, nameDest, type and isFlaggedFraud** are not taken into consideration for training our prediction models because\n",
    "column **nameDest** is string which are not providing any significance to our data, **type** column is dropped because we already converted it into numerical data and **isFlaggedFraud** is removed because we believe that it is the pre determined output which needs to be found out by the model. Also **step** is just hour out of 30 days of simulation"
   ]
  },
  {
   "cell_type": "code",
   "execution_count": 22,
   "id": "8c47517e",
   "metadata": {},
   "outputs": [],
   "source": [
    "fraud_data = fraud_data.drop(['step','nameDest', 'type','isFlaggedFraud'], axis=1)"
   ]
  },
  {
   "cell_type": "code",
   "execution_count": 23,
   "id": "1617b940",
   "metadata": {},
   "outputs": [
    {
     "data": {
      "text/html": [
       "<div>\n",
       "<style scoped>\n",
       "    .dataframe tbody tr th:only-of-type {\n",
       "        vertical-align: middle;\n",
       "    }\n",
       "\n",
       "    .dataframe tbody tr th {\n",
       "        vertical-align: top;\n",
       "    }\n",
       "\n",
       "    .dataframe thead th {\n",
       "        text-align: right;\n",
       "    }\n",
       "</style>\n",
       "<table border=\"1\" class=\"dataframe\">\n",
       "  <thead>\n",
       "    <tr style=\"text-align: right;\">\n",
       "      <th></th>\n",
       "      <th>type_num</th>\n",
       "      <th>amount</th>\n",
       "      <th>nameOrig</th>\n",
       "      <th>oldbalanceOrg</th>\n",
       "      <th>newbalanceOrig</th>\n",
       "      <th>oldbalanceDest</th>\n",
       "      <th>newbalanceDest</th>\n",
       "      <th>isFraud</th>\n",
       "    </tr>\n",
       "  </thead>\n",
       "  <tbody>\n",
       "    <tr>\n",
       "      <th>4763790</th>\n",
       "      <td>0</td>\n",
       "      <td>410997.06</td>\n",
       "      <td>701431256</td>\n",
       "      <td>76785.80</td>\n",
       "      <td>0.00</td>\n",
       "      <td>448566.15</td>\n",
       "      <td>859563.21</td>\n",
       "      <td>0</td>\n",
       "    </tr>\n",
       "    <tr>\n",
       "      <th>3120953</th>\n",
       "      <td>0</td>\n",
       "      <td>112304.24</td>\n",
       "      <td>1412564892</td>\n",
       "      <td>0.00</td>\n",
       "      <td>0.00</td>\n",
       "      <td>599014.62</td>\n",
       "      <td>711318.87</td>\n",
       "      <td>0</td>\n",
       "    </tr>\n",
       "    <tr>\n",
       "      <th>5159112</th>\n",
       "      <td>0</td>\n",
       "      <td>50462.63</td>\n",
       "      <td>450549073</td>\n",
       "      <td>16250.00</td>\n",
       "      <td>0.00</td>\n",
       "      <td>91893.83</td>\n",
       "      <td>142356.46</td>\n",
       "      <td>0</td>\n",
       "    </tr>\n",
       "    <tr>\n",
       "      <th>626989</th>\n",
       "      <td>0</td>\n",
       "      <td>153985.49</td>\n",
       "      <td>1363774571</td>\n",
       "      <td>41599.00</td>\n",
       "      <td>0.00</td>\n",
       "      <td>0.00</td>\n",
       "      <td>153985.49</td>\n",
       "      <td>0</td>\n",
       "    </tr>\n",
       "    <tr>\n",
       "      <th>4913044</th>\n",
       "      <td>0</td>\n",
       "      <td>61224.16</td>\n",
       "      <td>1603772757</td>\n",
       "      <td>101227.00</td>\n",
       "      <td>40002.84</td>\n",
       "      <td>860545.35</td>\n",
       "      <td>921769.51</td>\n",
       "      <td>0</td>\n",
       "    </tr>\n",
       "    <tr>\n",
       "      <th>...</th>\n",
       "      <td>...</td>\n",
       "      <td>...</td>\n",
       "      <td>...</td>\n",
       "      <td>...</td>\n",
       "      <td>...</td>\n",
       "      <td>...</td>\n",
       "      <td>...</td>\n",
       "      <td>...</td>\n",
       "    </tr>\n",
       "    <tr>\n",
       "      <th>6362610</th>\n",
       "      <td>1</td>\n",
       "      <td>63416.99</td>\n",
       "      <td>778071008</td>\n",
       "      <td>63416.99</td>\n",
       "      <td>0.00</td>\n",
       "      <td>0.00</td>\n",
       "      <td>0.00</td>\n",
       "      <td>1</td>\n",
       "    </tr>\n",
       "    <tr>\n",
       "      <th>6362612</th>\n",
       "      <td>1</td>\n",
       "      <td>1258818.82</td>\n",
       "      <td>1531301470</td>\n",
       "      <td>1258818.82</td>\n",
       "      <td>0.00</td>\n",
       "      <td>0.00</td>\n",
       "      <td>0.00</td>\n",
       "      <td>1</td>\n",
       "    </tr>\n",
       "    <tr>\n",
       "      <th>6362614</th>\n",
       "      <td>1</td>\n",
       "      <td>339682.13</td>\n",
       "      <td>2013999242</td>\n",
       "      <td>339682.13</td>\n",
       "      <td>0.00</td>\n",
       "      <td>0.00</td>\n",
       "      <td>0.00</td>\n",
       "      <td>1</td>\n",
       "    </tr>\n",
       "    <tr>\n",
       "      <th>6362616</th>\n",
       "      <td>1</td>\n",
       "      <td>6311409.28</td>\n",
       "      <td>1529008245</td>\n",
       "      <td>6311409.28</td>\n",
       "      <td>0.00</td>\n",
       "      <td>0.00</td>\n",
       "      <td>0.00</td>\n",
       "      <td>1</td>\n",
       "    </tr>\n",
       "    <tr>\n",
       "      <th>6362618</th>\n",
       "      <td>1</td>\n",
       "      <td>850002.52</td>\n",
       "      <td>1685995037</td>\n",
       "      <td>850002.52</td>\n",
       "      <td>0.00</td>\n",
       "      <td>0.00</td>\n",
       "      <td>0.00</td>\n",
       "      <td>1</td>\n",
       "    </tr>\n",
       "  </tbody>\n",
       "</table>\n",
       "<p>16910 rows × 8 columns</p>\n",
       "</div>"
      ],
      "text/plain": [
       "         type_num      amount    nameOrig  oldbalanceOrg  newbalanceOrig  \\\n",
       "4763790         0   410997.06   701431256       76785.80            0.00   \n",
       "3120953         0   112304.24  1412564892           0.00            0.00   \n",
       "5159112         0    50462.63   450549073       16250.00            0.00   \n",
       "626989          0   153985.49  1363774571       41599.00            0.00   \n",
       "4913044         0    61224.16  1603772757      101227.00        40002.84   \n",
       "...           ...         ...         ...            ...             ...   \n",
       "6362610         1    63416.99   778071008       63416.99            0.00   \n",
       "6362612         1  1258818.82  1531301470     1258818.82            0.00   \n",
       "6362614         1   339682.13  2013999242      339682.13            0.00   \n",
       "6362616         1  6311409.28  1529008245     6311409.28            0.00   \n",
       "6362618         1   850002.52  1685995037      850002.52            0.00   \n",
       "\n",
       "         oldbalanceDest  newbalanceDest  isFraud  \n",
       "4763790       448566.15       859563.21        0  \n",
       "3120953       599014.62       711318.87        0  \n",
       "5159112        91893.83       142356.46        0  \n",
       "626989             0.00       153985.49        0  \n",
       "4913044       860545.35       921769.51        0  \n",
       "...                 ...             ...      ...  \n",
       "6362610            0.00            0.00        1  \n",
       "6362612            0.00            0.00        1  \n",
       "6362614            0.00            0.00        1  \n",
       "6362616            0.00            0.00        1  \n",
       "6362618            0.00            0.00        1  \n",
       "\n",
       "[16910 rows x 8 columns]"
      ]
     },
     "execution_count": 23,
     "metadata": {},
     "output_type": "execute_result"
    }
   ],
   "source": [
    "fraud_data"
   ]
  },
  {
   "cell_type": "code",
   "execution_count": 24,
   "id": "3ca97b69",
   "metadata": {},
   "outputs": [],
   "source": [
    "# fraud_data.to_csv('fraud_data.csv')"
   ]
  },
  {
   "cell_type": "code",
   "execution_count": 25,
   "id": "27b18488",
   "metadata": {},
   "outputs": [
    {
     "data": {
      "text/html": [
       "<div>\n",
       "<style scoped>\n",
       "    .dataframe tbody tr th:only-of-type {\n",
       "        vertical-align: middle;\n",
       "    }\n",
       "\n",
       "    .dataframe tbody tr th {\n",
       "        vertical-align: top;\n",
       "    }\n",
       "\n",
       "    .dataframe thead th {\n",
       "        text-align: right;\n",
       "    }\n",
       "</style>\n",
       "<table border=\"1\" class=\"dataframe\">\n",
       "  <thead>\n",
       "    <tr style=\"text-align: right;\">\n",
       "      <th></th>\n",
       "      <th>type_num</th>\n",
       "      <th>amount</th>\n",
       "      <th>nameOrig</th>\n",
       "      <th>oldbalanceOrg</th>\n",
       "      <th>newbalanceOrig</th>\n",
       "      <th>oldbalanceDest</th>\n",
       "      <th>newbalanceDest</th>\n",
       "      <th>isFraud</th>\n",
       "    </tr>\n",
       "  </thead>\n",
       "  <tbody>\n",
       "    <tr>\n",
       "      <th>count</th>\n",
       "      <td>16910.000000</td>\n",
       "      <td>1.691000e+04</td>\n",
       "      <td>1.691000e+04</td>\n",
       "      <td>1.691000e+04</td>\n",
       "      <td>1.691000e+04</td>\n",
       "      <td>1.691000e+04</td>\n",
       "      <td>1.691000e+04</td>\n",
       "      <td>16910.000000</td>\n",
       "    </tr>\n",
       "    <tr>\n",
       "      <th>mean</th>\n",
       "      <td>0.492431</td>\n",
       "      <td>9.864569e+05</td>\n",
       "      <td>1.080473e+09</td>\n",
       "      <td>8.224161e+05</td>\n",
       "      <td>9.947315e+04</td>\n",
       "      <td>1.341287e+06</td>\n",
       "      <td>2.012194e+06</td>\n",
       "      <td>0.485689</td>\n",
       "    </tr>\n",
       "    <tr>\n",
       "      <th>std</th>\n",
       "      <td>0.499957</td>\n",
       "      <td>1.983615e+06</td>\n",
       "      <td>6.198547e+08</td>\n",
       "      <td>2.600945e+06</td>\n",
       "      <td>1.373616e+06</td>\n",
       "      <td>4.713745e+06</td>\n",
       "      <td>5.371843e+06</td>\n",
       "      <td>0.499810</td>\n",
       "    </tr>\n",
       "    <tr>\n",
       "      <th>min</th>\n",
       "      <td>0.000000</td>\n",
       "      <td>0.000000e+00</td>\n",
       "      <td>1.086370e+05</td>\n",
       "      <td>0.000000e+00</td>\n",
       "      <td>0.000000e+00</td>\n",
       "      <td>0.000000e+00</td>\n",
       "      <td>0.000000e+00</td>\n",
       "      <td>0.000000</td>\n",
       "    </tr>\n",
       "    <tr>\n",
       "      <th>25%</th>\n",
       "      <td>0.000000</td>\n",
       "      <td>1.154615e+05</td>\n",
       "      <td>5.423325e+08</td>\n",
       "      <td>0.000000e+00</td>\n",
       "      <td>0.000000e+00</td>\n",
       "      <td>0.000000e+00</td>\n",
       "      <td>1.445650e+04</td>\n",
       "      <td>0.000000</td>\n",
       "    </tr>\n",
       "    <tr>\n",
       "      <th>50%</th>\n",
       "      <td>0.000000</td>\n",
       "      <td>2.928154e+05</td>\n",
       "      <td>1.084724e+09</td>\n",
       "      <td>5.985100e+04</td>\n",
       "      <td>0.000000e+00</td>\n",
       "      <td>1.640638e+05</td>\n",
       "      <td>6.013583e+05</td>\n",
       "      <td>0.000000</td>\n",
       "    </tr>\n",
       "    <tr>\n",
       "      <th>75%</th>\n",
       "      <td>1.000000</td>\n",
       "      <td>8.563153e+05</td>\n",
       "      <td>1.615792e+09</td>\n",
       "      <td>4.421909e+05</td>\n",
       "      <td>0.000000e+00</td>\n",
       "      <td>1.116851e+06</td>\n",
       "      <td>2.069848e+06</td>\n",
       "      <td>1.000000</td>\n",
       "    </tr>\n",
       "    <tr>\n",
       "      <th>max</th>\n",
       "      <td>1.000000</td>\n",
       "      <td>3.805647e+07</td>\n",
       "      <td>2.147314e+09</td>\n",
       "      <td>5.958504e+07</td>\n",
       "      <td>4.958504e+07</td>\n",
       "      <td>2.512062e+08</td>\n",
       "      <td>2.518722e+08</td>\n",
       "      <td>1.000000</td>\n",
       "    </tr>\n",
       "  </tbody>\n",
       "</table>\n",
       "</div>"
      ],
      "text/plain": [
       "           type_num        amount      nameOrig  oldbalanceOrg  \\\n",
       "count  16910.000000  1.691000e+04  1.691000e+04   1.691000e+04   \n",
       "mean       0.492431  9.864569e+05  1.080473e+09   8.224161e+05   \n",
       "std        0.499957  1.983615e+06  6.198547e+08   2.600945e+06   \n",
       "min        0.000000  0.000000e+00  1.086370e+05   0.000000e+00   \n",
       "25%        0.000000  1.154615e+05  5.423325e+08   0.000000e+00   \n",
       "50%        0.000000  2.928154e+05  1.084724e+09   5.985100e+04   \n",
       "75%        1.000000  8.563153e+05  1.615792e+09   4.421909e+05   \n",
       "max        1.000000  3.805647e+07  2.147314e+09   5.958504e+07   \n",
       "\n",
       "       newbalanceOrig  oldbalanceDest  newbalanceDest       isFraud  \n",
       "count    1.691000e+04    1.691000e+04    1.691000e+04  16910.000000  \n",
       "mean     9.947315e+04    1.341287e+06    2.012194e+06      0.485689  \n",
       "std      1.373616e+06    4.713745e+06    5.371843e+06      0.499810  \n",
       "min      0.000000e+00    0.000000e+00    0.000000e+00      0.000000  \n",
       "25%      0.000000e+00    0.000000e+00    1.445650e+04      0.000000  \n",
       "50%      0.000000e+00    1.640638e+05    6.013583e+05      0.000000  \n",
       "75%      0.000000e+00    1.116851e+06    2.069848e+06      1.000000  \n",
       "max      4.958504e+07    2.512062e+08    2.518722e+08      1.000000  "
      ]
     },
     "execution_count": 25,
     "metadata": {},
     "output_type": "execute_result"
    }
   ],
   "source": [
    "fraud_data.describe()"
   ]
  },
  {
   "cell_type": "code",
   "execution_count": 26,
   "id": "ac99f20e",
   "metadata": {},
   "outputs": [],
   "source": [
    "# Assigning values\n",
    "X = fraud_data.iloc[:, :-1].values\n",
    "y = fraud_data.iloc[:, -1].values"
   ]
  },
  {
   "cell_type": "code",
   "execution_count": 27,
   "id": "248ac4fe",
   "metadata": {},
   "outputs": [
    {
     "data": {
      "text/plain": [
       "array([[0.00000000e+00, 4.10997060e+05, 7.01431256e+08, ...,\n",
       "        0.00000000e+00, 4.48566150e+05, 8.59563210e+05],\n",
       "       [0.00000000e+00, 1.12304240e+05, 1.41256489e+09, ...,\n",
       "        0.00000000e+00, 5.99014620e+05, 7.11318870e+05],\n",
       "       [0.00000000e+00, 5.04626300e+04, 4.50549073e+08, ...,\n",
       "        0.00000000e+00, 9.18938300e+04, 1.42356460e+05],\n",
       "       ...,\n",
       "       [1.00000000e+00, 3.39682130e+05, 2.01399924e+09, ...,\n",
       "        0.00000000e+00, 0.00000000e+00, 0.00000000e+00],\n",
       "       [1.00000000e+00, 6.31140928e+06, 1.52900824e+09, ...,\n",
       "        0.00000000e+00, 0.00000000e+00, 0.00000000e+00],\n",
       "       [1.00000000e+00, 8.50002520e+05, 1.68599504e+09, ...,\n",
       "        0.00000000e+00, 0.00000000e+00, 0.00000000e+00]])"
      ]
     },
     "execution_count": 27,
     "metadata": {},
     "output_type": "execute_result"
    }
   ],
   "source": [
    "X"
   ]
  },
  {
   "cell_type": "code",
   "execution_count": 28,
   "id": "eca9dc83",
   "metadata": {},
   "outputs": [
    {
     "data": {
      "text/plain": [
       "array([0, 0, 0, ..., 1, 1, 1], dtype=int64)"
      ]
     },
     "execution_count": 28,
     "metadata": {},
     "output_type": "execute_result"
    }
   ],
   "source": [
    "y"
   ]
  },
  {
   "cell_type": "markdown",
   "id": "f7e08948",
   "metadata": {},
   "source": [
    "### Splitting data into train and test set and also apply Feature Scaling"
   ]
  },
  {
   "cell_type": "code",
   "execution_count": 29,
   "id": "c66222d0",
   "metadata": {},
   "outputs": [],
   "source": [
    "# Splitting the dataset into the Training set and Test set\n",
    "from sklearn.model_selection import train_test_split\n",
    "X_train, X_test, y_train, y_test = train_test_split(X, y, test_size = 0.25, random_state = 0)"
   ]
  },
  {
   "cell_type": "code",
   "execution_count": 30,
   "id": "3fe29a69",
   "metadata": {},
   "outputs": [],
   "source": [
    "# Feature Scaling\n",
    "from sklearn.preprocessing import StandardScaler\n",
    "sc = StandardScaler()\n",
    "X_train = sc.fit_transform(X_train)\n",
    "X_test = sc.transform(X_test)"
   ]
  },
  {
   "cell_type": "markdown",
   "id": "fcc39995",
   "metadata": {},
   "source": [
    "### Training the Logistic Regression Model on training set"
   ]
  },
  {
   "cell_type": "code",
   "execution_count": 31,
   "id": "07fcce4e",
   "metadata": {},
   "outputs": [
    {
     "data": {
      "text/plain": [
       "LogisticRegression(random_state=0)"
      ]
     },
     "execution_count": 31,
     "metadata": {},
     "output_type": "execute_result"
    }
   ],
   "source": [
    "# Training the Logistic Regression model on the Training set\n",
    "from sklearn.linear_model import LogisticRegression\n",
    "lr = LogisticRegression(random_state = 0)\n",
    "lr.fit(X_train, y_train)"
   ]
  },
  {
   "cell_type": "markdown",
   "id": "3a0eb472",
   "metadata": {},
   "source": [
    "#### Predicting Test Set Results"
   ]
  },
  {
   "cell_type": "code",
   "execution_count": 32,
   "id": "df1bd88f",
   "metadata": {},
   "outputs": [
    {
     "name": "stdout",
     "output_type": "stream",
     "text": [
      "[[1 1]\n",
      " [1 1]\n",
      " [1 1]\n",
      " ...\n",
      " [1 1]\n",
      " [0 0]\n",
      " [0 0]]\n",
      "[1 1 1 ... 1 0 0]\n"
     ]
    }
   ],
   "source": [
    "y_pred = lr.predict(X_test)\n",
    "print(np.concatenate((y_pred.reshape(len(y_pred),1), y_test.reshape(len(y_test),1)), 1))\n",
    "print(y_pred)"
   ]
  },
  {
   "cell_type": "markdown",
   "id": "0b196099",
   "metadata": {},
   "source": [
    "#### Making the Confusion Matrix"
   ]
  },
  {
   "cell_type": "code",
   "execution_count": 33,
   "id": "fab4ac61",
   "metadata": {},
   "outputs": [
    {
     "name": "stdout",
     "output_type": "stream",
     "text": [
      "[[2023  132]\n",
      " [ 284 1789]]\n",
      "Accuracy of model: 0.9016083254493851\n"
     ]
    }
   ],
   "source": [
    "# Making the Confusion Matrix\n",
    "from sklearn.metrics import confusion_matrix, accuracy_score, recall_score, f1_score, precision_score\n",
    "cm = confusion_matrix(y_test, y_pred)\n",
    "print(cm)\n",
    "print(f\"Accuracy of model: {accuracy_score(y_test, y_pred)}\")"
   ]
  },
  {
   "cell_type": "markdown",
   "id": "ff548a35",
   "metadata": {},
   "source": [
    "#### Recall Calculation"
   ]
  },
  {
   "cell_type": "code",
   "execution_count": 34,
   "id": "ef45a96f",
   "metadata": {},
   "outputs": [
    {
     "name": "stdout",
     "output_type": "stream",
     "text": [
      "Recall Score of model: 0.8630004823926676\n"
     ]
    }
   ],
   "source": [
    "# Recall = TruePositives / (TruePositives + FalseNegatives)\n",
    "print(f\"Recall Score of model: {recall_score(y_test, y_pred)}\")"
   ]
  },
  {
   "cell_type": "markdown",
   "id": "8bd84679",
   "metadata": {},
   "source": [
    "#### F1 Score Calculation"
   ]
  },
  {
   "cell_type": "code",
   "execution_count": 35,
   "id": "6e6fb32d",
   "metadata": {},
   "outputs": [
    {
     "name": "stdout",
     "output_type": "stream",
     "text": [
      "F1 Score of model: 0.8958437656484727\n"
     ]
    }
   ],
   "source": [
    "# 2*true positive /( 2*true positive + false positive + false negative)\n",
    "print(f\"F1 Score of model: {f1_score(y_test, y_pred)}\")"
   ]
  },
  {
   "cell_type": "markdown",
   "id": "1652590f",
   "metadata": {},
   "source": [
    "### Training on SVM"
   ]
  },
  {
   "cell_type": "code",
   "execution_count": 36,
   "id": "eb2c6eb1",
   "metadata": {},
   "outputs": [
    {
     "data": {
      "text/plain": [
       "SVC(kernel='linear', random_state=0)"
      ]
     },
     "execution_count": 36,
     "metadata": {},
     "output_type": "execute_result"
    }
   ],
   "source": [
    "from sklearn.svm import SVC\n",
    "classifier = SVC(kernel = 'linear', random_state = 0)\n",
    "classifier.fit(X_train, y_train)"
   ]
  },
  {
   "cell_type": "code",
   "execution_count": 37,
   "id": "7e4d121e",
   "metadata": {},
   "outputs": [
    {
     "name": "stdout",
     "output_type": "stream",
     "text": [
      "[[1 1]\n",
      " [1 1]\n",
      " [1 1]\n",
      " ...\n",
      " [1 1]\n",
      " [0 0]\n",
      " [0 0]]\n",
      "[1 1 1 ... 1 0 0]\n"
     ]
    }
   ],
   "source": [
    "y_pred = classifier.predict(X_test)\n",
    "print(np.concatenate((y_pred.reshape(len(y_pred),1), y_test.reshape(len(y_test),1)), 1))\n",
    "print(y_pred)"
   ]
  },
  {
   "cell_type": "code",
   "execution_count": 38,
   "id": "32abb66d",
   "metadata": {},
   "outputs": [
    {
     "name": "stdout",
     "output_type": "stream",
     "text": [
      "[[2016  139]\n",
      " [ 279 1794]]\n",
      "Accuracy of model: 0.9011352885525071\n"
     ]
    }
   ],
   "source": [
    "# Making the Confusion Matrix\n",
    "from sklearn.metrics import confusion_matrix, accuracy_score, recall_score, f1_score, precision_score\n",
    "y_pred = classifier.predict(X_test)\n",
    "cm = confusion_matrix(y_test, y_pred)\n",
    "print(cm)\n",
    "print(f\"Accuracy of model: {accuracy_score(y_test, y_pred)}\")"
   ]
  },
  {
   "cell_type": "code",
   "execution_count": 39,
   "id": "ef2ffef0",
   "metadata": {},
   "outputs": [
    {
     "name": "stdout",
     "output_type": "stream",
     "text": [
      "Recall Score of model: 0.8654124457308249\n"
     ]
    }
   ],
   "source": [
    "# Recall = TruePositives / (TruePositives + FalseNegatives)\n",
    "print(f\"Recall Score of model: {recall_score(y_test, y_pred)}\")"
   ]
  },
  {
   "cell_type": "code",
   "execution_count": 40,
   "id": "71b30fdd",
   "metadata": {},
   "outputs": [
    {
     "name": "stdout",
     "output_type": "stream",
     "text": [
      "F1 Score of model: 0.8956565152271594\n"
     ]
    }
   ],
   "source": [
    "# 2*true positive /( 2*true positive + false positive + false negative)\n",
    "print(f\"F1 Score of model: {f1_score(y_test, y_pred)}\")"
   ]
  },
  {
   "cell_type": "markdown",
   "id": "226f4a80",
   "metadata": {},
   "source": [
    "### Training on Naive bayes"
   ]
  },
  {
   "cell_type": "code",
   "execution_count": 41,
   "id": "1cda9b05",
   "metadata": {},
   "outputs": [
    {
     "data": {
      "text/plain": [
       "GaussianNB()"
      ]
     },
     "execution_count": 41,
     "metadata": {},
     "output_type": "execute_result"
    }
   ],
   "source": [
    "from sklearn.naive_bayes import GaussianNB\n",
    "bayes = GaussianNB()\n",
    "bayes.fit(X_train, y_train)"
   ]
  },
  {
   "cell_type": "code",
   "execution_count": 42,
   "id": "f1110274",
   "metadata": {},
   "outputs": [
    {
     "name": "stdout",
     "output_type": "stream",
     "text": [
      "[[1 1]\n",
      " [1 1]\n",
      " [1 1]\n",
      " ...\n",
      " [1 1]\n",
      " [0 0]\n",
      " [0 0]]\n",
      "[1 1 1 ... 1 0 0]\n"
     ]
    }
   ],
   "source": [
    "y_pred = bayes.predict(X_test)\n",
    "print(np.concatenate((y_pred.reshape(len(y_pred),1), y_test.reshape(len(y_test),1)), 1))\n",
    "print(y_pred)"
   ]
  },
  {
   "cell_type": "code",
   "execution_count": 43,
   "id": "eda519dc",
   "metadata": {},
   "outputs": [
    {
     "name": "stdout",
     "output_type": "stream",
     "text": [
      "[[2083   72]\n",
      " [1032 1041]]\n",
      "Accuracy of model: 0.738883632923368\n"
     ]
    }
   ],
   "source": [
    "# Making the Confusion Matrix\n",
    "from sklearn.metrics import confusion_matrix, accuracy_score, recall_score, f1_score, precision_score\n",
    "cm = confusion_matrix(y_test, y_pred)\n",
    "print(cm)\n",
    "print(f\"Accuracy of model: {accuracy_score(y_test, y_pred)}\")"
   ]
  },
  {
   "cell_type": "code",
   "execution_count": 44,
   "id": "ae396d4b",
   "metadata": {},
   "outputs": [
    {
     "name": "stdout",
     "output_type": "stream",
     "text": [
      "Recall Score of model: 0.5021707670043415\n"
     ]
    }
   ],
   "source": [
    "# Recall = TruePositives / (TruePositives + FalseNegatives)\n",
    "print(f\"Recall Score of model: {recall_score(y_test, y_pred)}\")"
   ]
  },
  {
   "cell_type": "code",
   "execution_count": 45,
   "id": "b80e7fb4",
   "metadata": {},
   "outputs": [
    {
     "name": "stdout",
     "output_type": "stream",
     "text": [
      "F1 Score of model: 0.6534839924670433\n"
     ]
    }
   ],
   "source": [
    "# 2*true positive /( 2*true positive + false positive + false negative)\n",
    "print(f\"F1 Score of model: {f1_score(y_test, y_pred)}\")"
   ]
  },
  {
   "cell_type": "markdown",
   "id": "5624866d",
   "metadata": {},
   "source": [
    "### Training with Kernel SVM"
   ]
  },
  {
   "cell_type": "code",
   "execution_count": 46,
   "id": "05ba30bc",
   "metadata": {},
   "outputs": [
    {
     "data": {
      "text/plain": [
       "SVC(random_state=0)"
      ]
     },
     "execution_count": 46,
     "metadata": {},
     "output_type": "execute_result"
    }
   ],
   "source": [
    "from sklearn.svm import SVC\n",
    "kernel_svm = SVC(kernel = 'rbf', random_state = 0)\n",
    "kernel_svm.fit(X_train, y_train)"
   ]
  },
  {
   "cell_type": "code",
   "execution_count": 47,
   "id": "ec42bcad",
   "metadata": {},
   "outputs": [
    {
     "name": "stdout",
     "output_type": "stream",
     "text": [
      "[[1 1]\n",
      " [1 1]\n",
      " [1 1]\n",
      " ...\n",
      " [1 1]\n",
      " [1 0]\n",
      " [0 0]]\n"
     ]
    }
   ],
   "source": [
    "y_pred = kernel_svm.predict(X_test)\n",
    "print(np.concatenate((y_pred.reshape(len(y_pred),1), y_test.reshape(len(y_test),1)),1))"
   ]
  },
  {
   "cell_type": "code",
   "execution_count": 48,
   "id": "679f0b13",
   "metadata": {},
   "outputs": [
    {
     "name": "stdout",
     "output_type": "stream",
     "text": [
      "[[2052  103]\n",
      " [ 386 1687]]\n"
     ]
    },
    {
     "data": {
      "text/plain": [
       "0.8843424787133396"
      ]
     },
     "execution_count": 48,
     "metadata": {},
     "output_type": "execute_result"
    }
   ],
   "source": [
    "from sklearn.metrics import confusion_matrix, accuracy_score, recall_score, f1_score\n",
    "cm = confusion_matrix(y_test, y_pred)\n",
    "print(cm)\n",
    "accuracy_score(y_test, y_pred)"
   ]
  },
  {
   "cell_type": "code",
   "execution_count": 49,
   "id": "a53b51ed",
   "metadata": {},
   "outputs": [
    {
     "name": "stdout",
     "output_type": "stream",
     "text": [
      "Recall Score of model: 0.8137964302942595\n"
     ]
    }
   ],
   "source": [
    "# Recall = TruePositives / (TruePositives + FalseNegatives)\n",
    "print(f\"Recall Score of model: {recall_score(y_test, y_pred)}\")"
   ]
  },
  {
   "cell_type": "code",
   "execution_count": 50,
   "id": "162a8247",
   "metadata": {},
   "outputs": [
    {
     "name": "stdout",
     "output_type": "stream",
     "text": [
      "F1 Score of model: 0.8734144447320735\n"
     ]
    }
   ],
   "source": [
    "# 2*true positive /( 2*true positive + false positive + false negative)\n",
    "print(f\"F1 Score of model: {f1_score(y_test, y_pred)}\")"
   ]
  },
  {
   "cell_type": "markdown",
   "id": "da530e38",
   "metadata": {},
   "source": [
    "### Predicting a single input"
   ]
  },
  {
   "cell_type": "code",
   "execution_count": 51,
   "id": "17815608",
   "metadata": {},
   "outputs": [
    {
     "name": "stdout",
     "output_type": "stream",
     "text": [
      "[0]\n",
      "[1]\n"
     ]
    }
   ],
   "source": [
    "# type_num\tamount\tnameOrig\toldbalanceOrg\tnewbalanceOrig\toldbalanceDest\tnewbalanceDest\n",
    "print(classifier.predict(sc.transform([[0,74445.62,1796046115,0.00,0.0,1371784.99,1446230.61]])))\n",
    "\n",
    "print(classifier.predict([[1,63416.99,778071008,63416.99,0.0,0.00,0.00]]))"
   ]
  },
  {
   "cell_type": "markdown",
   "id": "2f4aa95a",
   "metadata": {},
   "source": [
    "We can see from above prediction that it came up with correct prediction for the above query"
   ]
  },
  {
   "cell_type": "markdown",
   "id": "4018e9fc",
   "metadata": {},
   "source": [
    "### Saving our model"
   ]
  },
  {
   "cell_type": "code",
   "execution_count": 52,
   "id": "e1768963",
   "metadata": {},
   "outputs": [],
   "source": [
    "# import pickle\n",
    "\n",
    "# # Dumping our model into a file\n",
    "# with open('fraud_model.bin', 'wb') as f_out:\n",
    "#     pickle.dump(classifier, f_out)"
   ]
  },
  {
   "cell_type": "markdown",
   "id": "bca7092a",
   "metadata": {},
   "source": [
    "### Trying our pickle model"
   ]
  },
  {
   "cell_type": "code",
   "execution_count": 53,
   "id": "3ab79a1e",
   "metadata": {},
   "outputs": [],
   "source": [
    "# with open('fraud_model.bin', 'rb') as f_in:\n",
    "#     model2 = pickle.load(f_in)"
   ]
  },
  {
   "cell_type": "code",
   "execution_count": 55,
   "id": "1a81f32d",
   "metadata": {},
   "outputs": [
    {
     "data": {
      "text/plain": [
       "array([1], dtype=int64)"
      ]
     },
     "execution_count": 55,
     "metadata": {},
     "output_type": "execute_result"
    }
   ],
   "source": [
    "# predicting the single value which we predicted before\n",
    "# predict_mpg(sc.transform([[3, 14650.1, 908817173, 19373.0, 4722.9, 0.0, 0.0,]]), model)\n",
    "\n",
    "model2.predict(sc.transform([[2, 14650.1, 908817173, 19373.0, 4722.9, 0.0, 0.0]]))"
   ]
  },
  {
   "cell_type": "markdown",
   "id": "ac884409",
   "metadata": {},
   "source": [
    "It gives the same result from before, it means our model is working fine"
   ]
  }
 ],
 "metadata": {
  "kernelspec": {
   "display_name": "Python 3 (ipykernel)",
   "language": "python",
   "name": "python3"
  },
  "language_info": {
   "codemirror_mode": {
    "name": "ipython",
    "version": 3
   },
   "file_extension": ".py",
   "mimetype": "text/x-python",
   "name": "python",
   "nbconvert_exporter": "python",
   "pygments_lexer": "ipython3",
   "version": "3.9.7"
  }
 },
 "nbformat": 4,
 "nbformat_minor": 5
}
